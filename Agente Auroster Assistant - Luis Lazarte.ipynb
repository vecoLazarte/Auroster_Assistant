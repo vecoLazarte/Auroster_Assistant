{
 "cells": [
  {
   "cell_type": "code",
   "execution_count": 20,
   "id": "31bef848",
   "metadata": {},
   "outputs": [],
   "source": [
    "import os\n",
    "import pandas as pd\n",
    "import warnings\n",
    "warnings.filterwarnings(\"ignore\")\n",
    "import textwrap\n",
    "from tqdm import tqdm\n",
    "import matplotlib.pyplot as plt\n",
    "import re\n",
    "from typing import TypedDict, List, Optional\n",
    "tqdm.pandas()\n",
    "from datetime import datetime, timedelta\n",
    "import ast\n",
    "import nltk\n",
    "from nltk.corpus import stopwords\n",
    "from nltk.tokenize import word_tokenize\n",
    "stop_words = set(stopwords.words('spanish'))\n",
    "from nltk.stem.snowball import SnowballStemmer\n",
    "stemmer = SnowballStemmer(\"spanish\")\n",
    "import uuid\n",
    "from google.cloud import storage\n",
    "# --------------- LLAMA --------------------------\n",
    "from llama_index.readers.web import HyperbrowserWebReader\n",
    "from llama_index.core.schema import Document\n",
    "from llama_index.core.extractors import TitleExtractor\n",
    "from llama_index.embeddings.openai import OpenAIEmbedding\n",
    "from llama_index.core.node_parser import SemanticSplitterNodeParser\n",
    "from llama_index.core.ingestion import IngestionPipeline\n",
    "from llama_index.vector_stores.elasticsearch import ElasticsearchStore as le\n",
    "from llama_index.core import StorageContext, VectorStoreIndex"
   ]
  },
  {
   "cell_type": "code",
   "execution_count": 19,
   "id": "6f5fa3ed",
   "metadata": {},
   "outputs": [
    {
     "name": "stderr",
     "output_type": "stream",
     "text": [
      "[nltk_data] Downloading package punkt to\n",
      "[nltk_data]     C:\\Users\\Omen\\AppData\\Roaming\\nltk_data...\n",
      "[nltk_data]   Package punkt is already up-to-date!\n",
      "[nltk_data] Downloading package stopwords to\n",
      "[nltk_data]     C:\\Users\\Omen\\AppData\\Roaming\\nltk_data...\n",
      "[nltk_data]   Package stopwords is already up-to-date!\n",
      "[nltk_data] Downloading package punkt_tab to\n",
      "[nltk_data]     C:\\Users\\Omen\\AppData\\Roaming\\nltk_data...\n",
      "[nltk_data]   Unzipping tokenizers\\punkt_tab.zip.\n"
     ]
    },
    {
     "data": {
      "text/plain": [
       "True"
      ]
     },
     "execution_count": 19,
     "metadata": {},
     "output_type": "execute_result"
    }
   ],
   "source": [
    "nltk.download('punkt')\n",
    "nltk.download('stopwords')\n",
    "nltk.download('punkt_tab')"
   ]
  },
  {
   "cell_type": "markdown",
   "id": "5895f065",
   "metadata": {},
   "source": [
    "### Variables de entorno"
   ]
  },
  {
   "cell_type": "code",
   "execution_count": 2,
   "id": "e730d4e7",
   "metadata": {},
   "outputs": [],
   "source": [
    "with open(\"APPI OPENAI.txt\") as archivo:\n",
    "  apikey_openai = archivo.read()\n",
    "os.environ[\"OPENAI_API_KEY\"] = apikey_openai"
   ]
  },
  {
   "cell_type": "code",
   "execution_count": 3,
   "id": "eff111ac",
   "metadata": {},
   "outputs": [],
   "source": [
    "with open(\"APPI Hyperbrowser.txt\") as archivo:\n",
    "  apikey_hyper = archivo.read()\n",
    "os.environ[\"HYPERBROWSER_API_KEY\"] = apikey_hyper"
   ]
  },
  {
   "cell_type": "code",
   "execution_count": 3,
   "id": "88bdb2d8",
   "metadata": {},
   "outputs": [],
   "source": [
    "with open(\"postgrest.txt\") as archivo:\n",
    "  uribd = archivo.read()"
   ]
  },
  {
   "cell_type": "code",
   "execution_count": 4,
   "id": "9c9af5b8",
   "metadata": {},
   "outputs": [],
   "source": [
    "os.environ[\"GOOGLE_APPLICATION_CREDENTIALS\"] = \"credenciales.json\""
   ]
  },
  {
   "cell_type": "code",
   "execution_count": 5,
   "id": "b75c4057",
   "metadata": {},
   "outputs": [],
   "source": [
    "os.environ[\"LANGSMITH_ENDPOINT\"]=\"https://api.smith.langchain.com\"\n",
    "os.environ[\"LANGCHAIN_API_KEY\"] = \"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\"\n",
    "os.environ[\"LANGCHAIN_TRACING_V2\"] = \"true\"\n",
    "os.environ[\"LANGCHAIN_PROJECT\"] = \"gcpaiagent\""
   ]
  },
  {
   "cell_type": "markdown",
   "id": "d72b7b67",
   "metadata": {},
   "source": [
    "### Importamos base de datos"
   ]
  },
  {
   "cell_type": "code",
   "execution_count": 7,
   "id": "a29ac3c5",
   "metadata": {},
   "outputs": [],
   "source": [
    "noticias_raw1 = pd.read_excel('Noticias_Peru21.xlsx')\n",
    "noticias_raw2 = pd.read_excel('Noticias_correo.xlsx')\n",
    "noticias_raw3 = pd.read_excel('Noticias_ElComercio.xlsx')\n",
    "noticias_raw4 = pd.read_excel('Noticias_Exitosa.xlsx')"
   ]
  },
  {
   "cell_type": "code",
   "execution_count": 8,
   "id": "b71c260e",
   "metadata": {},
   "outputs": [],
   "source": [
    "noticias_raw = pd.concat([noticias_raw1,noticias_raw2,noticias_raw3,noticias_raw4])"
   ]
  },
  {
   "cell_type": "code",
   "execution_count": 9,
   "id": "9b3dd0f2",
   "metadata": {},
   "outputs": [
    {
     "data": {
      "text/plain": [
       "url             0\n",
       "titulo          0\n",
       "texto           7\n",
       "fecha           0\n",
       "distrito        0\n",
       "departamento    0\n",
       "pais            0\n",
       "dtype: int64"
      ]
     },
     "execution_count": 9,
     "metadata": {},
     "output_type": "execute_result"
    }
   ],
   "source": [
    "noticias_raw.isnull().sum()"
   ]
  },
  {
   "cell_type": "code",
   "execution_count": 10,
   "id": "22df5efd",
   "metadata": {},
   "outputs": [],
   "source": [
    "noticias_raw['fecha'] = pd.to_datetime(noticias_raw['fecha'], format='%d/%m/%Y', errors='coerce')\n",
    "noticias_raw = noticias_raw.dropna()\n",
    "noticias_raw['fecha'] = pd.to_datetime(noticias_raw['fecha'], format='%d/%m/%Y').dt.strftime('%Y/%m/%d')"
   ]
  },
  {
   "cell_type": "code",
   "execution_count": 11,
   "id": "f1e85d9f",
   "metadata": {},
   "outputs": [
    {
     "data": {
      "text/plain": [
       "url             0\n",
       "titulo          0\n",
       "texto           0\n",
       "fecha           0\n",
       "distrito        0\n",
       "departamento    0\n",
       "pais            0\n",
       "dtype: int64"
      ]
     },
     "execution_count": 11,
     "metadata": {},
     "output_type": "execute_result"
    }
   ],
   "source": [
    "noticias_raw.isnull().sum()"
   ]
  },
  {
   "cell_type": "code",
   "execution_count": 12,
   "id": "b551d5ff",
   "metadata": {},
   "outputs": [
    {
     "data": {
      "text/html": [
       "<div>\n",
       "<style scoped>\n",
       "    .dataframe tbody tr th:only-of-type {\n",
       "        vertical-align: middle;\n",
       "    }\n",
       "\n",
       "    .dataframe tbody tr th {\n",
       "        vertical-align: top;\n",
       "    }\n",
       "\n",
       "    .dataframe thead th {\n",
       "        text-align: right;\n",
       "    }\n",
       "</style>\n",
       "<table border=\"1\" class=\"dataframe\">\n",
       "  <thead>\n",
       "    <tr style=\"text-align: right;\">\n",
       "      <th></th>\n",
       "      <th>url</th>\n",
       "      <th>titulo</th>\n",
       "      <th>texto</th>\n",
       "      <th>fecha</th>\n",
       "      <th>distrito</th>\n",
       "      <th>departamento</th>\n",
       "      <th>pais</th>\n",
       "    </tr>\n",
       "  </thead>\n",
       "  <tbody>\n",
       "    <tr>\n",
       "      <th>0</th>\n",
       "      <td>https://peru21.pe/peru/medios-deberan-tener-fr...</td>\n",
       "      <td>Medios deberán tener 'franja educativa' para a...</td>\n",
       "      <td>El Congreso aprobó la Ley N° 32351, que modifi...</td>\n",
       "      <td>2025/05/27</td>\n",
       "      <td>['Independencia']</td>\n",
       "      <td>['La Libertad']</td>\n",
       "      <td>[\"perú\"]</td>\n",
       "    </tr>\n",
       "    <tr>\n",
       "      <th>1</th>\n",
       "      <td>https://peru21.pe/peru/chiclayo-detienen-profe...</td>\n",
       "      <td>Chiclayo: detienen a profesor por acosar sexua...</td>\n",
       "      <td>La madre de la menor reportó mensajes y fotogr...</td>\n",
       "      <td>2025/04/16</td>\n",
       "      <td>[]</td>\n",
       "      <td>[]</td>\n",
       "      <td>[\"perú\"]</td>\n",
       "    </tr>\n",
       "    <tr>\n",
       "      <th>2</th>\n",
       "      <td>https://peru21.pe/lima/miraflores-sujeto-que-h...</td>\n",
       "      <td>Miraflores: Sujeto violento que hirió con fuen...</td>\n",
       "      <td>Jueza Susana Quispe, del Cuarto Juzgado de Inv...</td>\n",
       "      <td>2025/03/26</td>\n",
       "      <td>['Lima', 'Miraflores']</td>\n",
       "      <td>['Lima']</td>\n",
       "      <td>[\"perú\"]</td>\n",
       "    </tr>\n",
       "    <tr>\n",
       "      <th>3</th>\n",
       "      <td>https://peru21.pe/lima/atacante-de-miraflores-...</td>\n",
       "      <td>Atacante de Miraflores también agredió a su ex...</td>\n",
       "      <td>Julio Diego Aurelio Solari Zapata fue denuncia...</td>\n",
       "      <td>2025/03/24</td>\n",
       "      <td>['Miraflores', 'San Isidro']</td>\n",
       "      <td>[]</td>\n",
       "      <td>[\"perú\"]</td>\n",
       "    </tr>\n",
       "    <tr>\n",
       "      <th>4</th>\n",
       "      <td>https://peru21.pe/mundo/la-senal-de-auxilio-gl...</td>\n",
       "      <td>La señal de auxilio global que puede salvar la...</td>\n",
       "      <td>El sencillo gesto de abrir la palma de la mano...</td>\n",
       "      <td>2025/02/20</td>\n",
       "      <td>[]</td>\n",
       "      <td>[]</td>\n",
       "      <td>[\"canadá\", \"méxico\", \"estados unidos\", \"perú\"]</td>\n",
       "    </tr>\n",
       "    <tr>\n",
       "      <th>...</th>\n",
       "      <td>...</td>\n",
       "      <td>...</td>\n",
       "      <td>...</td>\n",
       "      <td>...</td>\n",
       "      <td>...</td>\n",
       "      <td>...</td>\n",
       "      <td>...</td>\n",
       "    </tr>\n",
       "    <tr>\n",
       "      <th>1009</th>\n",
       "      <td>https://www.exitosanoticias.pe/actualidad/denu...</td>\n",
       "      <td>Denuncia a Christian Cueva: \"El intento de fem...</td>\n",
       "      <td>En el marco de la denuncia contra Christian Cu...</td>\n",
       "      <td>2024/08/20</td>\n",
       "      <td>[]</td>\n",
       "      <td>[]</td>\n",
       "      <td>[\"perú\"]</td>\n",
       "    </tr>\n",
       "    <tr>\n",
       "      <th>1010</th>\n",
       "      <td>https://www.exitosanoticias.pe/espectaculos/ch...</td>\n",
       "      <td>Christian Cueva iría a prisión por feminicidio...</td>\n",
       "      <td>El futbolista Christian Cueva se ve en serios ...</td>\n",
       "      <td>2024/08/19</td>\n",
       "      <td>[]</td>\n",
       "      <td>[]</td>\n",
       "      <td>[]</td>\n",
       "    </tr>\n",
       "    <tr>\n",
       "      <th>1011</th>\n",
       "      <td>https://www.exitosanoticias.pe/espectaculos/pa...</td>\n",
       "      <td>Pamela López denuncia que Christian Cueva la g...</td>\n",
       "      <td>Pamela López denunció que su esposo, Christian...</td>\n",
       "      <td>2024/08/19</td>\n",
       "      <td>[]</td>\n",
       "      <td>[]</td>\n",
       "      <td>[]</td>\n",
       "    </tr>\n",
       "    <tr>\n",
       "      <th>1012</th>\n",
       "      <td>https://www.exitosanoticias.pe/actualidad/salg...</td>\n",
       "      <td>\"Salga de su zona de confort\": Sasieta critica...</td>\n",
       "      <td>Ante el reciente caso de feminicidio en Chorri...</td>\n",
       "      <td>2024/08/14</td>\n",
       "      <td>['Chorrillos']</td>\n",
       "      <td>[]</td>\n",
       "      <td>[\"perú\"]</td>\n",
       "    </tr>\n",
       "    <tr>\n",
       "      <th>1013</th>\n",
       "      <td>https://www.exitosanoticias.pe/policial/chorri...</td>\n",
       "      <td>Chorrillos: ¡De terror! Hombre asesina a su ex...</td>\n",
       "      <td>Un sangriento feminicidio ha remecido Chorrill...</td>\n",
       "      <td>2024/08/13</td>\n",
       "      <td>['Chorrillos']</td>\n",
       "      <td>[]</td>\n",
       "      <td>[\"perú\"]</td>\n",
       "    </tr>\n",
       "  </tbody>\n",
       "</table>\n",
       "<p>1014 rows × 7 columns</p>\n",
       "</div>"
      ],
      "text/plain": [
       "                                                    url  \\\n",
       "0     https://peru21.pe/peru/medios-deberan-tener-fr...   \n",
       "1     https://peru21.pe/peru/chiclayo-detienen-profe...   \n",
       "2     https://peru21.pe/lima/miraflores-sujeto-que-h...   \n",
       "3     https://peru21.pe/lima/atacante-de-miraflores-...   \n",
       "4     https://peru21.pe/mundo/la-senal-de-auxilio-gl...   \n",
       "...                                                 ...   \n",
       "1009  https://www.exitosanoticias.pe/actualidad/denu...   \n",
       "1010  https://www.exitosanoticias.pe/espectaculos/ch...   \n",
       "1011  https://www.exitosanoticias.pe/espectaculos/pa...   \n",
       "1012  https://www.exitosanoticias.pe/actualidad/salg...   \n",
       "1013  https://www.exitosanoticias.pe/policial/chorri...   \n",
       "\n",
       "                                                 titulo  \\\n",
       "0     Medios deberán tener 'franja educativa' para a...   \n",
       "1     Chiclayo: detienen a profesor por acosar sexua...   \n",
       "2     Miraflores: Sujeto violento que hirió con fuen...   \n",
       "3     Atacante de Miraflores también agredió a su ex...   \n",
       "4     La señal de auxilio global que puede salvar la...   \n",
       "...                                                 ...   \n",
       "1009  Denuncia a Christian Cueva: \"El intento de fem...   \n",
       "1010  Christian Cueva iría a prisión por feminicidio...   \n",
       "1011  Pamela López denuncia que Christian Cueva la g...   \n",
       "1012  \"Salga de su zona de confort\": Sasieta critica...   \n",
       "1013  Chorrillos: ¡De terror! Hombre asesina a su ex...   \n",
       "\n",
       "                                                  texto       fecha  \\\n",
       "0     El Congreso aprobó la Ley N° 32351, que modifi...  2025/05/27   \n",
       "1     La madre de la menor reportó mensajes y fotogr...  2025/04/16   \n",
       "2     Jueza Susana Quispe, del Cuarto Juzgado de Inv...  2025/03/26   \n",
       "3     Julio Diego Aurelio Solari Zapata fue denuncia...  2025/03/24   \n",
       "4     El sencillo gesto de abrir la palma de la mano...  2025/02/20   \n",
       "...                                                 ...         ...   \n",
       "1009  En el marco de la denuncia contra Christian Cu...  2024/08/20   \n",
       "1010  El futbolista Christian Cueva se ve en serios ...  2024/08/19   \n",
       "1011  Pamela López denunció que su esposo, Christian...  2024/08/19   \n",
       "1012  Ante el reciente caso de feminicidio en Chorri...  2024/08/14   \n",
       "1013  Un sangriento feminicidio ha remecido Chorrill...  2024/08/13   \n",
       "\n",
       "                          distrito     departamento  \\\n",
       "0                ['Independencia']  ['La Libertad']   \n",
       "1                               []               []   \n",
       "2           ['Lima', 'Miraflores']         ['Lima']   \n",
       "3     ['Miraflores', 'San Isidro']               []   \n",
       "4                               []               []   \n",
       "...                            ...              ...   \n",
       "1009                            []               []   \n",
       "1010                            []               []   \n",
       "1011                            []               []   \n",
       "1012                ['Chorrillos']               []   \n",
       "1013                ['Chorrillos']               []   \n",
       "\n",
       "                                                pais  \n",
       "0                                           [\"perú\"]  \n",
       "1                                           [\"perú\"]  \n",
       "2                                           [\"perú\"]  \n",
       "3                                           [\"perú\"]  \n",
       "4     [\"canadá\", \"méxico\", \"estados unidos\", \"perú\"]  \n",
       "...                                              ...  \n",
       "1009                                        [\"perú\"]  \n",
       "1010                                              []  \n",
       "1011                                              []  \n",
       "1012                                        [\"perú\"]  \n",
       "1013                                        [\"perú\"]  \n",
       "\n",
       "[1014 rows x 7 columns]"
      ]
     },
     "execution_count": 12,
     "metadata": {},
     "output_type": "execute_result"
    }
   ],
   "source": [
    "noticias_raw = noticias_raw.reset_index(drop=True)\n",
    "noticias_raw"
   ]
  },
  {
   "cell_type": "code",
   "execution_count": 13,
   "id": "32fbc2a2",
   "metadata": {},
   "outputs": [
    {
     "name": "stderr",
     "output_type": "stream",
     "text": [
      "100%|██████████| 1014/1014 [00:00<00:00, 110193.39it/s]\n"
     ]
    }
   ],
   "source": [
    "noticias_raw['pais'] = noticias_raw['pais'].progress_apply(\n",
    "    lambda x: ['perú'] if len(ast.literal_eval(x)) == 0 else ast.literal_eval(x)\n",
    ")"
   ]
  },
  {
   "cell_type": "code",
   "execution_count": 14,
   "id": "edb953a1",
   "metadata": {},
   "outputs": [
    {
     "name": "stderr",
     "output_type": "stream",
     "text": [
      "100%|██████████| 1014/1014 [00:00<00:00, 113951.83it/s]\n"
     ]
    }
   ],
   "source": [
    "noticias_raw['distrito'] = noticias_raw['distrito'].progress_apply(\n",
    "    lambda x: [] if len(ast.literal_eval(x)) == 0 else ast.literal_eval(x)\n",
    ")"
   ]
  },
  {
   "cell_type": "code",
   "execution_count": 15,
   "id": "7cca5bdc",
   "metadata": {},
   "outputs": [
    {
     "name": "stderr",
     "output_type": "stream",
     "text": [
      "100%|██████████| 1014/1014 [00:00<00:00, 115867.28it/s]\n"
     ]
    }
   ],
   "source": [
    "noticias_raw['departamento'] = noticias_raw['departamento'].progress_apply(\n",
    "    lambda x: [] if len(ast.literal_eval(x)) == 0 else ast.literal_eval(x)\n",
    ")"
   ]
  },
  {
   "cell_type": "code",
   "execution_count": 16,
   "id": "a85e0f0c",
   "metadata": {},
   "outputs": [
    {
     "name": "stderr",
     "output_type": "stream",
     "text": [
      "100%|██████████| 1014/1014 [00:00<00:00, 177091.28it/s]\n"
     ]
    }
   ],
   "source": [
    "noticias_raw['departamento'] = noticias_raw.progress_apply(\n",
    "    lambda x: ['Lima'] if len(x['distrito']) != 0 and len(x['departamento']) == 0 else x['departamento'],\n",
    "    axis=1\n",
    ")"
   ]
  },
  {
   "cell_type": "code",
   "execution_count": 17,
   "id": "7a307afd",
   "metadata": {},
   "outputs": [
    {
     "name": "stderr",
     "output_type": "stream",
     "text": [
      "100%|██████████| 1014/1014 [00:00<?, ?it/s]\n"
     ]
    }
   ],
   "source": [
    "noticias_raw['test'] = noticias_raw['pais'].progress_apply(\n",
    "    lambda x: True if 'perú' in x else False\n",
    ")"
   ]
  },
  {
   "cell_type": "code",
   "execution_count": 18,
   "id": "5a75644d",
   "metadata": {},
   "outputs": [],
   "source": [
    "noticias_raw = noticias_raw[noticias_raw['test']]\n",
    "noticias_raw = noticias_raw.reset_index(drop=True)"
   ]
  },
  {
   "cell_type": "code",
   "execution_count": 21,
   "id": "e265cf15",
   "metadata": {},
   "outputs": [
    {
     "data": {
      "text/html": [
       "<div>\n",
       "<style scoped>\n",
       "    .dataframe tbody tr th:only-of-type {\n",
       "        vertical-align: middle;\n",
       "    }\n",
       "\n",
       "    .dataframe tbody tr th {\n",
       "        vertical-align: top;\n",
       "    }\n",
       "\n",
       "    .dataframe thead th {\n",
       "        text-align: right;\n",
       "    }\n",
       "</style>\n",
       "<table border=\"1\" class=\"dataframe\">\n",
       "  <thead>\n",
       "    <tr style=\"text-align: right;\">\n",
       "      <th></th>\n",
       "      <th>url</th>\n",
       "      <th>titulo</th>\n",
       "      <th>texto</th>\n",
       "      <th>fecha</th>\n",
       "      <th>distrito</th>\n",
       "      <th>departamento</th>\n",
       "      <th>pais</th>\n",
       "      <th>test</th>\n",
       "    </tr>\n",
       "  </thead>\n",
       "  <tbody>\n",
       "    <tr>\n",
       "      <th>0</th>\n",
       "      <td>https://peru21.pe/peru/medios-deberan-tener-fr...</td>\n",
       "      <td>Medios deberán tener 'franja educativa' para a...</td>\n",
       "      <td>El Congreso aprobó la Ley N° 32351, que modifi...</td>\n",
       "      <td>2025/05/27</td>\n",
       "      <td>[Independencia]</td>\n",
       "      <td>[La Libertad]</td>\n",
       "      <td>[perú]</td>\n",
       "      <td>True</td>\n",
       "    </tr>\n",
       "    <tr>\n",
       "      <th>1</th>\n",
       "      <td>https://peru21.pe/peru/chiclayo-detienen-profe...</td>\n",
       "      <td>Chiclayo: detienen a profesor por acosar sexua...</td>\n",
       "      <td>La madre de la menor reportó mensajes y fotogr...</td>\n",
       "      <td>2025/04/16</td>\n",
       "      <td>[]</td>\n",
       "      <td>[]</td>\n",
       "      <td>[perú]</td>\n",
       "      <td>True</td>\n",
       "    </tr>\n",
       "    <tr>\n",
       "      <th>2</th>\n",
       "      <td>https://peru21.pe/lima/miraflores-sujeto-que-h...</td>\n",
       "      <td>Miraflores: Sujeto violento que hirió con fuen...</td>\n",
       "      <td>Jueza Susana Quispe, del Cuarto Juzgado de Inv...</td>\n",
       "      <td>2025/03/26</td>\n",
       "      <td>[Lima, Miraflores]</td>\n",
       "      <td>[Lima]</td>\n",
       "      <td>[perú]</td>\n",
       "      <td>True</td>\n",
       "    </tr>\n",
       "    <tr>\n",
       "      <th>3</th>\n",
       "      <td>https://peru21.pe/lima/atacante-de-miraflores-...</td>\n",
       "      <td>Atacante de Miraflores también agredió a su ex...</td>\n",
       "      <td>Julio Diego Aurelio Solari Zapata fue denuncia...</td>\n",
       "      <td>2025/03/24</td>\n",
       "      <td>[Miraflores, San Isidro]</td>\n",
       "      <td>[Lima]</td>\n",
       "      <td>[perú]</td>\n",
       "      <td>True</td>\n",
       "    </tr>\n",
       "    <tr>\n",
       "      <th>4</th>\n",
       "      <td>https://peru21.pe/mundo/la-senal-de-auxilio-gl...</td>\n",
       "      <td>La señal de auxilio global que puede salvar la...</td>\n",
       "      <td>El sencillo gesto de abrir la palma de la mano...</td>\n",
       "      <td>2025/02/20</td>\n",
       "      <td>[]</td>\n",
       "      <td>[]</td>\n",
       "      <td>[canadá, méxico, estados unidos, perú]</td>\n",
       "      <td>True</td>\n",
       "    </tr>\n",
       "  </tbody>\n",
       "</table>\n",
       "</div>"
      ],
      "text/plain": [
       "                                                 url  \\\n",
       "0  https://peru21.pe/peru/medios-deberan-tener-fr...   \n",
       "1  https://peru21.pe/peru/chiclayo-detienen-profe...   \n",
       "2  https://peru21.pe/lima/miraflores-sujeto-que-h...   \n",
       "3  https://peru21.pe/lima/atacante-de-miraflores-...   \n",
       "4  https://peru21.pe/mundo/la-senal-de-auxilio-gl...   \n",
       "\n",
       "                                              titulo  \\\n",
       "0  Medios deberán tener 'franja educativa' para a...   \n",
       "1  Chiclayo: detienen a profesor por acosar sexua...   \n",
       "2  Miraflores: Sujeto violento que hirió con fuen...   \n",
       "3  Atacante de Miraflores también agredió a su ex...   \n",
       "4  La señal de auxilio global que puede salvar la...   \n",
       "\n",
       "                                               texto       fecha  \\\n",
       "0  El Congreso aprobó la Ley N° 32351, que modifi...  2025/05/27   \n",
       "1  La madre de la menor reportó mensajes y fotogr...  2025/04/16   \n",
       "2  Jueza Susana Quispe, del Cuarto Juzgado de Inv...  2025/03/26   \n",
       "3  Julio Diego Aurelio Solari Zapata fue denuncia...  2025/03/24   \n",
       "4  El sencillo gesto de abrir la palma de la mano...  2025/02/20   \n",
       "\n",
       "                   distrito   departamento  \\\n",
       "0           [Independencia]  [La Libertad]   \n",
       "1                        []             []   \n",
       "2        [Lima, Miraflores]         [Lima]   \n",
       "3  [Miraflores, San Isidro]         [Lima]   \n",
       "4                        []             []   \n",
       "\n",
       "                                     pais  test  \n",
       "0                                  [perú]  True  \n",
       "1                                  [perú]  True  \n",
       "2                                  [perú]  True  \n",
       "3                                  [perú]  True  \n",
       "4  [canadá, méxico, estados unidos, perú]  True  "
      ]
     },
     "execution_count": 21,
     "metadata": {},
     "output_type": "execute_result"
    }
   ],
   "source": [
    "noticias_raw"
   ]
  },
  {
   "cell_type": "markdown",
   "id": "ec7fc64c",
   "metadata": {},
   "source": [
    "### Ingesta"
   ]
  },
  {
   "cell_type": "code",
   "execution_count": 22,
   "id": "6ab88958",
   "metadata": {},
   "outputs": [
    {
     "name": "stderr",
     "output_type": "stream",
     "text": [
      "100%|██████████| 5/5 [03:32<00:00, 42.57s/it]\n"
     ]
    }
   ],
   "source": [
    "reader = HyperbrowserWebReader(api_key=apikey_hyper)\n",
    "def safe_load(url):\n",
    "    try:\n",
    "        return reader.load_data([url])\n",
    "    except Exception as e:\n",
    "        print(f\"Error al cargar {url}: {e}\")\n",
    "        return None  # o [] si prefieres una lista vacía\n",
    "\n",
    "noticias_raw['document_loader'] = noticias_raw['url'].progress_apply(safe_load)"
   ]
  },
  {
   "cell_type": "code",
   "execution_count": 23,
   "id": "1f09fa98",
   "metadata": {},
   "outputs": [
    {
     "data": {
      "text/plain": [
       "{'url': 'https://peru21.pe/peru/medios-deberan-tener-franja-educativa-para-apoyar-lucha-contra-la-violencia-hacia-las-mujeres/',\n",
       " 'title': \"Medios deberán tener 'franja educativa' para apoyar lucha contra la violencia hacia las mujeres\",\n",
       " 'author': 'Perú 21',\n",
       " 'og:url': 'https://peru21.pe/peru/medios-deberan-tener-franja-educativa-para-apoyar-lucha-contra-la-violencia-hacia-las-mujeres/',\n",
       " 'robots': 'follow',\n",
       " 'og:type': 'article',\n",
       " 'abstract': 'Noticias del Perú y del mundo en peru21.pe - Ultimas noticias de política, deportes, espectáculos, fútbol, economía, mundo, tecnología, cultura, ciencia y más...',\n",
       " 'keywords': 'Violencia contra la mujer,Violencia familiar,Medios de comunicación,Libertad de prensa',\n",
       " 'og:image': 'http://peru21.pe/sites/default/efsfiles/styles/amp_1200x675_16_9/public/2025-05/television.jpg?itok=7pZmAQmf',\n",
       " 'og:title': \"Medios deberán tener 'franja educativa' para apoyar lucha contra la violencia hacia las mujeres\",\n",
       " 'viewport': 'width=device-width, initial-scale=1.0',\n",
       " 'Generator': 'Drupal 9 (https://www.drupal.org)',\n",
       " 'fb:app_id': '1667917060088448',\n",
       " 'generator': 'Sirius Publisher',\n",
       " 'link:icon': 'https://peru21.pe/sites/default/efsfiles/favicon.png',\n",
       " 'og:locale': 'es_PE',\n",
       " 'sourceURL': 'https://peru21.pe/peru/medios-deberan-tener-franja-educativa-para-apoyar-lucha-contra-la-violencia-hacia-las-mujeres',\n",
       " 'article:tag': ['Violencia contra la mujer',\n",
       "  'Violencia familiar',\n",
       "  'Medios de comunicación',\n",
       "  'Libertad de prensa'],\n",
       " 'description': 'Medios deberán promover la defensa de víctimas de violencia familiar, según nueva ley',\n",
       " 'link:amphtml': 'https://peru21.pe/peru/medios-deberan-tener-franja-educativa-para-apoyar-lucha-contra-la-violencia-hacia-las-mujeres/?amp',\n",
       " 'og:site_name': 'Perú 21',\n",
       " 'twitter:card': 'summary_large_image',\n",
       " 'twitter:site': '@peru21',\n",
       " 'twitter:image': 'http://peru21.pe/sites/default/efsfiles/2025-05/television.jpg',\n",
       " 'twitter:title': \"Medios deberán tener 'franja educativa' para apoyar lucha contra la violencia hacia las mujeres\",\n",
       " 'article:author': 'Esther Vargas',\n",
       " 'link:canonical': 'https://peru21.pe/peru/medios-deberan-tener-franja-educativa-para-apoyar-lucha-contra-la-violencia-hacia-las-mujeres/',\n",
       " 'og:description': 'El Congreso aprobó la Ley N° 32351, que modifica la Ley 30364, y obliga a los medios de comunicación a incluir contenidos educativos contra la violencia familiar y garantizar un tratamiento respetuoso de las víctimas.',\n",
       " 'MobileOptimized': 'width',\n",
       " 'article:section': 'Perú',\n",
       " 'link:preconnect': 'https://servicer.mgid.com/',\n",
       " 'link:stylesheet': 'https://www.google.com/cse/static/style/look/v4/default.css',\n",
       " 'HandheldFriendly': 'true',\n",
       " 'link:dns-prefetch': 'https://peru21-pe.b-cdn.net/',\n",
       " 'og:image:secure_url': 'https://peru21.pe/sites/default/efsfiles/styles/amp_1200x675_16_9/public/2025-05/television.jpg?itok=7pZmAQmf',\n",
       " 'twitter:description': 'El Congreso aprobó la Ley N° 32351, que modifica la Ley 30364, y obliga a los medios de comunicación a incluir contenidos educativos contra la violencia familiar y garantizar un tratamiento respetuoso de las víctimas.',\n",
       " 'link:compression-dictionary': 'https://securepubads.g.doubleclick.net/pagead/managed/dict/m202506120101/gpt'}"
      ]
     },
     "execution_count": 23,
     "metadata": {},
     "output_type": "execute_result"
    }
   ],
   "source": [
    "noticias_raw.document_loader[0][0].metadata"
   ]
  },
  {
   "cell_type": "code",
   "execution_count": 24,
   "id": "db04bd02",
   "metadata": {},
   "outputs": [
    {
     "name": "stdout",
     "output_type": "stream",
     "text": [
      "Medios deberán tener 'franja educativa' para apoyar lucha contra la violencia hacia las\n",
      "mujeres[Pasar al contenido principal](https://peru21.pe/peru/medios-deberan-tener-franja-\n",
      "educativa-para-apoyar-lucha-contra-la-violencia-hacia-las-mujeres#main-content)\n",
      "[![](https://peru21.pe/white-logo.png)](https://peru21.pe/)  [Ashley\n",
      "Vargas](https://peru21.pe/noticias/ashley-vargas-mendoza/)  [Crisis en\n",
      "Pataz](https://peru21.pe/noticias/pataz/)  [Copa\n",
      "Libertadores](https://peru21.pe/noticias/copa-libertadores/)\n",
      "[Huariqueando](https://peru21.pe/noticias/huariqueando/)\n",
      "[#DileNoalGotaaGota](https://peru21.pe/noticias/dilenoalgotaagota/)\n",
      "[#GenéricosEficacesYa](https://peru21.pe/noticias/genericos-eficaces-ya/)\n",
      "[#NiñoPeruanoComeSano](https://peru21.pe/noticias/ninoperuanocomesano/)  PUBLICIDAD\n",
      "[Perú](https://peru21.pe/peru/)  - [Compartir en Whatsapp](whatsapp://send?text=Medios%20d\n",
      "eber%C3%A1n%20tener%20%27franja%20educativa%27%20para%20apoyar%20lucha%20contra%20la%20vio\n",
      "lencia%20hacia%20las%20mujeres%20https%3A%2F%2Fperu21.pe%2Fperu%2Fmedios-deberan-tener-\n",
      "franja-educativa-para-apoyar-lucha-contra-la-violencia-hacia-las-mujeres%2F \"Compartir en\n",
      "Whatsapp\") - [Compartir en Facebook](https://www.facebook.com/sharer/sharer.php?u=https%3A\n",
      "%2F%2Fperu21.pe%2Fperu%2Fmedios-deberan-tener-franja-educativa-para-apoyar-lucha-contra-\n",
      "la-violencia-hacia-las-mujeres%2F \"Compartir en Facebook\") - [Compartir en Twitter](https:\n",
      "//twitter.com/intent/tweet?text=Medios%20deber%C3%A1n%20tener%20%27franja%20educativa%27%2\n",
      "0para%20apoyar%20lucha%20contra%20la%20violencia%20hacia%20las%20mujeres&url=https%3A%2F%2\n",
      "Fperu21.pe%2Fperu%2Fmedios-deberan-tener-franja-educativa-para-apoyar-lucha-contra-la-\n",
      "violencia-hacia-las-mujeres%2F \"Compartir en Twitter\") - [Compartir en LinkedIn](https://w\n",
      "ww.linkedin.com/shareArticle?mini=true&summary=Medios%20deber%C3%A1n%20promover%20la%20def\n",
      "ensa%20de%20v%C3%ADctimas%20de%20violencia%20familiar%2C%20seg%C3%BAn%20nueva%20ley&title=\n",
      "Medios%20deber%C3%A1n%20tener%20%27franja%20educativa%27%20para%20apoyar%20lucha%20contra%\n",
      "20la%20violencia%20hacia%20las%20mujeres&url=https%3A%2F%2Fperu21.pe%2Fperu%2Fmedios-\n",
      "deberan-tener-franja-educativa-para-apoyar-lucha-contra-la-violencia-hacia-las-mujeres%2F\n",
      "\"Compartir en LinkedIn\") - [Enviar por email](mailto:?subject=Medios%20deber%C3%A1n%20tene\n",
      "r%20%27franja%20educativa%27%20para%20apoyar%20lucha%20contra%20la%20violencia%20hacia%20l\n",
      "as%20mujeres&body=https%3A%2F%2Fperu21.pe%2Fperu%2Fmedios-deberan-tener-franja-educativa-\n",
      "para-apoyar-lucha-contra-la-violencia-hacia-las-mujeres%2F \"Enviar por email\")  # Medios\n",
      "deberán tener 'franja educativa' para apoyar lucha contra la violencia hacia las mujeres\n",
      "El Congreso aprobó la Ley N° 32351, que modifica la Ley 30364, y obliga a los medios de\n",
      "comunicación a incluir contenidos educativos contra la violencia familiar y garantizar un\n",
      "tratamiento respetuoso de las víctimas.  Imagen\n",
      "![Television](https://peru21.pe/sites/default/efsfiles/2025-05/television.jpg)  Los medios\n",
      "deben ceder un espacio gratuito para educar y prevenir la violencia contra mujeres y\n",
      "familias, según la norma. Foto: Pexels.  [Esther Vargas](https://peru21.pe/autor/esther-\n",
      "vargas/)  Fecha Actualización  27/05/2025 - 09:59  Escucha esta nota  **Los medios de\n",
      "comunicación del país están obligados** a participar de la lucha contra la [violencia\n",
      "hacia las mujeres](https://peru21.pe/noticias/violencia-contra-la-mujer/) y los\n",
      "integrantes del grupo familiar. Así lo establece la Ley N° 32351, promulgada por el\n",
      "Congreso y difundida este martes en El Peruano.  [Imagen\\\\ \\\\ ![Rubén Darío Cueva Velásque\n",
      "z](https://peru21.pe/sites/default/efsfiles/styles/teaser/public/2025-05/actualidad-orden-\n",
      "captura-tecnicos-implicados-muerte-san-bartolo-n506706-609x343-\n",
      "1105345.webp?itok=Y2BCrCqA)](https://peru21.pe/policiales/capturan-uno-de-los-asesinos-de-\n",
      "andreina-farias-san-bartolo-ate-crimen-lima/)  [Policiales](https://peru21.pe/policiales/)\n",
      "Mar, 27/05/2025 - 07:31  [Capturan a uno de los asesinos de Andreína Farías, mujer\n",
      "violentada en San Bartolo](https://peru21.pe/policiales/capturan-uno-de-los-asesinos-de-\n",
      "andreina-farias-san-bartolo-ate-crimen-lima/)  Las autoridades continúan la búsqueda de\n",
      "Jean Carlos Montero Huaylinos, el segundo técnico implicado en el caso.  [Kristhel\n",
      "Valdiviezo](https://peru21.pe/autor/kristhelvaldiviezo/)  La norma modifica el artículo 46\n",
      "de la Ley 30364, e introduce disposiciones para que los medios garanticen un enfoque de\n",
      "respeto a los derechos humanos, la libertad y la dignidad de las víctimas de violencia.\n",
      "También exige especial cuidado en el tratamiento gráfico de los contenidos que aborden\n",
      "estos casos.  Uno de los principales cambios es la obligación de ceder, de forma gratuita,\n",
      "el 10 % de su programación durante el horario de protección familiar a instituciones\n",
      "públicas del Sistema Nacional para la Prevención, Sanción y Erradicación de la Violencia.\n",
      "La llamada 'franja educativa' rige para los medios de comunicación escritos, televisivos,\n",
      "radiales y de cualquier otra modalidad sean públicos o privados.  Llama la atención esta\n",
      "disposición cuando los medios de comunicación informan de manera constante sobre la\n",
      "violencia contra la mujer y la falta de acción por parte del Estado para abordar esta\n",
      "situación.  El Ejecutivo tiene un plazo de 30 días calendario para adecuar el reglamento y\n",
      "el Texto Único Ordenado de la Ley 30364, con base en esta reciente modificación. El\n",
      "objetivo es asegurar su efectiva implementación y coherencia legal.  Puedes revisar la\n",
      "norma [aquí.](https://busquedas.elperuano.pe/dispositivo/NL/2403115-1)  ### **UNA\n",
      "INTERFERENCIA DIRECTA EN LA LIBERTAD DE PRENSA**  La Ley 32351 es una peligrosa puerta\n",
      "trasera disfrazada de buena voluntad. Aunque el objetivo que persigue —prevenir la\n",
      "violencia contra mujeres y familias— es legítimo y necesario, **imponer una franja\n",
      "educativa del 10% en todos los medios, incluyendo los escritos y digitales, constituye una\n",
      "interferencia directa en la libertad de prensa**.  Así lo advirtió a **Perú21** Zuliana\n",
      "Lainez, presidenta de la Asociación Nacional de Periodistas del Perú (ANP).  “El fin puede\n",
      "ser legítimo, pero las imposiciones son siempre incompatibles con la libertad de prensa.\n",
      "Esta modificatoria es una injerencia directa en los medios privados, disfrazada de causa\n",
      "noble\", opinó Lainez.  “Reitero, el fin puede ser legítimo, pero las imposiciones son\n",
      "siempre incompatibles con la libertad de prensa, y esto es una injerencia directa en los\n",
      "medios privados escudado en un fin legítimo que se puede compartir, pero que termina\n",
      "siendo atentatorio a la independencia y autonomía de los medios de comunicación\", dijo a\n",
      "este diario.  [**Aprovecha la NUEVA EXPERIENCIA, recibe por correo y por Whatsapp nuestro\n",
      "periódico digital enriquecido. Perú21 ePaper.**](https://epaper.peru21.pe/)  ¡Ahora\n",
      "disponible en Yape! Búscanos en YAPE Promos.  ### **VIDEO RECOMENDADO**  TAGS RELACIONADOS\n",
      "[Violencia contra la mujer](https://peru21.pe/noticias/violencia-contra-la-mujer/)\n",
      "[Violencia familiar](https://peru21.pe/noticias/violencia-familiar/)  [Medios de\n",
      "comunicación](https://peru21.pe/noticias/medios-de-comunicacion/)  [Libertad de\n",
      "prensa](https://peru21.pe/noticias/libertad-de-prensa/)  PUBLICIDAD  ## ULTIMAS NOTICIAS\n",
      "Imagen  ![Áncash: Donan cámara Gesell para proteger a niñas, niños y adolescentes víctimas\n",
      "de violencia](https://peru21.pe/sites/default/efsfiles/styles/ultimas_noticias/public/2025\n",
      "-06/whatsapp-image-2025-06-11-at-21.13.13-1.jpeg?itok=wgwGG3lR)  [**Áncash: Donan cámara\n",
      "Gesell para proteger a niñas, niños y adolescentes víctimas de\n",
      "violencia**](https://peru21.pe/peru/ancash-donan-camara-gesell-para-proteger-ninas-ninos-\n",
      "y-adolescentes-victimas-de-violencia/)  Imagen  ![lepra](https://peru21.pe/sites/default/e\n",
      "fsfiles/styles/ultimas_noticias/public/2025-06/lepra-_-afp.jpg?itok=T9XDdXSo)  [**Diresa\n",
      "Piura: \"No es una epidemia ni pandemia, es un caso importado de\n",
      "lepra\"**](https://peru21.pe/peru/diresa-piura-no-es-una-epidemia-ni-pandemia-es-un-caso-\n",
      "importado-de-lepra/)  Imagen  ![perrito](https://peru21.pe/sites/default/efsfiles/styles/u\n",
      "ltimas_noticias/public/2025-06/perrito-callejero.png?itok=Kx_txGz-)  [**Denuncian\n",
      "sacrificio de perros sanos en prácticas de la Universidad Nacional de\n",
      "Piura**](https://peru21.pe/peru/universidad-nacional-de-piura-denuncian-sacrificio-de-\n",
      "perros-sanos-en-practicas/)  PUBLICIDAD  ![](https://match.adsrvr.org/track/cmf/generic?tt\n",
      "d_pid=svx9t50&ttd_tpi=1&gdpr=0&gdpr_consent=&gpp=&gpp_sid=)![](https://cm.g.doubleclick.ne\n",
      "t/pixel?google_nid=triplelift&google_cm&google_sc&gdpr=0&gdpr_consent=)![](https://eb2.3li\n",
      "ft.com/sync/google/demand?sync=1&gdpr=0&gdpr_consent=)![](https://eb2.3lift.com/ebda?sync=\n",
      "1&gdpr=0&gdpr_consent=)![](https://px.ads.linkedin.com/setuid?partner=tripleliftdbredirect\n",
      "&tlUid=2516003149959900032124&dbredirect=true&gdpr=0&consent=)![](https://i.liadm.com/s/88\n",
      "342?bidder_id=246498&bidder_uuid=2516003149959900032124)![](https://pr-bh.ybp.yahoo.com/sy\n",
      "nc/triplelift/2516003149959900032124?gdpr=0&gdpr_consent=)![](https://c.bing.com/c.gif?xid\n",
      "=2516003149959900032124&Red3=TLMS_pd)![](https://triplelift-match.dotomi.com/match/bounce/\n",
      "current?networkId=74572&version=1&gdpr=0&gdpr_consent=)![](https://sync.srv.stackadapt.com\n",
      "/sync?nid=13&gdpr=0&gdpr_consent=&gpp=&gpp_sid=)![](https://u.4dex.io/setuid?bidder=triple\n",
      "lift&it=adg-pb-clt&uid=2516003149959900032124)  ![](https://match.adsrvr.org/track/cmf/gen\n",
      "eric?ttd_pid=svx9t50&ttd_tpi=1&gdpr=0&gdpr_consent=&gpp=&gpp_sid=)![](https://cm.g.doublec\n",
      "lick.net/pixel?google_nid=triplelift&google_cm&google_sc&gdpr=0&gdpr_consent=)![](https://\n",
      "eb2.3lift.com/sync/google/demand?sync=1&gdpr=0&gdpr_consent=)![](https://eb2.3lift.com/ebd\n",
      "a?sync=1&gdpr=0&gdpr_consent=)![](https://px.ads.linkedin.com/setuid?partner=tripleliftdbr\n",
      "edirect&tlUid=2516003149959900032124&dbredirect=true&gdpr=0&consent=)![](https://i.liadm.c\n",
      "om/s/88342?bidder_id=246498&bidder_uuid=2516003149959900032124)![](https://pr-bh.ybp.yahoo\n",
      ".com/sync/triplelift/2516003149959900032124?gdpr=0&gdpr_consent=)![](https://c.bing.com/c.\n",
      "gif?xid=2516003149959900032124&Red3=TLMS_pd)![](https://triplelift-match.dotomi.com/match/\n",
      "bounce/current?networkId=74572&version=1&gdpr=0&gdpr_consent=)![](https://sync.srv.stackad\n",
      "apt.com/sync?nid=13&gdpr=0&gdpr_consent=&gpp=&gpp_sid=)![](https://u.4dex.io/setuid?bidder\n",
      "=triplelift&it=adg-pb-clt&uid=2516003149959900032124)  ![](https://u.openx.net/w/1.0/cm?id\n",
      "=3cc4b2f6-c7e1-439a-8174-\n",
      "b6dbb96bcabf&r=https%3A%2F%2Fu.4dex.io%2Fsetuid%3Fbidder%3Dopenx%26it%3Dadg-pb-\n",
      "clt%26uid%3D%7BOPENX_ID%7D)![](https://creativecdn.com/cm-notify?pi=fradagio-\n",
      "pbs&gdpr=0&gdpr_consent=&us_privacy=)![](https://creativecdn.com/cm-notify?pi=fradagio-\n",
      "pbs&gdpr=0&gdpr_consent=&us_privacy=)  ![](https://creativecdn.com/cm-notify?pi=fradagio-p\n",
      "bs&gdpr=0&gdpr_consent=&us_privacy=)![](https://ice.360yield.com/server_match?partner_id=1\n",
      "790&r=https%3A%2F%2Fu.4dex.io%2Fsetuid%3Fbidder%3Dimprovedigital%26it%3Dadg-pb-\n",
      "clt%26uid%3D%7BPUB_USER_ID%7D)  ![](https://ice.360yield.com/server_match?partner_id=1790&\n",
      "r=https%3A%2F%2Fu.4dex.io%2Fsetuid%3Fbidder%3Dimprovedigital%26it%3Dadg-pb-\n",
      "clt%26uid%3D%7BPUB_USER_ID%7D)  ![](https://prebid-stag.setupad.net/setuid?bidder=openx&gd\n",
      "pr=&gdpr_consent=&gpp=&gpp_sid=&f=b&uid=df0ee449-2a1c-459b-b54b-\n",
      "a7dc779cdaa5)![](https://cm.g.doubleclick.net/pixel?google_nid=openx&google_cm&google_sc)!\n",
      "[](https://cm.g.doubleclick.net/pixel?google_nid=openx&google_hm=Y2FiZmI4NGMtNWFmNC0yOGQ2L\n",
      "WNiMjctM2Q3MDNjMjVkNjQ4)![](https://match.adsrvr.org/track/cmf/openx?oxid=e6d06b86-9383-\n",
      "7672-dec7-67c9f6c71828&gdpr=0)![](https://pr-\n",
      "bh.ybp.yahoo.com/sync/openx/72170dc2-032f-e43b-ef10-713c0990d561?gdpr=0)![](https://sync-t\n",
      "m.everesttech.net/upi/pid/ny75r2x0?redir=https%3A%2F%2Fus-\n",
      "u.openx.net%2Fw%2F1.0%2Fsd%3Fid%3D537148856%26val%3D%24%7BTM_USER_ID%7D)![](https://ad.tur\n",
      "n.com/r/cs?pid=9&gdpr=0)  ![](https://us01.z.antigena.com/l/FZt5psomz79DGe~O1V5PkX7S8-\n",
      "NVJIdw0INR-k~Duu9c36GyIDyElf4y8fa2~-9InNSq4BCadyu-\n",
      "8tQSiIkaVleT~Yh8GI4ocNSeo4~API4DJEsYNIMg2sPMMXvjcckTUFy53ZYw3gzv35jSAchydRkSr2XFgqe-kzzlKT\n",
      "lv1VT7-TlAc0PcX7nFzbKlHypwbpU3AWUAJgUx%20C2D653AA-9BB9-49C8-B351-EE2203DCC9D8&rnd=RND)  ![\n",
      "](https://ad.360yield.com/server_match?gdpr={gdpr}&gdpr_consent={gdpr_consent}&us_privacy=\n",
      "{us_privacy}&r=https%3A%2F%2Fsync.adtelligent.com%2Fcsync%3Ft%3Dg%26ep%3D199%26traffic_sou\n",
      "rce%3Dsnippet%26sp%3D848151%26pb%3D534151%26c%3D484169%26a%3D289656%26domain%3Dperu21.pe%2\n",
      "6extuid%3D%7BPUB_USER_ID%7D)  Anuncio  ![](https://ib.adnxs.com/getuid?https%3A%2F%2Fsync.\n",
      "adtelligent.com%2Fcsync%3Ft%3Dg%26ep%3D32%26traffic_source%3Dsnippet%26sp%3D848151%26pb%3D\n",
      "534151%26c%3D538100%26a%3D297253%26domain%3Dperu21.pe%26extuid%3D%24UID)![](https://sync.1\n",
      "rx.io/usersync2/rmpssp?sub=adtelligent)  ![](https://x.bidswitch.net/sync?ssp=ogury&gdpr=0\n",
      "&gdpr_consent=&custom_data=init:ogy)![](https://id.rlcdn.com/713263.gif?gdpr=0&gdpr_consen\n",
      "t=)![](https://sync.richaudience.com/f7872c90c5d3791e2b51f7edce1a0a5d/?p=uZBUkzcLJe&consen\n",
      "tString=&r=https%3A%2F%2Fms-cookie-sync.presage.io%2Fuser-sync%3Fraudience_id%3D%5BPDID%5D\n",
      "%26gdpr%3D0%26gdpr_consent%3D)![](https://sync.1rx.io/usersync2/rmpssp?sub=ogury&gdpr=0&gd\n",
      "pr_consent=)![](https://t.adx.opera.com/pub/sync?pubid=pub9858090441216&gdpr=0&consent=)![\n",
      "](https://creativecdn.com/cm-\n",
      "notify?pi=ogury&gdpr=0&gdpr_consent=)![](https://ib.adnxs.com/getuid?https://ms-cookie-\n",
      "sync.presage.io/user-sync?xandr_id=$UID&gdpr=0&gdpr_consent=)![](https://match.adsrvr.org/\n",
      "track/cmf/generic?ttd_pid=agyie4r&ttd_tpi=1&gdpr=0&gdpr_consent=)  ![](https://ml314.com/u\n",
      "tsync.ashx?et=0&eid=92690&fp=14d8f9cf-0385-4208-b624-\n",
      "cdbb7dedff8c)![](https://bh.contextweb.com/bh/rtset?pid=562539&ev=13821be8-f61a-4219-9620-\n",
      "4fc15fdf1e70&rurl=https%3A%2F%2Fus-\n",
      "u.openx.net%2Fw%2F1.0%2Fsd%3Fid%3D545637763%26val%3D%%VGUID%%)![](https://bpi.rtactivate.c\n",
      "om/tag/?id=50019&user_id=)![](https://sync.smartadserver.com/getuid?gdpr=0&url=https%3A%2F\n",
      "%2Fu.openx.net%2Fw%2F1.0%2Fsd%3Fid%3D537106470%26val%3D[sas_uid])![](https://cookies.nextm\n",
      "illmedia.com/sync?redirect=https%3A%2F%2Fus-\n",
      "u.openx.net%2Fw%2F1.0%2Fsd%3Fid%3D557617007%26val%3D%5BNMUID%5D)![](https://t.adx.opera.co\n",
      "m/pub/sync?pubid=pub9322105895424)  ![](https://dm-\n",
      "us.hybrid.ai/match?id=412&gdpr=0)![](https://gw-iad-bid.ymmobi.com/adx/user/sync?pubid=b3B\n",
      "lbng=&gdpr=0&callback=https%3A%2F%2Fu.openx.net%2Fw%2F1.0%2Fsd%3Fid%3D539749039%26val%3D%7\n",
      "Buser_id%7D%26gdpr%3D%7BGDPR%7D%26gdpr_consent%3D%7BGDPR_CONSENT%7D)![](https://cm.pubeasy\n",
      ".io/sync?sid=110581&gdpr=0)  ![](https://prebid-stag.setupad.net/setuid?bidder=sovrn&gdpr=\n",
      "&gdpr_consent=&gpp=&gpp_sid=&f=b&uid=K0m8ABZHR890KRFNTba46HC-\n",
      "&gdpr=&gdpr_consent=)![](https://match.prod.bidr.io/cookie-sync/svr?gdpr=&gdpr_consent=)![\n",
      "](https://ums.acuityplatform.com/tum?umid=27&uid=K0m8ABZHR890KRFNTba46HC-\n",
      "&gdpr=&gdpr_consent=)![](https://um.simpli.fi/lj_match?r=1749780260208&gdpr=&gdpr_consent=\n",
      ")![](https://x.bidswitch.net/sync?ssp=fmx&us_privacy=&gdpr=&gdpr_consent=)![](https://ap.l\n",
      "ijit.com/dsp/google/cookiematch/dv?gdpr=&gdpr_consent=)![](https://pixel-sync.sitescout.co\n",
      "m/dmp/pixelSync?nid=23&gdpr=&gdpr_consent=)![](https://creativecdn.com/cm-\n",
      "notify?pi=sovrn&gdpr=&gdpr_consent=)![](https://s.amazon-\n",
      "adsystem.com/x/ae12848777b41970a5f2?gdpr=&gdpr_consent=)\n",
      "![](https://b1sync.zemanta.com/usersync/ogury/?gdpr=0&gdpr_consent=&cb=https%3A%2F%2Fms-\n",
      "cookie-sync.presage.io%2Fuser-sync%3Foutbrain_id%3D__ZUID__)  ![](https://sync.clearnview.\n",
      "com/sync.html?gdpr=0&gdpr_consent=&usp_consent=&pubid=17&pubuid=9bdedf9c-f490-294f-16d7-\n",
      "639208fc1051&redirect=https%3A%2F%2Fsync.cootlogix.com%2Fapi%2Fcookie%3FpartnerId%3Dbrave%\n",
      "26gdpr%3D0%26gdpr_consent%3D%26us_privacy%3D%26userId%3D$UID)  ![](https://cs.iqzone.com/6\n",
      "f0476ca45e1d6b67e3ee8d57532a022.gif?puid=9bdedf9c-f490-294f-16d7-\n",
      "639208fc1051&redir=https%3A%2F%2Fsync.cootlogix.com%2Fapi%2Fcookie%3FpartnerId%3Diqzone%26\n",
      "gdpr%3D0%26gdpr_consent%3D%26us_privacy%3D%26userId%3D%5BUID%5D&gdpr=0&gdpr_consent=&ccpa=\n",
      ")  ![](https://cm.adform.net/cookie?redirect_url=https%3A%2F%2Fsync.cootlogix.com%2Fapi%2F\n",
      "cookie%3FpartnerId%3Dadform%26userId%3D%24UID%26gdpr%3D0%26gdpr_consent%3D%26us_privacy%3D\n",
      ")  ![](https://ap.lijit.com/pixel?redir=https%3A%2F%2Fsync.adtelligent.com%2Fcsync%3Ft%3Dg\n",
      "%26ep%3D13%26traffic_source%3Dsnippet%26sp%3D848151%26pb%3D534151%26c%3D484067%26a%3D31057\n",
      "0%26domain%3Dperu21.pe%26extuid%3D%24UID)![](https://ib.adnxs.com/getuid?https%3A%2F%2Fsyn\n",
      "c.adtelligent.com%2Fcsync%3Ft%3Dg%26ep%3D32%26traffic_source%3Dsnippet%26sp%3D848151%26pb%\n",
      "3D534151%26c%3D736651%26a%3D751004%26domain%3Dperu21.pe%26extuid%3D%24UID)![](https://cm-\n",
      "x.mgid.com/7d2fea400064b22652273d22c2e07bad.gif?puid=[UID]&redir=https%3A%2F%2Fsync.adtell\n",
      "igent.com%2Fcsync%3Ft%3Dg%26ep%3D358%26traffic_source%3Dsnippet%26sp%3D848151%26pb%3D53415\n",
      "1%26c%3D746141%26a%3D753378%26domain%3Dperu21.pe%26extuid%3D%5BUID%5D)![](https://prebid.a\n",
      "-mo.net/cchain/0?cb=https%3A%2F%2Fsync.adtelligent.com%2Fcsync%3Ft%3Dg%26ep%3D737%26traffi\n",
      "c_source%3Dsnippet%26sp%3D848151%26pb%3D534151%26c%3D747403%26a%3D310531%26domain%3Dperu21\n",
      ".pe%26extuid%3D)![](https://sync.cookie-pool.dmp.bluems.com/v1/complete?ecid=22829fe57bbd3\n",
      "89a&acc=498638064831&cpid=2fSPCYDMJa5wflEV0wSFPKpCBT7&cid=89239a77-190a-4507-873c-\n",
      "f7ab84203cba&eid=bidmatic&referer=https%3A%2F%2Fd3fef36u6k6muh.cloudfront.net%2F)![](https\n",
      "://creativecdn.com/cm-notify?pi=adtel-pbs&gdpr={gdpr}&gdpr_consent={gdpr_consent}&us_priva\n",
      "cy={us_privacy})![](https://ghb.adtelligent.com/xsync?redir=https://adapter.bidmatic.io/se\n",
      "tSyncs?{extUIDSMAP})![](https://ident.mygaru.com/pixel.gif?idx=4645DAB6D823BCE3&redir=http\n",
      "s%3A%2F%2Fsync.adtelligent.com%2Fmygaru%2F%3Fotp%3D%7Botp%7D)![](https://sync.bidmatic.io/\n",
      "csync?extuid=22829fe57bbd389a&gdpr={gdpr}&gdpr_consent={gdpr_consent}&us_privacy={us_priva\n",
      "cy}&gpp={gpp}&t=g&ep=410&redir=https%3A%2F%2Fsync.adtelligent.com%2Fcsync%3Fextuid%3D%7Bui\n",
      "d%7D%26t%3Dg%26ep%3D1134)![](https://ads106.adtelligent.com/tracking/csmatch/?aid=848151cm\n",
      "pId=631382)![](https://ads106.adtelligent.com/tracking/csmatch/?aid=848151cmpId=773344)![]\n",
      "(https://ads106.adtelligent.com/tracking/csmatch/?aid=848151cmpId=745667err=fail)![](https\n",
      "://ads106.adtelligent.com/tracking/csmatch/?aid=848151cmpId=736651)![](https://ads106.adte\n",
      "lligent.com/tracking/csmatch/?aid=848151cmpId=823544)![](https://ads106.adtelligent.com/tr\n",
      "acking/csmatch/?aid=848151cmpId=538100)![](https://ads106.adtelligent.com/tracking/csmatch\n",
      "/?aid=848151cmpId=750708)![](https://ads106.adtelligent.com/tracking/csmatch/?aid=848151cm\n",
      "pId=484067)![](https://ads106.adtelligent.com/tracking/csmatch/?aid=848151cmpId=484169)![]\n",
      "(https://ads106.adtelligent.com/tracking/csmatch/?aid=848151cmpId=792139)![](https://ads10\n",
      "6.adtelligent.com/tracking/csmatch/?aid=848151cmpId=746141)![](https://ads106.adtelligent.\n",
      "com/tracking/csmatch/?aid=848151cmpId=618016)![](https://ads106.adtelligent.com/tracking/c\n",
      "smatch/?aid=848151cmpId=825870)![](https://ads106.adtelligent.com/tracking/csmatch/?aid=84\n",
      "8151cmpId=709112)![](https://ads106.adtelligent.com/tracking/csmatch/?aid=848151cmpId=4882\n",
      "10)![](https://ads106.adtelligent.com/tracking/csmatch/?aid=848151cmpId=747403)\n",
      "![](https://ads.stickyadstv.com/user-matching?id=3656)![](https://sync.adkernel.com/user-s\n",
      "ync?zone=256788&t=image&gdpr=0&gdpr_consent=&us_privacy=&gpp=&gpp_sid=&r=https%3A%2F%2Fu.4\n",
      "dex.io%2Fsetuid%3Fbidder%3Dmadopi%26it%3Dadg-pb-clt%26uid%3D%7BUID%7D)![](https://cs.adman\n",
      "media.com/daaf24a7c2a9e578d5f6aca113c3e224.gif?puid=[UID]&redir=https%3A%2F%2Fu.4dex.io%2F\n",
      "setuid%3Fbidder%3Dacuityads%26it%3Dadg-pb-\n",
      "clt%26uid%3D%5BUID%5D&gdpr=0&gdpr_consent=)![](https://sync.adkernel.com/user-sync?zone=25\n",
      "6788&t=image&gdpr=0&gdpr_consent=&us_privacy=&gpp=&gpp_sid=&r=https%3A%2F%2Fu.4dex.io%2Fse\n",
      "tuid%3Fbidder%3Dmadopi%26it%3Dadg-pb-clt%26uid%3D%7BUID%7D)![](https://sync.1rx.io/usersyn\n",
      "c2/rmpssp?sub=adagio&redir=https%3A%2F%2Fu.4dex.io%2Fsetuid%3Fbidder%3Dunruly%26it%3Dadg-\n",
      "pb-clt%26uid%3D%5BRX_UUID%5D)![](https://sync.ingage.tech/?gdpr=0&gdpr_consent=&us_privacy\n",
      "=&redirect=https%3A%2F%2Fu.4dex.io%2Fsetuid%3Fbidder%3Dinsticator%26it%3Dadg-pb-\n",
      "clt%26uid%3D%24UID)\n"
     ]
    }
   ],
   "source": [
    "print(textwrap.fill(noticias_raw.document_loader[0][0].text,width=90))"
   ]
  },
  {
   "cell_type": "code",
   "execution_count": 25,
   "id": "8f4f6db9",
   "metadata": {},
   "outputs": [
    {
     "name": "stdout",
     "output_type": "stream",
     "text": [
      "El Congreso aprobó la Ley N° 32351, que modifica la Ley 30364, y obliga a los medios de\n",
      "comunicación a incluir contenidos educativos contra la violencia familiar y garantizar un\n",
      "tratamiento respetuoso de las víctimas. Los medios de comunicación del país están\n",
      "obligadosa participar de la lucha contra laviolencia hacia las mujeresy los integrantes\n",
      "del grupo familiar. Así lo establece la Ley N° 32351, promulgada por el Congreso y\n",
      "difundida este martes en El Peruano. La norma modifica el artículo 46 de la Ley 30364, e\n",
      "introduce disposiciones para que los medios garanticen un enfoque de respeto a los\n",
      "derechos humanos, la libertad y la dignidad de las víctimas de violencia. También exige\n",
      "especial cuidado en el tratamiento gráfico de los contenidos que aborden estos casos. Uno\n",
      "de los principales cambios es la obligación de ceder, de forma gratuita, el 10 % de su\n",
      "programación durante el horario de protección familiar a instituciones públicas del\n",
      "Sistema Nacional para la Prevención, Sanción y Erradicación de la Violencia. La llamada\n",
      "'franja educativa' rige para los medios de comunicación escritos, televisivos, radiales y\n",
      "de cualquier otra modalidad sean públicos o privados. Llama la atención esta disposición\n",
      "cuando los medios de comunicación informan de manera constante sobre la violencia contra\n",
      "la mujer y la falta de acción por parte del Estado para abordar esta situación. El\n",
      "Ejecutivo tiene un plazo de 30 días calendario para adecuar el reglamento y el Texto Único\n",
      "Ordenado de la Ley 30364, con base en esta reciente modificación. El objetivo es asegurar\n",
      "su efectiva implementación y coherencia legal. Puedes revisar la normaaquí. La Ley 32351\n",
      "es una peligrosa puerta trasera disfrazada de buena voluntad. Aunque el objetivo que\n",
      "persigue —prevenir la violencia contra mujeres y familias— es legítimo y necesario,imponer\n",
      "una franja educativa del 10% en todos los medios, incluyendo los escritos y digitales,\n",
      "constituye una interferencia directa en la libertad de prensa. Así lo advirtió\n",
      "aPerú21Zuliana Lainez, presidenta de la Asociación Nacional de Periodistas del Perú (ANP).\n",
      "“El fin puede ser legítimo, pero las imposiciones son siempre incompatibles con la\n",
      "libertad de prensa. Esta modificatoria es una injerencia directa en los medios privados,\n",
      "disfrazada de causa noble\", opinó Lainez. “Reitero, el fin puede ser legítimo, pero las\n",
      "imposiciones son siempre incompatibles con la libertad de prensa, y esto es una injerencia\n",
      "directa en los medios privados escudado en un fin legítimo que se puede compartir, pero\n",
      "que termina siendo atentatorio a la independencia y autonomía de los medios de\n",
      "comunicación\", dijo a este diario. Aprovecha la NUEVA EXPERIENCIA, recibe por correo y por\n",
      "Whatsapp nuestro periódico digital enriquecido. Perú21 ePaper.\n"
     ]
    }
   ],
   "source": [
    "print(textwrap.fill(noticias_raw.texto[0],width=90))"
   ]
  },
  {
   "cell_type": "code",
   "execution_count": 26,
   "id": "e57d6ffb",
   "metadata": {},
   "outputs": [],
   "source": [
    "def set_metadata_replace(row):\n",
    "    if row['document_loader'] is not None:\n",
    "        try:\n",
    "            old_doc = row['document_loader'][0]\n",
    "            new_doc = Document(\n",
    "                text=row['texto'],\n",
    "                metadata={\n",
    "                    **old_doc.metadata,\n",
    "                    'fecha_publicacion': row['fecha'],\n",
    "                    'distrito': row['distrito'],\n",
    "                    'departamento': row['departamento'],\n",
    "                    'title' : row['titulo']\n",
    "}\n",
    "            )\n",
    "            row['document_loader'] = [new_doc]\n",
    "        except Exception as e:\n",
    "            print(f\"Error al reemplazar Document: {e}\")\n",
    "    return row"
   ]
  },
  {
   "cell_type": "code",
   "execution_count": 27,
   "id": "63a0b755",
   "metadata": {},
   "outputs": [
    {
     "name": "stderr",
     "output_type": "stream",
     "text": [
      "100%|██████████| 5/5 [00:00<00:00, 1647.28it/s]\n"
     ]
    }
   ],
   "source": [
    "noticias_raw = noticias_raw.progress_apply(set_metadata_replace, axis=1)"
   ]
  },
  {
   "cell_type": "code",
   "execution_count": 28,
   "id": "1c9f8784",
   "metadata": {},
   "outputs": [
    {
     "data": {
      "text/html": [
       "<div>\n",
       "<style scoped>\n",
       "    .dataframe tbody tr th:only-of-type {\n",
       "        vertical-align: middle;\n",
       "    }\n",
       "\n",
       "    .dataframe tbody tr th {\n",
       "        vertical-align: top;\n",
       "    }\n",
       "\n",
       "    .dataframe thead th {\n",
       "        text-align: right;\n",
       "    }\n",
       "</style>\n",
       "<table border=\"1\" class=\"dataframe\">\n",
       "  <thead>\n",
       "    <tr style=\"text-align: right;\">\n",
       "      <th></th>\n",
       "      <th>url</th>\n",
       "      <th>titulo</th>\n",
       "      <th>texto</th>\n",
       "      <th>fecha</th>\n",
       "      <th>distrito</th>\n",
       "      <th>departamento</th>\n",
       "      <th>pais</th>\n",
       "      <th>test</th>\n",
       "      <th>document_loader</th>\n",
       "    </tr>\n",
       "  </thead>\n",
       "  <tbody>\n",
       "    <tr>\n",
       "      <th>0</th>\n",
       "      <td>https://peru21.pe/peru/medios-deberan-tener-fr...</td>\n",
       "      <td>Medios deberán tener 'franja educativa' para a...</td>\n",
       "      <td>El Congreso aprobó la Ley N° 32351, que modifi...</td>\n",
       "      <td>2025/05/27</td>\n",
       "      <td>[Independencia]</td>\n",
       "      <td>[La Libertad]</td>\n",
       "      <td>[perú]</td>\n",
       "      <td>True</td>\n",
       "      <td>[Doc ID: b44ade9d-994d-44df-8b32-1bc358fe410a\\...</td>\n",
       "    </tr>\n",
       "    <tr>\n",
       "      <th>1</th>\n",
       "      <td>https://peru21.pe/peru/chiclayo-detienen-profe...</td>\n",
       "      <td>Chiclayo: detienen a profesor por acosar sexua...</td>\n",
       "      <td>La madre de la menor reportó mensajes y fotogr...</td>\n",
       "      <td>2025/04/16</td>\n",
       "      <td>[]</td>\n",
       "      <td>[]</td>\n",
       "      <td>[perú]</td>\n",
       "      <td>True</td>\n",
       "      <td>[Doc ID: 9b63d202-209b-43b6-91e9-599ad8cebdc6\\...</td>\n",
       "    </tr>\n",
       "    <tr>\n",
       "      <th>2</th>\n",
       "      <td>https://peru21.pe/lima/miraflores-sujeto-que-h...</td>\n",
       "      <td>Miraflores: Sujeto violento que hirió con fuen...</td>\n",
       "      <td>Jueza Susana Quispe, del Cuarto Juzgado de Inv...</td>\n",
       "      <td>2025/03/26</td>\n",
       "      <td>[Lima, Miraflores]</td>\n",
       "      <td>[Lima]</td>\n",
       "      <td>[perú]</td>\n",
       "      <td>True</td>\n",
       "      <td>[Doc ID: 7213242c-a1c2-4c33-8d2e-0cb7af3d265e\\...</td>\n",
       "    </tr>\n",
       "    <tr>\n",
       "      <th>3</th>\n",
       "      <td>https://peru21.pe/lima/atacante-de-miraflores-...</td>\n",
       "      <td>Atacante de Miraflores también agredió a su ex...</td>\n",
       "      <td>Julio Diego Aurelio Solari Zapata fue denuncia...</td>\n",
       "      <td>2025/03/24</td>\n",
       "      <td>[Miraflores, San Isidro]</td>\n",
       "      <td>[Lima]</td>\n",
       "      <td>[perú]</td>\n",
       "      <td>True</td>\n",
       "      <td>[Doc ID: 2ee02c81-4598-42ac-9cc7-1cd95773dda6\\...</td>\n",
       "    </tr>\n",
       "    <tr>\n",
       "      <th>4</th>\n",
       "      <td>https://peru21.pe/mundo/la-senal-de-auxilio-gl...</td>\n",
       "      <td>La señal de auxilio global que puede salvar la...</td>\n",
       "      <td>El sencillo gesto de abrir la palma de la mano...</td>\n",
       "      <td>2025/02/20</td>\n",
       "      <td>[]</td>\n",
       "      <td>[]</td>\n",
       "      <td>[canadá, méxico, estados unidos, perú]</td>\n",
       "      <td>True</td>\n",
       "      <td>[Doc ID: 1baa2789-3d06-4f02-bf60-605d14335a26\\...</td>\n",
       "    </tr>\n",
       "  </tbody>\n",
       "</table>\n",
       "</div>"
      ],
      "text/plain": [
       "                                                 url  \\\n",
       "0  https://peru21.pe/peru/medios-deberan-tener-fr...   \n",
       "1  https://peru21.pe/peru/chiclayo-detienen-profe...   \n",
       "2  https://peru21.pe/lima/miraflores-sujeto-que-h...   \n",
       "3  https://peru21.pe/lima/atacante-de-miraflores-...   \n",
       "4  https://peru21.pe/mundo/la-senal-de-auxilio-gl...   \n",
       "\n",
       "                                              titulo  \\\n",
       "0  Medios deberán tener 'franja educativa' para a...   \n",
       "1  Chiclayo: detienen a profesor por acosar sexua...   \n",
       "2  Miraflores: Sujeto violento que hirió con fuen...   \n",
       "3  Atacante de Miraflores también agredió a su ex...   \n",
       "4  La señal de auxilio global que puede salvar la...   \n",
       "\n",
       "                                               texto       fecha  \\\n",
       "0  El Congreso aprobó la Ley N° 32351, que modifi...  2025/05/27   \n",
       "1  La madre de la menor reportó mensajes y fotogr...  2025/04/16   \n",
       "2  Jueza Susana Quispe, del Cuarto Juzgado de Inv...  2025/03/26   \n",
       "3  Julio Diego Aurelio Solari Zapata fue denuncia...  2025/03/24   \n",
       "4  El sencillo gesto de abrir la palma de la mano...  2025/02/20   \n",
       "\n",
       "                   distrito   departamento  \\\n",
       "0           [Independencia]  [La Libertad]   \n",
       "1                        []             []   \n",
       "2        [Lima, Miraflores]         [Lima]   \n",
       "3  [Miraflores, San Isidro]         [Lima]   \n",
       "4                        []             []   \n",
       "\n",
       "                                     pais  test  \\\n",
       "0                                  [perú]  True   \n",
       "1                                  [perú]  True   \n",
       "2                                  [perú]  True   \n",
       "3                                  [perú]  True   \n",
       "4  [canadá, méxico, estados unidos, perú]  True   \n",
       "\n",
       "                                     document_loader  \n",
       "0  [Doc ID: b44ade9d-994d-44df-8b32-1bc358fe410a\\...  \n",
       "1  [Doc ID: 9b63d202-209b-43b6-91e9-599ad8cebdc6\\...  \n",
       "2  [Doc ID: 7213242c-a1c2-4c33-8d2e-0cb7af3d265e\\...  \n",
       "3  [Doc ID: 2ee02c81-4598-42ac-9cc7-1cd95773dda6\\...  \n",
       "4  [Doc ID: 1baa2789-3d06-4f02-bf60-605d14335a26\\...  "
      ]
     },
     "execution_count": 28,
     "metadata": {},
     "output_type": "execute_result"
    }
   ],
   "source": [
    "noticias_raw"
   ]
  },
  {
   "cell_type": "code",
   "execution_count": 29,
   "id": "29fbda54",
   "metadata": {},
   "outputs": [
    {
     "name": "stdout",
     "output_type": "stream",
     "text": [
      "El Congreso aprobó la Ley N° 32351, que modifica la Ley 30364, y obliga a los medios de\n",
      "comunicación a incluir contenidos educativos contra la violencia familiar y garantizar un\n",
      "tratamiento respetuoso de las víctimas. Los medios de comunicación del país están\n",
      "obligadosa participar de la lucha contra laviolencia hacia las mujeresy los integrantes\n",
      "del grupo familiar. Así lo establece la Ley N° 32351, promulgada por el Congreso y\n",
      "difundida este martes en El Peruano. La norma modifica el artículo 46 de la Ley 30364, e\n",
      "introduce disposiciones para que los medios garanticen un enfoque de respeto a los\n",
      "derechos humanos, la libertad y la dignidad de las víctimas de violencia. También exige\n",
      "especial cuidado en el tratamiento gráfico de los contenidos que aborden estos casos. Uno\n",
      "de los principales cambios es la obligación de ceder, de forma gratuita, el 10 % de su\n",
      "programación durante el horario de protección familiar a instituciones públicas del\n",
      "Sistema Nacional para la Prevención, Sanción y Erradicación de la Violencia. La llamada\n",
      "'franja educativa' rige para los medios de comunicación escritos, televisivos, radiales y\n",
      "de cualquier otra modalidad sean públicos o privados. Llama la atención esta disposición\n",
      "cuando los medios de comunicación informan de manera constante sobre la violencia contra\n",
      "la mujer y la falta de acción por parte del Estado para abordar esta situación. El\n",
      "Ejecutivo tiene un plazo de 30 días calendario para adecuar el reglamento y el Texto Único\n",
      "Ordenado de la Ley 30364, con base en esta reciente modificación. El objetivo es asegurar\n",
      "su efectiva implementación y coherencia legal. Puedes revisar la normaaquí. La Ley 32351\n",
      "es una peligrosa puerta trasera disfrazada de buena voluntad. Aunque el objetivo que\n",
      "persigue —prevenir la violencia contra mujeres y familias— es legítimo y necesario,imponer\n",
      "una franja educativa del 10% en todos los medios, incluyendo los escritos y digitales,\n",
      "constituye una interferencia directa en la libertad de prensa. Así lo advirtió\n",
      "aPerú21Zuliana Lainez, presidenta de la Asociación Nacional de Periodistas del Perú (ANP).\n",
      "“El fin puede ser legítimo, pero las imposiciones son siempre incompatibles con la\n",
      "libertad de prensa. Esta modificatoria es una injerencia directa en los medios privados,\n",
      "disfrazada de causa noble\", opinó Lainez. “Reitero, el fin puede ser legítimo, pero las\n",
      "imposiciones son siempre incompatibles con la libertad de prensa, y esto es una injerencia\n",
      "directa en los medios privados escudado en un fin legítimo que se puede compartir, pero\n",
      "que termina siendo atentatorio a la independencia y autonomía de los medios de\n",
      "comunicación\", dijo a este diario. Aprovecha la NUEVA EXPERIENCIA, recibe por correo y por\n",
      "Whatsapp nuestro periódico digital enriquecido. Perú21 ePaper.\n"
     ]
    }
   ],
   "source": [
    "print(textwrap.fill(noticias_raw.document_loader[0][0].text,width=90))"
   ]
  },
  {
   "cell_type": "code",
   "execution_count": 30,
   "id": "4721aa44",
   "metadata": {},
   "outputs": [
    {
     "data": {
      "text/plain": [
       "Document(id_='b44ade9d-994d-44df-8b32-1bc358fe410a', embedding=None, metadata={'url': 'https://peru21.pe/peru/medios-deberan-tener-franja-educativa-para-apoyar-lucha-contra-la-violencia-hacia-las-mujeres/', 'title': \"Medios deberán tener 'franja educativa' para apoyar lucha contra la violencia hacia las mujeres \", 'author': 'Perú 21', 'og:url': 'https://peru21.pe/peru/medios-deberan-tener-franja-educativa-para-apoyar-lucha-contra-la-violencia-hacia-las-mujeres/', 'robots': 'follow', 'og:type': 'article', 'abstract': 'Noticias del Perú y del mundo en peru21.pe - Ultimas noticias de política, deportes, espectáculos, fútbol, economía, mundo, tecnología, cultura, ciencia y más...', 'keywords': 'Violencia contra la mujer,Violencia familiar,Medios de comunicación,Libertad de prensa', 'og:image': 'http://peru21.pe/sites/default/efsfiles/styles/amp_1200x675_16_9/public/2025-05/television.jpg?itok=7pZmAQmf', 'og:title': \"Medios deberán tener 'franja educativa' para apoyar lucha contra la violencia hacia las mujeres\", 'viewport': 'width=device-width, initial-scale=1.0', 'Generator': 'Drupal 9 (https://www.drupal.org)', 'fb:app_id': '1667917060088448', 'generator': 'Sirius Publisher', 'link:icon': 'https://peru21.pe/sites/default/efsfiles/favicon.png', 'og:locale': 'es_PE', 'sourceURL': 'https://peru21.pe/peru/medios-deberan-tener-franja-educativa-para-apoyar-lucha-contra-la-violencia-hacia-las-mujeres', 'article:tag': ['Violencia contra la mujer', 'Violencia familiar', 'Medios de comunicación', 'Libertad de prensa'], 'description': 'Medios deberán promover la defensa de víctimas de violencia familiar, según nueva ley', 'link:amphtml': 'https://peru21.pe/peru/medios-deberan-tener-franja-educativa-para-apoyar-lucha-contra-la-violencia-hacia-las-mujeres/?amp', 'og:site_name': 'Perú 21', 'twitter:card': 'summary_large_image', 'twitter:site': '@peru21', 'twitter:image': 'http://peru21.pe/sites/default/efsfiles/2025-05/television.jpg', 'twitter:title': \"Medios deberán tener 'franja educativa' para apoyar lucha contra la violencia hacia las mujeres\", 'article:author': 'Esther Vargas', 'link:canonical': 'https://peru21.pe/peru/medios-deberan-tener-franja-educativa-para-apoyar-lucha-contra-la-violencia-hacia-las-mujeres/', 'og:description': 'El Congreso aprobó la Ley N° 32351, que modifica la Ley 30364, y obliga a los medios de comunicación a incluir contenidos educativos contra la violencia familiar y garantizar un tratamiento respetuoso de las víctimas.', 'MobileOptimized': 'width', 'article:section': 'Perú', 'link:preconnect': 'https://servicer.mgid.com/', 'link:stylesheet': 'https://www.google.com/cse/static/style/look/v4/default.css', 'HandheldFriendly': 'true', 'link:dns-prefetch': 'https://peru21-pe.b-cdn.net/', 'og:image:secure_url': 'https://peru21.pe/sites/default/efsfiles/styles/amp_1200x675_16_9/public/2025-05/television.jpg?itok=7pZmAQmf', 'twitter:description': 'El Congreso aprobó la Ley N° 32351, que modifica la Ley 30364, y obliga a los medios de comunicación a incluir contenidos educativos contra la violencia familiar y garantizar un tratamiento respetuoso de las víctimas.', 'link:compression-dictionary': 'https://securepubads.g.doubleclick.net/pagead/managed/dict/m202506120101/gpt', 'fecha_publicacion': '2025/05/27', 'distrito': ['Independencia'], 'departamento': ['La Libertad']}, excluded_embed_metadata_keys=[], excluded_llm_metadata_keys=[], relationships={}, metadata_template='{key}: {value}', metadata_separator='\\n', text_resource=MediaResource(embeddings=None, data=None, text='El Congreso aprobó la Ley N° 32351, que modifica la Ley 30364, y obliga a los medios de comunicación a incluir contenidos educativos contra la violencia familiar y garantizar un tratamiento respetuoso de las víctimas.\\nLos medios de comunicación del país están obligadosa participar de la lucha contra laviolencia hacia las mujeresy los integrantes del grupo familiar. Así lo establece la Ley N° 32351, promulgada por el Congreso y difundida este martes en El Peruano.\\nLa norma modifica el artículo 46 de la Ley 30364, e introduce disposiciones para que los medios garanticen un enfoque de respeto a los derechos humanos, la libertad y la dignidad de las víctimas de violencia. También exige especial cuidado en el tratamiento gráfico de los contenidos que aborden estos casos.\\nUno de los principales cambios es la obligación de ceder, de forma gratuita, el 10 % de su programación durante el horario de protección familiar a instituciones públicas del Sistema Nacional para la Prevención, Sanción y Erradicación de la Violencia. La llamada \\'franja educativa\\' rige para los medios de comunicación escritos, televisivos, radiales y de cualquier otra modalidad sean públicos o privados.\\nLlama la atención esta disposición cuando los medios de comunicación informan de manera constante sobre la violencia contra la mujer y la falta de acción por parte del Estado para abordar esta situación.\\nEl Ejecutivo tiene un plazo de 30 días calendario para adecuar el reglamento y el Texto Único Ordenado de la Ley 30364, con base en esta reciente modificación. El objetivo es asegurar su efectiva implementación y coherencia legal.\\nPuedes revisar la normaaquí.\\nLa Ley 32351 es una peligrosa puerta trasera disfrazada de buena voluntad. Aunque el objetivo que persigue —prevenir la violencia contra mujeres y familias— es legítimo y necesario,imponer una franja educativa del 10% en todos los medios, incluyendo los escritos y digitales, constituye una interferencia directa en la libertad de prensa.\\nAsí lo advirtió aPerú21Zuliana Lainez, presidenta de la Asociación Nacional de Periodistas del Perú (ANP).\\n“El fin puede ser legítimo, pero las imposiciones son siempre incompatibles con la libertad de prensa. Esta modificatoria es una injerencia directa en los medios privados, disfrazada de causa noble\", opinó Lainez.\\n“Reitero, el fin puede ser legítimo, pero las imposiciones son siempre incompatibles con la libertad de prensa, y esto es una injerencia directa en los medios privados escudado en un fin legítimo que se puede compartir, pero que termina siendo atentatorio a la independencia y autonomía de los medios de comunicación\", dijo a este diario.\\nAprovecha la NUEVA EXPERIENCIA, recibe por correo y por Whatsapp nuestro periódico digital enriquecido. Perú21 ePaper.', path=None, url=None, mimetype=None), image_resource=None, audio_resource=None, video_resource=None, text_template='{metadata_str}\\n\\n{content}')"
      ]
     },
     "execution_count": 30,
     "metadata": {},
     "output_type": "execute_result"
    }
   ],
   "source": [
    "noticias_raw.document_loader[0][0]"
   ]
  },
  {
   "cell_type": "code",
   "execution_count": 31,
   "id": "946ca3f5",
   "metadata": {},
   "outputs": [],
   "source": [
    "docs = sum(noticias_raw['document_loader'].tolist(), [])"
   ]
  },
  {
   "cell_type": "code",
   "execution_count": 32,
   "id": "a321428d",
   "metadata": {},
   "outputs": [],
   "source": [
    "embeddings = OpenAIEmbedding(model=\"text-embedding-ada-002\")"
   ]
  },
  {
   "cell_type": "code",
   "execution_count": 33,
   "id": "40d0a971",
   "metadata": {},
   "outputs": [],
   "source": [
    "pipeline = IngestionPipeline(\n",
    "    transformations=[\n",
    "        SemanticSplitterNodeParser(embed_model=embeddings, buffer_size=1, breakpoint_percentile_threshold=95),\n",
    "        TitleExtractor(),\n",
    "        OpenAIEmbedding(model=\"text-embedding-ada-002\"),\n",
    "    ]\n",
    ")"
   ]
  },
  {
   "cell_type": "code",
   "execution_count": 34,
   "id": "2b25eb79",
   "metadata": {},
   "outputs": [
    {
     "name": "stderr",
     "output_type": "stream",
     "text": [
      "100%|██████████| 2/2 [00:01<00:00,  1.26it/s]\n",
      "100%|██████████| 2/2 [00:00<00:00,  2.30it/s]\n",
      "100%|██████████| 2/2 [00:01<00:00,  1.78it/s]\n",
      "100%|██████████| 2/2 [00:01<00:00,  1.97it/s]\n",
      "100%|██████████| 3/3 [00:00<00:00,  3.94it/s]\n"
     ]
    }
   ],
   "source": [
    "nodes = pipeline.run(documents = docs)"
   ]
  },
  {
   "cell_type": "code",
   "execution_count": 35,
   "id": "b752c643",
   "metadata": {},
   "outputs": [
    {
     "data": {
      "text/plain": [
       "11"
      ]
     },
     "execution_count": 35,
     "metadata": {},
     "output_type": "execute_result"
    }
   ],
   "source": [
    "len(nodes)"
   ]
  },
  {
   "cell_type": "code",
   "execution_count": 36,
   "id": "0678f07d",
   "metadata": {},
   "outputs": [
    {
     "name": "stderr",
     "output_type": "stream",
     "text": [
      "100%|██████████| 11/11 [00:00<00:00, 220.59it/s]\n"
     ]
    }
   ],
   "source": [
    "for i in tqdm(range(len(nodes))):\n",
    "   try:\n",
    "    palabras = word_tokenize(nodes[i].metadata['keywords'].lower())\n",
    "    palabras_filtradas = [p for p in palabras if p.isalnum() and p not in stop_words]\n",
    "    stems1 = [stemmer.stem(palabra) for palabra in palabras_filtradas]\n",
    "\n",
    "    palabras = word_tokenize(nodes[i].metadata['document_title'].lower())\n",
    "    palabras_filtradas = [p for p in palabras if p.isalnum() and p not in stop_words]\n",
    "    stems2 = [stemmer.stem(palabra) for palabra in palabras_filtradas]\n",
    "\n",
    "    claves = stems1 + stems2\n",
    "\n",
    "    nodes[i].metadata['keywords'] = claves\n",
    "   except:\n",
    "     print(f'no existe alguna metadata necesaria en el nodo {i}')"
   ]
  },
  {
   "cell_type": "code",
   "execution_count": 37,
   "id": "4a4a2ab3",
   "metadata": {},
   "outputs": [
    {
     "data": {
      "text/plain": [
       "{'url': 'https://peru21.pe/peru/medios-deberan-tener-franja-educativa-para-apoyar-lucha-contra-la-violencia-hacia-las-mujeres/',\n",
       " 'title': \"Medios deberán tener 'franja educativa' para apoyar lucha contra la violencia hacia las mujeres \",\n",
       " 'author': 'Perú 21',\n",
       " 'og:url': 'https://peru21.pe/peru/medios-deberan-tener-franja-educativa-para-apoyar-lucha-contra-la-violencia-hacia-las-mujeres/',\n",
       " 'robots': 'follow',\n",
       " 'og:type': 'article',\n",
       " 'abstract': 'Noticias del Perú y del mundo en peru21.pe - Ultimas noticias de política, deportes, espectáculos, fútbol, economía, mundo, tecnología, cultura, ciencia y más...',\n",
       " 'keywords': ['violenci',\n",
       "  'muj',\n",
       "  'violenci',\n",
       "  'famili',\n",
       "  'medi',\n",
       "  'comun',\n",
       "  'libert',\n",
       "  'prens',\n",
       "  'ley',\n",
       "  '32351',\n",
       "  'oblig',\n",
       "  'medi',\n",
       "  'comun',\n",
       "  'luch',\n",
       "  'violenci',\n",
       "  'famili',\n",
       "  'peru21',\n",
       "  'epap',\n",
       "  'div',\n",
       "  'collection',\n",
       "  'of',\n",
       "  'news',\n",
       "  'featur',\n",
       "  'and',\n",
       "  'opinions',\n",
       "  'comprehensiv',\n",
       "  'titl',\n",
       "  'regulations',\n",
       "  'for',\n",
       "  'medi',\n",
       "  'responsibiliti',\n",
       "  'in',\n",
       "  'combating',\n",
       "  'domestic',\n",
       "  'violenc',\n",
       "  'an',\n",
       "  'overview',\n",
       "  'of',\n",
       "  'peru21',\n",
       "  'epap',\n",
       "  'news',\n",
       "  'featur',\n",
       "  'and',\n",
       "  'opinions'],\n",
       " 'og:image': 'http://peru21.pe/sites/default/efsfiles/styles/amp_1200x675_16_9/public/2025-05/television.jpg?itok=7pZmAQmf',\n",
       " 'og:title': \"Medios deberán tener 'franja educativa' para apoyar lucha contra la violencia hacia las mujeres\",\n",
       " 'viewport': 'width=device-width, initial-scale=1.0',\n",
       " 'Generator': 'Drupal 9 (https://www.drupal.org)',\n",
       " 'fb:app_id': '1667917060088448',\n",
       " 'generator': 'Sirius Publisher',\n",
       " 'link:icon': 'https://peru21.pe/sites/default/efsfiles/favicon.png',\n",
       " 'og:locale': 'es_PE',\n",
       " 'sourceURL': 'https://peru21.pe/peru/medios-deberan-tener-franja-educativa-para-apoyar-lucha-contra-la-violencia-hacia-las-mujeres',\n",
       " 'article:tag': ['Violencia contra la mujer',\n",
       "  'Violencia familiar',\n",
       "  'Medios de comunicación',\n",
       "  'Libertad de prensa'],\n",
       " 'description': 'Medios deberán promover la defensa de víctimas de violencia familiar, según nueva ley',\n",
       " 'link:amphtml': 'https://peru21.pe/peru/medios-deberan-tener-franja-educativa-para-apoyar-lucha-contra-la-violencia-hacia-las-mujeres/?amp',\n",
       " 'og:site_name': 'Perú 21',\n",
       " 'twitter:card': 'summary_large_image',\n",
       " 'twitter:site': '@peru21',\n",
       " 'twitter:image': 'http://peru21.pe/sites/default/efsfiles/2025-05/television.jpg',\n",
       " 'twitter:title': \"Medios deberán tener 'franja educativa' para apoyar lucha contra la violencia hacia las mujeres\",\n",
       " 'article:author': 'Esther Vargas',\n",
       " 'link:canonical': 'https://peru21.pe/peru/medios-deberan-tener-franja-educativa-para-apoyar-lucha-contra-la-violencia-hacia-las-mujeres/',\n",
       " 'og:description': 'El Congreso aprobó la Ley N° 32351, que modifica la Ley 30364, y obliga a los medios de comunicación a incluir contenidos educativos contra la violencia familiar y garantizar un tratamiento respetuoso de las víctimas.',\n",
       " 'MobileOptimized': 'width',\n",
       " 'article:section': 'Perú',\n",
       " 'link:preconnect': 'https://servicer.mgid.com/',\n",
       " 'link:stylesheet': 'https://www.google.com/cse/static/style/look/v4/default.css',\n",
       " 'HandheldFriendly': 'true',\n",
       " 'link:dns-prefetch': 'https://peru21-pe.b-cdn.net/',\n",
       " 'og:image:secure_url': 'https://peru21.pe/sites/default/efsfiles/styles/amp_1200x675_16_9/public/2025-05/television.jpg?itok=7pZmAQmf',\n",
       " 'twitter:description': 'El Congreso aprobó la Ley N° 32351, que modifica la Ley 30364, y obliga a los medios de comunicación a incluir contenidos educativos contra la violencia familiar y garantizar un tratamiento respetuoso de las víctimas.',\n",
       " 'link:compression-dictionary': 'https://securepubads.g.doubleclick.net/pagead/managed/dict/m202506120101/gpt',\n",
       " 'fecha_publicacion': '2025/05/27',\n",
       " 'distrito': ['Independencia'],\n",
       " 'departamento': ['La Libertad'],\n",
       " 'document_title': 'Ley 32351: Obligaciones de los medios de comunicación en la lucha contra la violencia familiar, \"Perú21 ePaper: A Diverse Collection of News, Features, and Opinions\" - Comprehensive Title: \"Regulations for Media Responsibilities in Combating Domestic Violence: An Overview of Perú21 ePaper\\'s News, Features, and Opinions\"'}"
      ]
     },
     "execution_count": 37,
     "metadata": {},
     "output_type": "execute_result"
    }
   ],
   "source": [
    "nodes[0].metadata"
   ]
  },
  {
   "cell_type": "code",
   "execution_count": null,
   "id": "f7ffcab6",
   "metadata": {},
   "outputs": [],
   "source": [
    "vector_store = le(\n",
    "    es_url=\"http://34.60.116.171:9200\",\n",
    "    es_user=\"elastic\",\n",
    "    es_password='504im-7l4jugthbCMSJV',\n",
    "    index_name=\"notices2\",\n",
    ")\n",
    "\n",
    "storage_context = StorageContext.from_defaults(vector_store=vector_store)\n",
    "\n",
    "index = VectorStoreIndex(nodes, storage_context=storage_context)"
   ]
  },
  {
   "cell_type": "markdown",
   "id": "717c3248",
   "metadata": {},
   "source": [
    "### Parte Langchain"
   ]
  },
  {
   "cell_type": "code",
   "execution_count": 6,
   "id": "a18bdded",
   "metadata": {},
   "outputs": [],
   "source": [
    "from langchain_openai import OpenAIEmbeddings\n",
    "from langchain.schema.runnable import RunnableLambda, RunnableParallel\n",
    "from langchain.prompts import ChatPromptTemplate\n",
    "from langchain.schema.output_parser import StrOutputParser\n",
    "from langchain_openai import ChatOpenAI\n",
    "from langgraph.prebuilt import create_react_agent\n",
    "from langchain.tools import tool\n",
    "from langchain_core.prompts import ChatPromptTemplate, MessagesPlaceholder\n",
    "from langchain_core.messages import HumanMessage\n",
    "from langgraph.checkpoint.memory import MemorySaver\n",
    "from langchain_core.runnables import RunnablePassthrough\n",
    "from langchain_community.utilities.sql_database import SQLDatabase \n",
    "from langchain_community.agent_toolkits import SQLDatabaseToolkit \n",
    "from langchain_experimental.tools import PythonREPLTool\n",
    "from psycopg_pool import ConnectionPool\n",
    "from langgraph.checkpoint.postgres import PostgresSaver\n",
    "memory = MemorySaver()"
   ]
  },
  {
   "cell_type": "code",
   "execution_count": 9,
   "id": "a8f01e54",
   "metadata": {},
   "outputs": [],
   "source": [
    "## Ejecutar solo la primera vez para crear automaticamente las tablas\n",
    "## [checkpoint_blobs, checkpoint_migrations, checkpoint_writes, checkpoints] en el esquema public\n",
    "#Variables de memoria\n",
    "connection_kwargs = {\n",
    "    \"autocommit\": True,\n",
    "    \"prepare_threshold\": 0,\n",
    "}\n",
    "# Inicializamos la memoria\n",
    "with ConnectionPool(\n",
    "    # Example configuration\n",
    "    conninfo=uribd,\n",
    "    max_size=20,\n",
    "    kwargs=connection_kwargs,\n",
    ") as pool:\n",
    "    checkpointer = PostgresSaver(pool)\n",
    "    checkpointer.setup()"
   ]
  },
  {
   "cell_type": "code",
   "execution_count": 7,
   "id": "782480f7",
   "metadata": {},
   "outputs": [],
   "source": [
    "distritos_lima = [\n",
    "    \"Ancón\",\n",
    "    \"Ate\",\n",
    "    \"Barranco\",\n",
    "    \"Breña\",\n",
    "    \"Carabayllo\",\n",
    "    \"Chaclacayo\",\n",
    "    \"Chorrillos\",\n",
    "    \"Cieneguilla\",\n",
    "    \"Comas\",\n",
    "    \"El Agustino\",\n",
    "    \"Independencia\",\n",
    "    \"Jesús María\",\n",
    "    \"La Molina\",\n",
    "    \"La Victoria\",\n",
    "    \"Lince\",\n",
    "    \"Los Olivos\",\n",
    "    \"Lurigancho\",\n",
    "    \"Lurín\",\n",
    "    \"Magdalena del Mar\",\n",
    "    \"Miraflores\",\n",
    "    \"Pachacámac\",\n",
    "    \"Pucusana\",\n",
    "    \"Pueblo Libre\",\n",
    "    \"Puente Piedra\",\n",
    "    \"Punta Hermosa\",\n",
    "    \"Punta Negra\",\n",
    "    \"Rímac\",\n",
    "    \"San Bartolo\",\n",
    "    \"San Borja\",\n",
    "    \"San Isidro\",\n",
    "    \"San Juan de Lurigancho\",\n",
    "    \"San Juan de Miraflores\",\n",
    "    \"San Luis\",\n",
    "    \"San Martín de Porres\",\n",
    "    \"San Miguel\",\n",
    "    \"Santa Anita\",\n",
    "    \"Santa María del Mar\",\n",
    "    \"Santa Rosa\",\n",
    "    \"Santiago de Surco\",\n",
    "    \"Surquillo\",\n",
    "    \"Villa El Salvador\",\n",
    "    \"Villa María del Triunfo\"\n",
    "]\n"
   ]
  },
  {
   "cell_type": "code",
   "execution_count": 8,
   "id": "8b1a886c",
   "metadata": {},
   "outputs": [],
   "source": [
    "distritos_lima = distritos_lima + [distrito.upper() for distrito in distritos_lima]"
   ]
  },
  {
   "cell_type": "code",
   "execution_count": 9,
   "id": "19dd1f23",
   "metadata": {},
   "outputs": [],
   "source": [
    "departamentos_peru = [\n",
    "    \"Amazonas\",\n",
    "    \"Áncash\",\n",
    "    \"Apurímac\",\n",
    "    \"Arequipa\",\n",
    "    \"Ayacucho\",\n",
    "    \"Cajamarca\",\n",
    "    \"Callao\", \n",
    "    \"Cusco\",\n",
    "    \"Huancavelica\",\n",
    "    \"Huánuco\",\n",
    "    \"Ica\",\n",
    "    \"Junín\",\n",
    "    \"La Libertad\",\n",
    "    \"Lambayeque\",\n",
    "    \"Lima\",\n",
    "    \"Loreto\",\n",
    "    \"Madre de Dios\",\n",
    "    \"Moquegua\",\n",
    "    \"Pasco\",\n",
    "    \"Piura\",\n",
    "    \"Puno\",\n",
    "    \"San Martín\",\n",
    "    \"Tacna\",\n",
    "    \"Tumbes\",\n",
    "    \"Ucayali\"\n",
    "]\n"
   ]
  },
  {
   "cell_type": "code",
   "execution_count": 10,
   "id": "bda1739c",
   "metadata": {},
   "outputs": [],
   "source": [
    "departamentos_peru = departamentos_peru + [departamento.upper() for departamento in departamentos_peru]"
   ]
  },
  {
   "cell_type": "code",
   "execution_count": 11,
   "id": "f5391b71",
   "metadata": {},
   "outputs": [],
   "source": [
    "def buscar_ordenados(texto, lista):\n",
    "    encontrados = []\n",
    "\n",
    "    for lugar in lista:\n",
    "        patron = r'\\b' + re.escape(lugar) + r'\\b'\n",
    "        match = re.search(patron, texto)\n",
    "        if match:\n",
    "            encontrados.append((lugar, match.start()))\n",
    "    \n",
    "    # Ordenar por posición en el texto\n",
    "    encontrados.sort(key=lambda x: x[1])\n",
    "    \n",
    "    # Aplicar .title() y eliminar duplicados preservando el orden\n",
    "    vistos = set()\n",
    "    resultado = []\n",
    "    for nombre, _ in encontrados:\n",
    "        nombre_title = nombre.title()\n",
    "        if nombre_title not in vistos:\n",
    "            resultado.append(nombre_title)\n",
    "            vistos.add(nombre_title)\n",
    "    \n",
    "    return resultado"
   ]
  },
  {
   "cell_type": "code",
   "execution_count": 12,
   "id": "fa19b23b",
   "metadata": {},
   "outputs": [],
   "source": [
    "llm = ChatOpenAI(\n",
    "    temperature=0,\n",
    "    model=\"gpt-4\")\n",
    "\n",
    "class State(TypedDict):\n",
    "    question: str\n",
    "    inicio: Optional[str]\n",
    "    fin: Optional[str]\n",
    "    distrito: List[str]\n",
    "    departamento: List[str]\n",
    "    context: List[Document]\n",
    "    keywords: List[str]\n",
    "    answer: str"
   ]
  },
  {
   "cell_type": "code",
   "execution_count": 13,
   "id": "62245ff8",
   "metadata": {},
   "outputs": [],
   "source": [
    "#Creamos la conexion a la base de datos\n",
    "db_data = SQLDatabase.from_uri(uribd)\n",
    "\n",
    "# Herramienta BD\n",
    "toolkit_bd = SQLDatabaseToolkit(db=db_data,llm=llm)\n",
    "tools_bd = toolkit_bd.get_tools()"
   ]
  },
  {
   "cell_type": "code",
   "execution_count": 14,
   "id": "d6bbb38b",
   "metadata": {},
   "outputs": [
    {
     "name": "stderr",
     "output_type": "stream",
     "text": [
      "C:\\Users\\Omen\\AppData\\Local\\Temp\\ipykernel_27652\\2925112533.py:44: LangChainBetaWarning: This API is in beta and may change in the future.\n",
      "  tool_sql = full_chain.as_tool(\n"
     ]
    }
   ],
   "source": [
    "def get_schema(_):\n",
    "  return db_data.get_table_info() # Devuelve la información de las tablas de la base de datos.\n",
    "\n",
    "def run_query(query):\n",
    "  return db_data.run(query) # Ejecuta un query en la base de datos.\n",
    "\n",
    "promptsql = ChatPromptTemplate.from_template(\"\"\"\n",
    "Basandonos en el esquema del conjunto de tablas siguiente, escribe una consulta SQL que responda a la pregunta del usuario:\n",
    "    {schema}\n",
    "\n",
    "    Pregunta: {question}\n",
    "    Sql Query:\n",
    "\"\"\")\n",
    "\n",
    "\n",
    "sql_chain = (\n",
    "    RunnablePassthrough.assign(schema=get_schema) # Usa RunnablePassthrough para agregar el esquema de la base.\n",
    "    | promptsql # Le pasa el promptsql al modelo de lenguaje (el LLM) para que genere el SQL.\n",
    "    | llm.bind(stop=[\"\\nSQLResult:\"]) # Se detiene cuando encuentre \\nSQLResult: para no generar texto demás.\n",
    "    | StrOutputParser()\n",
    ")\n",
    "\n",
    "promptsqlquery = ChatPromptTemplate.from_template(\n",
    "    \"\"\"\n",
    "    Basandonos en el esquema de tabla inferior, pregunta, SQL Query y Respuesta, escribe una respuesta en lenguaje natural:\n",
    "    {schema}\n",
    "\n",
    "    Pregunta: {question}\n",
    "    Sql Query: {query}\n",
    "    SQL Respuesta: {response}\n",
    "\n",
    "    \"\"\")\n",
    "\n",
    "full_chain = (\n",
    "    RunnablePassthrough.assign(query=sql_chain).assign(\n",
    "        schema=get_schema,\n",
    "        response= lambda vars: run_query(vars[\"query\"]),\n",
    "    )\n",
    "    | promptsqlquery\n",
    "    | llm\n",
    ")\n",
    "\n",
    "\n",
    "tool_sql = full_chain.as_tool(\n",
    "    name=\"busqueda_feminicidios\", description=\"Consulta en la base de datos informacion sobre feminicidios ocurridos en departamentos y provincias del Perú\"\n",
    ")\n"
   ]
  },
  {
   "cell_type": "code",
   "execution_count": 15,
   "id": "9189c81f",
   "metadata": {},
   "outputs": [],
   "source": [
    "python_executor = PythonREPLTool()"
   ]
  },
  {
   "cell_type": "code",
   "execution_count": 16,
   "id": "92a361f3",
   "metadata": {},
   "outputs": [],
   "source": [
    "@tool\n",
    "def graficar_desde_texto(data: str, tipo: str = \"barras\") -> str:\n",
    "    \"\"\"\n",
    "    Genera y ejecuta un gráfico en Python usando matplotlib/pandas a partir de datos en texto.\n",
    "    Guarda la imagen localmente y la sube a un bucket de GCS. Devuelve la URL pública.\n",
    "    \"\"\"\n",
    "    import_statement = \"\"\"import pandas as pd\n",
    "import matplotlib.pyplot as plt\n",
    "from io import StringIO\n",
    "\"\"\"\n",
    "\n",
    "    nombre_imagen = f\"{uuid.uuid4().hex}.png\"\n",
    "    ruta_salida = f\"./{nombre_imagen}\"  # Ruta segura en Windows\n",
    "\n",
    "    instrucciones_guardado = f'plt.savefig(\"{ruta_salida}\")\\nplt.close()'\n",
    "\n",
    "    prompt = f\"\"\"\n",
    "Eres un generador de código Python. A partir de los siguientes datos en texto:\n",
    "{data}\n",
    "Genera un bloque de código Python usando pandas y matplotlib para crear un gráfico de tipo '{tipo}'.\n",
    "\n",
    "Instrucciones:\n",
    "- Usa pandas y io.StringIO para leer los datos.\n",
    "- El DataFrame debe llamarse 'df'.\n",
    "- Usa matplotlib para graficar.\n",
    "- No uses plt.show().\n",
    "- No imprimas nada.\n",
    "- Al final, guarda el gráfico como '{ruta_salida}' usando plt.savefig y luego plt.close().\n",
    "- Devuelve SOLO el código Python puro, sin explicaciones, sin comentarios, sin comillas triples.\n",
    "\"\"\"\n",
    "\n",
    "    try:\n",
    "        codigo_python = llm.invoke(prompt).content.strip()\n",
    "\n",
    "        # Si ya contiene plt.savefig, no lo añadimos\n",
    "        if \"plt.savefig\" in codigo_python or \"plt.close\" in codigo_python:\n",
    "            codigo_completo = import_statement + codigo_python\n",
    "        else:\n",
    "            codigo_completo = import_statement + codigo_python + \"\\n\" + instrucciones_guardado\n",
    "\n",
    "        python_executor.invoke(codigo_completo)\n",
    "\n",
    "        if not os.path.exists(ruta_salida):\n",
    "            return f\" El archivo gráfico no fue generado: {ruta_salida}. Código generado:\\n\\n{codigo_python}\"\n",
    "\n",
    "        # Subir a GCS\n",
    "        bucket_name = \"mujerapp-imagenes\"\n",
    "        storage_client = storage.Client()\n",
    "        bucket = storage_client.bucket(bucket_name)\n",
    "        blob = bucket.blob(nombre_imagen)\n",
    "        blob.upload_from_filename(ruta_salida)\n",
    "\n",
    "        # Construir URL pública\n",
    "        url_publica = f\"https://storage.googleapis.com/{bucket_name}/{nombre_imagen}\"\n",
    "        return url_publica\n",
    "\n",
    "    except Exception as e:\n",
    "        import traceback\n",
    "        return f\" Error al generar o subir gráfico:\\n{traceback.format_exc()}\"\n"
   ]
  },
  {
   "cell_type": "code",
   "execution_count": 17,
   "id": "3ca89b87",
   "metadata": {},
   "outputs": [],
   "source": [
    "# ------------------------\n",
    "# FUNCIONES AUXILIARES\n",
    "# ------------------------\n",
    "\n",
    "def format_docs(docs):\n",
    "    return \"\\n\\n\".join(doc.get_content() for doc in docs)\n",
    "\n",
    "# ------------------------\n",
    "prompt_tiempo = ChatPromptTemplate.from_messages([\n",
    "    (\"system\",  \"\"\"Extrae todas las fechas del siguiente texto en formato YYYY/MM/DD.\n",
    "                Reglas:\n",
    "                - Si se menciona un día, mes y año como \"5 de mayo de 2022\" debes agregarle un dia mas a la fecha original, devuelve: 2022/05/05, 2022/05/06.\n",
    "                - Si se menciona solo un mes y año como \"julio de 2022\", devuelve: 2022/07/01, 2022/07/31.\n",
    "                - Si se menciona solo un año como \"2022\", devuelve dos fechas: 2022/01/01, 2022/12/31.\n",
    "                - Si se menciona un rango como \"entre 2020 y 2022\", devuelve: 2020/01/01, 2022/12/31.\n",
    "                - Si no se menciona ninguna fecha entonces regresa la palabra vacío.\n",
    "\n",
    "                Ejemplos:\n",
    "                Entrada: \"Durante 2022 aumentaron los casos\"\n",
    "                Salida: 2022/01/01, 2022/12/31\n",
    "\n",
    "                Entrada: \"Entre 2021 y 2022 hubo más casos\"\n",
    "                Salida: 2021/01/01, 2022/12/31\n",
    "\n",
    "                Entrada: \"En mayo de 2022 ocurrieron eventos\"\n",
    "                Salida: 2022/05/01, 2022/05/31\n",
    "\n",
    "                Entrada: \"En marzo y julio del 2022\"\n",
    "                Salida: 2022/03/01, 2022/07/31\n",
    "     \n",
    "                Entrada: \"El 5 de marzo del 2022\"\n",
    "                Salida: 2022/03/05, 2022/03/06\n",
    "     \n",
    "                Entrada: \"No se menciona nada de fechas\"\n",
    "                Salida: vacío\n",
    "\n",
    "                Extrae las fechas del siguiente texto:\n",
    "                \"\"\"),\n",
    "    (\"human\", \"{input}\")\n",
    "])\n",
    "\n",
    "\n",
    "# ------------------------\n",
    "# CHAINS de metadatos\n",
    "# ------------------------\n",
    "\n",
    "chain_tiempo = RunnableLambda(lambda x: {\"input\": x[\"question\"]}) | prompt_tiempo | llm\n",
    "\n",
    "agent_metadata = RunnableParallel({\n",
    "    \"time\": chain_tiempo\n",
    "})\n",
    "\n",
    "# ---------------------------------\n",
    "# -     EXTRACCIÓN DE METADATA    -\n",
    "# ---------------------------------\n",
    "\n",
    "def extract_metadata(state: State) -> State:\n",
    "    result = agent_metadata.invoke(state)\n",
    "    fechas_raw = result[\"time\"].content.strip()\n",
    "\n",
    "    try:\n",
    "        if fechas_raw.lower() == \"vacío\":\n",
    "            inicio, fin = \"\", \"\"\n",
    "        elif \",\" in fechas_raw:\n",
    "            inicio, fin = [f.strip() for f in fechas_raw.split(',')]\n",
    "        else:\n",
    "            fecha = datetime.strptime(fechas_raw, \"%Y/%m/%d\")\n",
    "            inicio = fecha.strftime(\"%Y/%m/%d\")\n",
    "            fin = (fecha + timedelta(days=1)).strftime(\"%Y/%m/%d\")\n",
    "    except Exception:\n",
    "        inicio, fin = \"\", \"\"\n",
    "\n",
    "\n",
    "    distrito = buscar_ordenados(state['question'], distritos_lima)\n",
    "    departamento = buscar_ordenados(state['question'], departamentos_peru)\n",
    "\n",
    "    if inicio and fin:\n",
    "        state[\"inicio\"] = inicio\n",
    "        state[\"fin\"] = fin\n",
    "    if len(distrito)!= 0:\n",
    "        state[\"distrito\"] = distrito\n",
    "    if len(departamento)!= 0:\n",
    "        state['departamento'] = departamento\n",
    "\n",
    "\n",
    "    palabras = word_tokenize(state['question'].lower())\n",
    "    palabras_filtradas = [p for p in palabras if p.isalnum() and p not in stop_words]\n",
    "    keys = [stemmer.stem(palabra) for palabra in palabras_filtradas]\n",
    "    state['keywords'] = keys\n",
    "\n",
    "    return state\n",
    "\n",
    "# ------------------------\n",
    "# FILTRADO Y RECUPERACIÓN\n",
    "# ------------------------\n",
    "\n",
    "def retrieve_docs(state: State) -> State:\n",
    "    print(state)\n",
    "    must_filters = []\n",
    "    if state.get(\"distrito\"):\n",
    "        must_filters.append({\"terms\": {\"metadata.distrito.keyword\": state[\"distrito\"]}})\n",
    "    if state.get(\"departamento\"):\n",
    "        must_filters.append({\"terms\": {\"metadata.departamento.keyword\": state[\"departamento\"]}})\n",
    "    if state.get(\"inicio\") and state.get(\"fin\"):\n",
    "        must_filters.append({\n",
    "            \"range\": {\n",
    "                \"metadata.fecha_publicacion\": {\n",
    "                    \"gte\": datetime.strptime(state[\"inicio\"], \"%Y/%m/%d\"),\n",
    "                    \"lte\": datetime.strptime(state[\"fin\"], \"%Y/%m/%d\")\n",
    "                }\n",
    "            }\n",
    "        })\n",
    "\n",
    "    filtro = {\n",
    "    \"bool\": {\n",
    "        \"must\": must_filters,\n",
    "        \"should\": [\n",
    "            {\"terms\": {\"metadata.keywords.keyword\": state[\"keywords\"]}}\n",
    "        ],\n",
    "        \"minimum_should_match\": 0 \n",
    "        }\n",
    "    }\n",
    "\n",
    "\n",
    "    vector_store = le(\n",
    "    es_url=\"http://34.60.116.171:9200\",\n",
    "    es_user=\"elastic\",\n",
    "    es_password='504im-7l4jugthbCMSJV',\n",
    "    index_name=\"notices\"\n",
    "    )\n",
    "\n",
    "    storage_context_read = StorageContext.from_defaults(vector_store=vector_store)\n",
    "\n",
    "    index_read = VectorStoreIndex.from_vector_store(\n",
    "        vector_store=vector_store,\n",
    "        storage_context=storage_context_read,embed_model=OpenAIEmbedding(model=\"text-embedding-ada-002\")\n",
    "    )\n",
    "    retriever = index_read.as_retriever(filter=filtro, k=10)\n",
    "    results = retriever.retrieve(state[\"question\"])\n",
    "    print(len(results))\n",
    "    print(results)\n",
    "    return {**state, \"context\": results}\n",
    "\n",
    "# ------------------------\n",
    "# PROMPT QA\n",
    "# ------------------------\n",
    "\n",
    "PROMPT_QA = ChatPromptTemplate.from_template(\"\"\"\n",
    "    Eres un asistente para tareas de respuesta a preguntas.\n",
    "    Usa los siguientes fragmentos de contexto recuperado para responder la pregunta.\n",
    "    Si no sabes la respuesta, simplemente di que no lo sabes.\n",
    "    Usa un máximo de tres oraciones y mantén la respuesta concisa.\n",
    "    \n",
    "    Pregunta: {question}\n",
    "    Contexto: {context}\n",
    "\"\"\")\n",
    "\n",
    "qa_chain = (\n",
    "    {\n",
    "        \"context\": lambda x: format_docs(x[\"context\"]),\n",
    "        \"question\": lambda x: x[\"question\"],\n",
    "    }\n",
    "    | PROMPT_QA\n",
    "    | llm\n",
    "    | StrOutputParser()\n",
    ")\n",
    "\n",
    "# ------------------------------------------\n",
    "# -         HERRAMIENTA PRINCIPAL          -\n",
    "# ------------------------------------------\n",
    "\n",
    "@tool\n",
    "def rag_con_metadata(question: str) -> str:\n",
    "    \"\"\"\n",
    "    Herramienta que responde preguntas sobre violencia de genero.\n",
    "    \"\"\"\n",
    "    print('se usa la herramienta rag')\n",
    "    initial_state: State = {\n",
    "        \"question\": question,\n",
    "        \"inicio\": None,\n",
    "        \"fin\": None,\n",
    "        \"distrito\": [],\n",
    "        \"departamento\": [],\n",
    "        \"context\": [],\n",
    "        'keywords': [],\n",
    "        \"answer\": \"\"\n",
    "    }\n",
    "    estado_con_metadata = extract_metadata(initial_state) # todo OK ESTA ACA\n",
    "    estado_con_contexto = retrieve_docs(estado_con_metadata)\n",
    "    respuesta = qa_chain.invoke(estado_con_contexto)\n",
    "\n",
    "    estado_con_contexto[\"answer\"] = respuesta\n",
    "    return respuesta\n",
    "\n",
    "# ------------------------\n",
    "# AGENTE FINAL\n",
    "# ------------------------\n",
    "\n",
    "tools = [rag_con_metadata,tool_sql,graficar_desde_texto]\n",
    "modelo = ChatOpenAI(temperature=0)\n",
    "\n",
    "\n",
    "general_prompt = ChatPromptTemplate.from_messages(\n",
    "    [\n",
    "        (\"system\", f\"\"\"Eres un asistente amable y especializado en noticias sobre violencia de género ocurridas en el Perú.\n",
    "            Tu objetivo es guiar al usuario de forma amigable, breve y conversacional, como si fueras un amigo experto en el tema. Sigue estos lineamientos:\n",
    "            1. Saludo y contexto: Da un saludo cálido, indícale que eres un agente que cuenta con información de noticias sobre violencia de género ocurridas entre 2019 y 2025. Ademas de que solo puedes consultar en noticias que hayan ocurrido en distritos de Lima y departamentos del Perú. Y pregunta qué desea saber el usuario. \n",
    "            2. Estas noticias fueron recopiladas de medios digitales confiables y reconocidos por la ciudadanía como Peru 21, Correo, El Comercio y Exitosa.\n",
    "            3. Si no sabes la respuesta, dilo con honestidad y ofrece continuar la búsqueda juntos.\n",
    "            4. Si la pregunta se relaciona con violencia de género, feminicidios, abuso sexual, agresión, hostigamiento, maltrato físico o psicológico, entonces debes usar la herramienta `rag_con_metadata` para responder. \n",
    "            5. Si la pregunta se relaciona con consultar a una base de datos, entonces usa la herramienta 'tool_sql'\n",
    "            6. Si la pregunta se relaciona con generar un grafico, usa primero la herramient 'tool_sql' y luego 'graficar_desde_texto'.\n",
    "            Es muy importante que siempre uses una herramienta.\n",
    "            \"\"\"),\n",
    "\n",
    "     MessagesPlaceholder(variable_name=\"messages\")\n",
    "\n",
    "     ]\n",
    ")\n",
    "\n",
    "agent2 = create_react_agent(modelo, tools, checkpointer=memory, prompt=general_prompt)\n"
   ]
  },
  {
   "cell_type": "code",
   "execution_count": 21,
   "id": "14ade026",
   "metadata": {},
   "outputs": [
    {
     "name": "stdout",
     "output_type": "stream",
     "text": [
      "se usa la herramienta rag\n",
      "{'question': '¿Entre el 2020 y 2023, hubo alguna ley que implementara medios digitales que permitan a las mujeres denunciar sus casos de violencia?', 'inicio': '2020/01/01', 'fin': '2023/12/31', 'distrito': [], 'departamento': [], 'context': [], 'keywords': ['2020', '2023', 'algun', 'ley', 'implement', 'medi', 'digital', 'permit', 'mujer', 'denunci', 'cas', 'violenci'], 'answer': ''}\n",
      "2\n",
      "[NodeWithScore(node=TextNode(id_='45a2bc59-0188-4e3c-996b-fa23f44c2b99', embedding=None, metadata={'url': 'https://peru21.pe/peru/resuelven-mas-de-170-mil-denuncias-de-violencia-contra-la-mujer-en-juzgados-habilitados-con-expediente-electronico-peru-expediente-electronico-eje-poder-judicial-noticia/', 'title': 'Resuelven más de 170 mil denuncias de violencia contra la mujer en juzgados habilitados con expediente electrónico', 'author': 'Perú 21', 'og:url': 'https://peru21.pe/peru/resuelven-mas-de-170-mil-denuncias-de-violencia-contra-la-mujer-en-juzgados-habilitados-con-expediente-electronico-peru-expediente-electronico-eje-poder-judicial-noticia/', 'robots': 'follow', 'og:type': 'article', 'abstract': 'Noticias del Perú y del mundo en peru21.pe - Ultimas noticias de política, deportes, espectáculos, fútbol, economía, mundo, tecnología, cultura, ciencia y más...', 'keywords': ['violenci', 'muj', 'pod', 'judicial', 'denunci', 'transform', 'tecnolog', 'luch', 'violenci', 'haci', 'mujer', 'avanc', 'desafi'], 'og:image': 'http://peru21.pe/sites/default/efsfiles/styles/amp_1200x675_16_9/public/2023-10/GB4FAYU7IBB3BK3ETTF4GHMOTM.jpeg?itok=dQYScEU3', 'og:title': 'Resuelven más de 170 mil denuncias de violencia contra la mujer en juzgados habilitados con expediente electrónico', 'viewport': 'width=device-width, initial-scale=1.0', 'Generator': 'Drupal 9 (https://www.drupal.org)', 'fb:app_id': '1667917060088448', 'generator': 'Sirius Publisher', 'link:icon': 'https://peru21.pe/sites/default/efsfiles/favicon.png', 'og:locale': 'es_PE', 'sourceURL': 'https://peru21.pe/peru/resuelven-mas-de-170-mil-denuncias-de-violencia-contra-la-mujer-en-juzgados-habilitados-con-expediente-electronico-peru-expediente-electronico-eje-poder-judicial-noticia', 'article:tag': ['Violencia contra la mujer', 'Poder Judicial', 'Denuncias'], 'description': 'La herramienta digital permitió la reducción en el tiempo para la atención de estas denuncias de 7 días con expedientes físicos, a 1.8 en promedio, según comunicó el Poder Judicial.', 'link:amphtml': 'https://peru21.pe/peru/resuelven-mas-de-170-mil-denuncias-de-violencia-contra-la-mujer-en-juzgados-habilitados-con-expediente-electronico-peru-expediente-electronico-eje-poder-judicial-noticia/?amp', 'og:site_name': 'Perú 21', 'twitter:card': 'summary_large_image', 'twitter:site': '@peru21', 'twitter:image': 'http://peru21.pe/sites/default/efsfiles/2023-10/GB4FAYU7IBB3BK3ETTF4GHMOTM.jpeg', 'twitter:title': 'Resuelven más de 170 mil denuncias de violencia contra la mujer en juzgados habilitados con expediente electrónico', 'article:author': 'Redacción PERÚ21', 'link:canonical': 'https://peru21.pe/peru/resuelven-mas-de-170-mil-denuncias-de-violencia-contra-la-mujer-en-juzgados-habilitados-con-expediente-electronico-peru-expediente-electronico-eje-poder-judicial-noticia/', 'og:description': 'La herramienta digital permitió la reducción en el tiempo para la atención de estas denuncias de 7 días con expedientes físicos, a 1.8 en promedio, según comunicó el Poder Judicial.', 'MobileOptimized': 'width', 'article:section': 'Perú', 'link:preconnect': 'https://servicer.mgid.com/', 'link:stylesheet': 'https://www.google.com/cse/static/style/look/v4/default.css', 'HandheldFriendly': 'true', 'link:dns-prefetch': 'https://peru21-pe.b-cdn.net/', 'og:image:secure_url': 'https://peru21.pe/sites/default/efsfiles/styles/amp_1200x675_16_9/public/2023-10/GB4FAYU7IBB3BK3ETTF4GHMOTM.jpeg?itok=dQYScEU3', 'twitter:description': 'La herramienta digital permitió la reducción en el tiempo para la atención de estas denuncias de 7 días con expedientes físicos, a 1.8 en promedio, según comunicó el Poder Judicial.', 'link:compression-dictionary': 'https://securepubads.g.doubleclick.net/pagead/managed/dict/m202505290101/gpt', 'fecha_publicacion': '2023/03/13', 'distrito': [], 'departamento': [], 'document_title': '\"Transformación tecnológica en la lucha contra la violencia hacia las mujeres: Avances y desafíos\"'}, excluded_embed_metadata_keys=[], excluded_llm_metadata_keys=[], relationships={<NodeRelationship.SOURCE: '1'>: RelatedNodeInfo(node_id='a83c460f-2c31-44d3-b30e-f8b256f03f01', node_type='4', metadata={'url': 'https://peru21.pe/peru/resuelven-mas-de-170-mil-denuncias-de-violencia-contra-la-mujer-en-juzgados-habilitados-con-expediente-electronico-peru-expediente-electronico-eje-poder-judicial-noticia/', 'title': 'Resuelven más de 170 mil denuncias de violencia contra la mujer en juzgados habilitados con expediente electrónico', 'author': 'Perú 21', 'og:url': 'https://peru21.pe/peru/resuelven-mas-de-170-mil-denuncias-de-violencia-contra-la-mujer-en-juzgados-habilitados-con-expediente-electronico-peru-expediente-electronico-eje-poder-judicial-noticia/', 'robots': 'follow', 'og:type': 'article', 'abstract': 'Noticias del Perú y del mundo en peru21.pe - Ultimas noticias de política, deportes, espectáculos, fútbol, economía, mundo, tecnología, cultura, ciencia y más...', 'keywords': 'Violencia contra la mujer,Poder Judicial,Denuncias', 'og:image': 'http://peru21.pe/sites/default/efsfiles/styles/amp_1200x675_16_9/public/2023-10/GB4FAYU7IBB3BK3ETTF4GHMOTM.jpeg?itok=dQYScEU3', 'og:title': 'Resuelven más de 170 mil denuncias de violencia contra la mujer en juzgados habilitados con expediente electrónico', 'viewport': 'width=device-width, initial-scale=1.0', 'Generator': 'Drupal 9 (https://www.drupal.org)', 'fb:app_id': '1667917060088448', 'generator': 'Sirius Publisher', 'link:icon': 'https://peru21.pe/sites/default/efsfiles/favicon.png', 'og:locale': 'es_PE', 'sourceURL': 'https://peru21.pe/peru/resuelven-mas-de-170-mil-denuncias-de-violencia-contra-la-mujer-en-juzgados-habilitados-con-expediente-electronico-peru-expediente-electronico-eje-poder-judicial-noticia', 'article:tag': ['Violencia contra la mujer', 'Poder Judicial', 'Denuncias'], 'description': 'La herramienta digital permitió la reducción en el tiempo para la atención de estas denuncias de 7 días con expedientes físicos, a 1.8 en promedio, según comunicó el Poder Judicial.', 'link:amphtml': 'https://peru21.pe/peru/resuelven-mas-de-170-mil-denuncias-de-violencia-contra-la-mujer-en-juzgados-habilitados-con-expediente-electronico-peru-expediente-electronico-eje-poder-judicial-noticia/?amp', 'og:site_name': 'Perú 21', 'twitter:card': 'summary_large_image', 'twitter:site': '@peru21', 'twitter:image': 'http://peru21.pe/sites/default/efsfiles/2023-10/GB4FAYU7IBB3BK3ETTF4GHMOTM.jpeg', 'twitter:title': 'Resuelven más de 170 mil denuncias de violencia contra la mujer en juzgados habilitados con expediente electrónico', 'article:author': 'Redacción PERÚ21', 'link:canonical': 'https://peru21.pe/peru/resuelven-mas-de-170-mil-denuncias-de-violencia-contra-la-mujer-en-juzgados-habilitados-con-expediente-electronico-peru-expediente-electronico-eje-poder-judicial-noticia/', 'og:description': 'La herramienta digital permitió la reducción en el tiempo para la atención de estas denuncias de 7 días con expedientes físicos, a 1.8 en promedio, según comunicó el Poder Judicial.', 'MobileOptimized': 'width', 'article:section': 'Perú', 'link:preconnect': 'https://servicer.mgid.com/', 'link:stylesheet': 'https://www.google.com/cse/static/style/look/v4/default.css', 'HandheldFriendly': 'true', 'link:dns-prefetch': 'https://peru21-pe.b-cdn.net/', 'og:image:secure_url': 'https://peru21.pe/sites/default/efsfiles/styles/amp_1200x675_16_9/public/2023-10/GB4FAYU7IBB3BK3ETTF4GHMOTM.jpeg?itok=dQYScEU3', 'twitter:description': 'La herramienta digital permitió la reducción en el tiempo para la atención de estas denuncias de 7 días con expedientes físicos, a 1.8 en promedio, según comunicó el Poder Judicial.', 'link:compression-dictionary': 'https://securepubads.g.doubleclick.net/pagead/managed/dict/m202505290101/gpt', 'fecha_publicacion': '2023/03/13', 'distrito': [], 'departamento': []}, hash='cfa13d52d4ae4db93f4250dbe506f4056beea58588164183c9d617729e87f7ae')}, metadata_template='{key}: {value}', metadata_separator='\\n', text='La herramienta digital permitió la reducción en el tiempo para la atención de estas denuncias de 7 días con expedientes físicos, a 1.8 en promedio, según comunicó el Poder Judicial.Los juzgados de familia habilitados de manera progresiva desde el 2022 con el Expediente Judicial Electrónico (EJE) y la Mesa de Partes Electrónica (MPE), de las 34 cortes, resolvieron, hasta febrero último, dictando significativamente medidas de protección, 171 mil 583 denuncias por violencia contra las mujeres.Tal cifra representa el 27% de la totalidad de procesos electrónicos que se viene gestionando en la institución judicial presidida por Javier Arévalo Vela, proyecto de transformación tecnológica que representa “una respuesta a tal flagelo que se viene produciendo de manera visible contra las mujeres”.Así lo indicó el juez supremo Héctor Lama More, presidente de la Comisión de Trabajo del EJE, herramienta tecnológica implementada en 650 órganos jurisdiccionales, siendo 186 de ellos correspondientes a la especialidad Familia (subespecialidad en violencia contra la mujer e integrantes del grupo familiar).El impacto de su puesta en ejecución es la rapidez y la transparencia en estos procesos judiciales, recalcó Lama More, “así como el acceso a la justicia en medios virtuales, siendo un elemento destacable la disminución de los tiempos de atención al ciudadano y la rapidez en la culminación de los procesos”.“El EJE no solo elimina el papel, sino también cambia la modalidad del trabajo en los despachos al trasladarse a un entorno virtual, caracterizado por la modernidad y el uso de medios digitales que favorecen la gestión de los procesos judiciales”, agregó.En ese sentido, Lama More explicó que la reforma digital promovida por el EJE permitió la reducción en el tiempo para la atención de las denuncias por violencia contra la mujer, de 7 días con expedientes físicos contra 1.8 días mediante el EJE, por ejemplo, hasta la dación de medidas de protección.TRÁMITEEl juez supremo indicó que hay dos mecanismos de acceso para tramitar este tipo de denuncias: denunciando ante la Fiscalía, comisaría o las DEMUNAS que las tramitarán ante el órgano jurisdiccional mediante la MPE, que es una mesa virtual que se accede a través de la computadora.Asimismo, para esta denuncia no se necesita la firma del abogado, es decir la victima puede recurrir directamente al juez, que levanta un acta del dicho sin necesidad de un escrito, suficiente para que el órgano jurisdiccional digitalice el acta, lo escanee e incorpore al proceso que sigue de manera virtual.De ese modo, se configuran dos fases en la tramitación de estos procesos, el primer momento, en que se detiene eventualmente agresor para que el efecto de su agresión no sea dramático y el segundo, derivado del daño; si es grave lo conoce el juez penal, caso contrario, el juez de paz letrado, acotó.De otro lado, Lama More anunció que en este 2023 se ha proyectado ampliar el EJE para conocimiento de estos procesos de violencia contra la mujer en la judicatura de paz letrada. Además, la implementación de esta herramienta digital en materia de alimentos, en las 30 cortes superiores que faltan.SALUDO A MUJERESEl juez supremo Lama More no dejó de saludar a las mujeres del país en su día reconociendo el esfuerzo de su lucha para eliminar las diferencias de oportunidades así como las limitaciones debido a la sociedad patriarcal imperante.“Sabemos se han superado las tremendamente las limitaciones de hace años, estos avances no han caído del cielo, han sido resultado de la lucha y el esfuerzo, se ha avanzado pero no hemos logrado eliminar todas esas diferencias para quienes son un poco más de la mitad de los seres humanos”, indicó.', mimetype='text/plain', start_char_idx=0, end_char_idx=3701, metadata_seperator='\\n', text_template='[Excerpt from document]\\n{metadata_str}\\nExcerpt:\\n-----\\n{content}\\n-----\\n'), score=1.0), NodeWithScore(node=TextNode(id_='79c268cb-a04c-4baf-b7c1-e1a32babeca1', embedding=None, metadata={'url': 'https://peru21.pe/lima/casos-de-violencia-contra-la-mujer-y-los-integrantes-del-grupo-familiar-podran-denunciarse-en-forma-virtual-mimp-nndc-noticia/', 'title': 'Casos de violencia contra la mujer y los integrantes del grupo familiar podrán denunciarse en forma virtual', 'author': 'Perú 21', 'og:url': 'https://peru21.pe/lima/casos-de-violencia-contra-la-mujer-y-los-integrantes-del-grupo-familiar-podran-denunciarse-en-forma-virtual-mimp-nndc-noticia/', 'robots': 'follow', 'og:type': 'article', 'abstract': 'Noticias del Perú y del mundo en peru21.pe - Ultimas noticias de política, deportes, espectáculos, fútbol, economía, mundo, tecnología, cultura, ciencia y más...', 'keywords': ['ministeri', 'muj', 'poblacion', 'vulner', 'violenci', 'violenci', 'muj', 'mimp', 'proced', 'canal', 'tecnolog', 'denunci', 'violenci', 'mujer', 'grup', 'famili'], 'og:image': 'http://peru21.pe/sites/default/efsfiles/styles/amp_1200x675_16_9/public/2023-10/TPLOOZ5SRNCABN6SFLVPW775GE.jpg?itok=udC84o8R', 'og:title': 'Casos de violencia contra la mujer y los integrantes del grupo familiar podrán denunciarse en forma virtual', 'viewport': 'width=device-width, initial-scale=1.0', 'Generator': 'Drupal 9 (https://www.drupal.org)', 'fb:app_id': '1667917060088448', 'generator': 'Sirius Publisher', 'link:icon': 'https://peru21.pe/sites/default/efsfiles/favicon.png', 'og:locale': 'es_PE', 'sourceURL': 'https://peru21.pe/lima/casos-de-violencia-contra-la-mujer-y-los-integrantes-del-grupo-familiar-podran-denunciarse-en-forma-virtual-mimp-nndc-noticia', 'article:tag': ['Ministerio de la Mujer y Poblaciones Vulnerables', 'Violencia', 'Violencia contra la mujer', 'Mimp'], 'description': 'Las denuncias por casos de violencia contra las mujeres y los integrantes del grupo familiar podrán presentarse no solo en forma escrita o verbal, sino también a través del uso de canales virtuales, correos electrónicos, aplicaciones de mensajería instantánea o cualquier otro medio tecnológico. De esta manera, esta información podrá ser usada por Policía Nacional del Perú, las fiscalías penales o de familia y los juzgados de familia.', 'link:amphtml': 'https://peru21.pe/lima/casos-de-violencia-contra-la-mujer-y-los-integrantes-del-grupo-familiar-podran-denunciarse-en-forma-virtual-mimp-nndc-noticia/?amp', 'og:site_name': 'Perú 21', 'twitter:card': 'summary_large_image', 'twitter:site': '@peru21', 'twitter:image': 'http://peru21.pe/sites/default/efsfiles/2023-10/TPLOOZ5SRNCABN6SFLVPW775GE.jpg', 'twitter:title': 'Casos de violencia contra la mujer y los integrantes del grupo familiar podrán denunciarse en forma virtual', 'article:author': 'Redacción PERÚ21', 'link:canonical': 'https://peru21.pe/lima/casos-de-violencia-contra-la-mujer-y-los-integrantes-del-grupo-familiar-podran-denunciarse-en-forma-virtual-mimp-nndc-noticia/', 'og:description': 'Las denuncias por casos de violencia contra las mujeres y los integrantes del grupo familiar podrán presentarse no solo en forma escrita o verbal, sino también a través del uso de canales virtuales, correos electrónicos, aplicaciones de mensajería instantánea o cualquier otro medio tecnológico. De esta manera, esta información podrá ser usada por Policía Nacional del Perú, las fiscalías penales o de familia y los juzgados de familia.', 'MobileOptimized': 'width', 'article:section': 'Lima', 'link:preconnect': 'https://servicer.mgid.com/', 'link:stylesheet': 'https://www.google.com/cse/static/style/look/v4/default.css', 'HandheldFriendly': 'true', 'link:dns-prefetch': 'https://peru21-pe.b-cdn.net/', 'og:image:secure_url': 'https://peru21.pe/sites/default/efsfiles/styles/amp_1200x675_16_9/public/2023-10/TPLOOZ5SRNCABN6SFLVPW775GE.jpg?itok=udC84o8R', 'twitter:description': 'Las denuncias por casos de violencia contra las mujeres y los integrantes del grupo familiar podrán presentarse no solo en forma escrita o verbal, sino también a través del uso de canales virtuales, correos electrónicos, aplicaciones de mensajería instantánea o cualquier otro medio tecnológico. De esta manera, esta información podrá ser usada por Policía Nacional del Perú, las fiscalías penales o de familia y los juzgados de familia.', 'link:compression-dictionary': 'https://securepubads.g.doubleclick.net/pagead/managed/dict/m202505290101/gpt', 'fecha_publicacion': '2021/04/08', 'distrito': [], 'departamento': [], 'document_title': 'Procedimientos y canales tecnológicos para denunciar violencia contra mujeres y grupo familiar'}, excluded_embed_metadata_keys=[], excluded_llm_metadata_keys=[], relationships={<NodeRelationship.SOURCE: '1'>: RelatedNodeInfo(node_id='79f94bd0-11a5-427a-9424-4a9136a39c2f', node_type='4', metadata={'url': 'https://peru21.pe/lima/casos-de-violencia-contra-la-mujer-y-los-integrantes-del-grupo-familiar-podran-denunciarse-en-forma-virtual-mimp-nndc-noticia/', 'title': 'Casos de violencia contra la mujer y los integrantes del grupo familiar podrán denunciarse en forma virtual', 'author': 'Perú 21', 'og:url': 'https://peru21.pe/lima/casos-de-violencia-contra-la-mujer-y-los-integrantes-del-grupo-familiar-podran-denunciarse-en-forma-virtual-mimp-nndc-noticia/', 'robots': 'follow', 'og:type': 'article', 'abstract': 'Noticias del Perú y del mundo en peru21.pe - Ultimas noticias de política, deportes, espectáculos, fútbol, economía, mundo, tecnología, cultura, ciencia y más...', 'keywords': 'Ministerio de la Mujer y Poblaciones Vulnerables,Violencia,Violencia contra la mujer,Mimp', 'og:image': 'http://peru21.pe/sites/default/efsfiles/styles/amp_1200x675_16_9/public/2023-10/TPLOOZ5SRNCABN6SFLVPW775GE.jpg?itok=udC84o8R', 'og:title': 'Casos de violencia contra la mujer y los integrantes del grupo familiar podrán denunciarse en forma virtual', 'viewport': 'width=device-width, initial-scale=1.0', 'Generator': 'Drupal 9 (https://www.drupal.org)', 'fb:app_id': '1667917060088448', 'generator': 'Sirius Publisher', 'link:icon': 'https://peru21.pe/sites/default/efsfiles/favicon.png', 'og:locale': 'es_PE', 'sourceURL': 'https://peru21.pe/lima/casos-de-violencia-contra-la-mujer-y-los-integrantes-del-grupo-familiar-podran-denunciarse-en-forma-virtual-mimp-nndc-noticia', 'article:tag': ['Ministerio de la Mujer y Poblaciones Vulnerables', 'Violencia', 'Violencia contra la mujer', 'Mimp'], 'description': 'Las denuncias por casos de violencia contra las mujeres y los integrantes del grupo familiar podrán presentarse no solo en forma escrita o verbal, sino también a través del uso de canales virtuales, correos electrónicos, aplicaciones de mensajería instantánea o cualquier otro medio tecnológico. De esta manera, esta información podrá ser usada por Policía Nacional del Perú, las fiscalías penales o de familia y los juzgados de familia.', 'link:amphtml': 'https://peru21.pe/lima/casos-de-violencia-contra-la-mujer-y-los-integrantes-del-grupo-familiar-podran-denunciarse-en-forma-virtual-mimp-nndc-noticia/?amp', 'og:site_name': 'Perú 21', 'twitter:card': 'summary_large_image', 'twitter:site': '@peru21', 'twitter:image': 'http://peru21.pe/sites/default/efsfiles/2023-10/TPLOOZ5SRNCABN6SFLVPW775GE.jpg', 'twitter:title': 'Casos de violencia contra la mujer y los integrantes del grupo familiar podrán denunciarse en forma virtual', 'article:author': 'Redacción PERÚ21', 'link:canonical': 'https://peru21.pe/lima/casos-de-violencia-contra-la-mujer-y-los-integrantes-del-grupo-familiar-podran-denunciarse-en-forma-virtual-mimp-nndc-noticia/', 'og:description': 'Las denuncias por casos de violencia contra las mujeres y los integrantes del grupo familiar podrán presentarse no solo en forma escrita o verbal, sino también a través del uso de canales virtuales, correos electrónicos, aplicaciones de mensajería instantánea o cualquier otro medio tecnológico. De esta manera, esta información podrá ser usada por Policía Nacional del Perú, las fiscalías penales o de familia y los juzgados de familia.', 'MobileOptimized': 'width', 'article:section': 'Lima', 'link:preconnect': 'https://servicer.mgid.com/', 'link:stylesheet': 'https://www.google.com/cse/static/style/look/v4/default.css', 'HandheldFriendly': 'true', 'link:dns-prefetch': 'https://peru21-pe.b-cdn.net/', 'og:image:secure_url': 'https://peru21.pe/sites/default/efsfiles/styles/amp_1200x675_16_9/public/2023-10/TPLOOZ5SRNCABN6SFLVPW775GE.jpg?itok=udC84o8R', 'twitter:description': 'Las denuncias por casos de violencia contra las mujeres y los integrantes del grupo familiar podrán presentarse no solo en forma escrita o verbal, sino también a través del uso de canales virtuales, correos electrónicos, aplicaciones de mensajería instantánea o cualquier otro medio tecnológico. De esta manera, esta información podrá ser usada por Policía Nacional del Perú, las fiscalías penales o de familia y los juzgados de familia.', 'link:compression-dictionary': 'https://securepubads.g.doubleclick.net/pagead/managed/dict/m202505290101/gpt', 'fecha_publicacion': '2021/04/08', 'distrito': [], 'departamento': []}, hash='819aba663519fa0c5e4d46710f6cd98b61614a76129c201fdccf6e77a72918ed'), <NodeRelationship.NEXT: '3'>: RelatedNodeInfo(node_id='19a6ad3e-b421-4cd5-a283-4f63386ccb48', node_type='1', metadata={}, hash='60708e12268ed3f768a3a1bc1b4d0e088096c72d22d218642556068e2c0be82c')}, metadata_template='{key}: {value}', metadata_separator='\\n', text='Las denuncias por casos de violencia contra las mujeres y los integrantes del grupo familiar podrán presentarse no solo en forma escrita o verbal, sino también a través del uso de canales virtuales, correos electrónicos, aplicaciones de mensajería instantánea o cualquier otro medio tecnológico. De esta manera, esta información podrá ser usada por Policía Nacional del Perú, las fiscalías penales o de familia y los juzgados de familia.Las denuncias por casos de violencia contra las mujeres y los integrantes del grupo familiar podrán presentarse no solo en forma escrita o verbal, sino también a través del uso de canales virtuales, correos electrónicos, aplicaciones de mensajería instantánea o cualquier otro medio tecnológico. De esta manera, esta información podrá ser usada por Policía Nacional del Perú (PNP), las fiscalías penales o de familia y los juzgados de familia.Esto en aplicación de lo dispuesto en la Ley 31156, publicada en el diario El Peruano, que modifica el artículo 15 de la Ley 30364, ‘Ley para prevenir, sancionar y erradicar la violencia contra las mujeres y los integrantes del grupo familiar’, habilitando permanentemente el uso de canales tecnológicos para denunciar hechos de violencia.La norma también indica que en los lugares donde no existan estos estos canales electrónicos, las denuncias por hechos de violencia contra las mujeres e integrantes del grupo familiar también podrán presentarse ante los juzgados de paz letrado o juzgados de paz y, cuando se trate de una denuncia verbal, se levantará acta sin otra exigencia que la de suministrar una sucinta relación de los hechos.El Ministerio de Justicia y Derechos Humanos saludó la publicación del dispositivo. “A partir de estas medidas, nuestra Defensa Pública podrá fortalecer su servicio de patrocinio legal a las víctimas de violencia y garantizar un oportuno acceso a la justicia”, indicó.Desde el MINJUSDH, saludamos la publicación de la Ley N.º 31156, que habilita permanentemente el uso de canales tecnológicos para denunciar hechos de violencia contra las mujeres y los integrantes del grupo familiar.— Ministerio de Justicia y Derechos Humanos (@MinjusDH_Peru) April 8, 2021 ¿Quiénes también puede presentar la denuncia?La ley también dispone que la denuncia podrá ser interpuesta por la persona perjudicada o por cualquier otra en su favor, sin necesidad de tener su representación. ', mimetype='text/plain', start_char_idx=0, end_char_idx=2386, metadata_seperator='\\n', text_template='[Excerpt from document]\\n{metadata_str}\\nExcerpt:\\n-----\\n{content}\\n-----\\n'), score=0.0)]\n"
     ]
    }
   ],
   "source": [
    "config = {\"configurable\": {\"thread_id\": \"111\"}}\n",
    "response = agent2.invoke(\n",
    "    {\"messages\": [HumanMessage(content=\"¿Entre el 2020 y 2023, hubo alguna ley que implementara medios digitales que permitan a las mujeres denunciar sus casos de violencia?\")]},\n",
    "    config=config\n",
    ")"
   ]
  },
  {
   "cell_type": "code",
   "execution_count": 22,
   "id": "32487547",
   "metadata": {},
   "outputs": [
    {
     "name": "stdout",
     "output_type": "stream",
     "text": [
      "Entre el 2020 y 2023 se implementó la Ley 31156 en el Perú, la cual permitió a las mujeres\n",
      "denunciar casos de violencia a través de medios digitales. Esta ley modificó el artículo\n",
      "15 de la Ley 30364, habilitando el uso permanente de canales tecnológicos para denunciar\n",
      "hechos de violencia. Además, se implementaron juzgados de familia con el Expediente\n",
      "Judicial Electrónico (EJE) y la Mesa de Partes Electrónica (MPE) desde el año 2022 para\n",
      "gestionar estos casos. ¿Hay algo más en lo que pueda ayudarte?\n"
     ]
    }
   ],
   "source": [
    "print(textwrap.fill(response[\"messages\"][-1].content,width=90))"
   ]
  },
  {
   "cell_type": "code",
   "execution_count": 64,
   "id": "3fd3249d",
   "metadata": {},
   "outputs": [],
   "source": [
    "config = {\"configurable\": {\"thread_id\": \"111\"}}\n",
    "response = agent2.invoke(\n",
    "    {\"messages\": [HumanMessage(content=\"Consulta en la base de datos el numero de casos en los cuales el parentesco con la victima no de sea esposos y genera un grafico de pie donde cada seccion sea un departamento, omite las departamentos que no tengan ningun caso\")]},\n",
    "    config=config\n",
    ")"
   ]
  },
  {
   "cell_type": "code",
   "execution_count": 65,
   "id": "f5105f9f",
   "metadata": {},
   "outputs": [
    {
     "name": "stdout",
     "output_type": "stream",
     "text": [
      "Según la base de datos, hay un total de 134 casos en los que el parentesco con la víctima\n",
      "no es el de esposo. A continuación, te muestro un gráfico de pie donde cada sección\n",
      "representa un departamento y se omiten los departamentos que no tienen ningún caso:\n",
      "![Gráfico de Pie](https://storage.googleapis.com/mujerapp-\n",
      "imagenes/30dc5b149d5c40518ff00efeec02883a.png)  Si necesitas más información o tienes\n",
      "alguna otra consulta, ¡estaré aquí para ayudarte!\n"
     ]
    }
   ],
   "source": [
    "print(textwrap.fill(response[\"messages\"][-1].content,width=90))"
   ]
  },
  {
   "cell_type": "code",
   "execution_count": null,
   "id": "e790f75c",
   "metadata": {},
   "outputs": [],
   "source": [
    "config = {\"configurable\": {\"thread_id\": \"111\"}}\n",
    "response = agent2.invoke(\n",
    "    {\"messages\": [HumanMessage(content=\"¿Cuantos casos de abuso sexual se registraron en Cusco entre enero y febrero de 2023?\")]},\n",
    "    config=config\n",
    ")"
   ]
  },
  {
   "cell_type": "code",
   "execution_count": null,
   "id": "a3c932cc",
   "metadata": {},
   "outputs": [],
   "source": [
    "print(textwrap.fill(response[\"messages\"][-1].content,width=90))"
   ]
  },
  {
   "cell_type": "markdown",
   "id": "4280f6fa",
   "metadata": {},
   "source": [
    "### RAGAS"
   ]
  },
  {
   "cell_type": "code",
   "execution_count": 22,
   "id": "1a987d1b",
   "metadata": {},
   "outputs": [
    {
     "name": "stderr",
     "output_type": "stream",
     "text": [
      "Unclosed client session\n",
      "client_session: <aiohttp.client.ClientSession object at 0x000001BE11853DA0>\n",
      "Unclosed connector\n",
      "connections: ['[(<aiohttp.client_proto.ResponseHandler object at 0x000001BE11D09730>, 81297.546)]']\n",
      "connector: <aiohttp.connector.TCPConnector object at 0x000001BE11853860>\n"
     ]
    }
   ],
   "source": [
    "from datasets import Dataset\n",
    "from ragas import evaluate\n",
    "from ragas.metrics import LLMContextRecall, Faithfulness, FactualCorrectness\n",
    "from ragas.llms import LangchainLLMWrapper\n",
    "evaluator_llm = LangchainLLMWrapper(modelo)"
   ]
  },
  {
   "cell_type": "code",
   "execution_count": 23,
   "id": "574028c9",
   "metadata": {},
   "outputs": [],
   "source": [
    "sample_queries = [\n",
    "    \"¿Entre el 2020 y 2023, hubo alguna ley que implementara medios digitales que permitan a las mujeres denunciar sus casos de violencia?\",\n",
    "    \"Que acciones el Ministerio Público impulsa en Piura, cuales son las cifras de violencia dentro de piura y dime su comparacion con otros departamentos. Detalla cada punto\",\n",
    "    \"¿Cuantos casos de abuso sexual se registraron en Cusco entre enero y febrero de 2023?\"\n",
    "]\n",
    "\n",
    "expected_responses = [\n",
    "    \"Sí, entre 2020 y 2023 se implementó la Ley N.º 31156 (publicada el 8 de abril de 2021), que modificó la Ley 30364 para habilitar de forma permanente el uso de canales tecnológicos como correos electrónicos, mensajería instantánea y otros medios digitales para denunciar casos de violencia contra las mujeres y los integrantes del grupo familiar, sin requerir pruebas físicas ni representación legal.\",\n",
    "    \"El Ministerio Publico busca la necesidad de coordinar acciones conjuntas y estrategias efectivas para optimizar los tiempos de respuesta ante denuncias y brindar un acompañamiento más oportuno a las víctimas. Asimismo, la región Piura registra 6275 de violencia, de los cuales 5580 son mujeres. El mayor número de denuncias son de mujeres entre los 18 y 35 años (1537) y la violencia psicológica con 3000 casos, le sigue la física con 2342, sexual con 926 y económica con 7 denuncias. Del total de denuncias registradas, 1769 fueron agresiones físicas severas, 3037 medianas y 1469 leves. De las 305 denuncias por violencia sexual, 288 corresponden a mujeres y la mayoría de agraviadas está entre los 0 y 17 años (198). Y según los últimos cinco años, la región Piura registra 33948 casos de violencia, ocupando el sexto lugar a nivel nacional, seguido de Lima (201481), Arequipa (72075), Cusco (49553), Ancash (37182) y La Libertad ( 35515).\",\n",
    "    \"Se ha registrado 34 casos de abuso sexual en Cusco.\"\n",
    "]"
   ]
  },
  {
   "cell_type": "code",
   "execution_count": 24,
   "id": "c583a3de",
   "metadata": {},
   "outputs": [
    {
     "name": "stdout",
     "output_type": "stream",
     "text": [
      "{'question': '¿Entre el 2020 y 2023, hubo alguna ley que implementara medios digitales que permitan a las mujeres denunciar sus casos de violencia?', 'inicio': '2020/01/01', 'fin': '2023/12/31', 'distrito': [], 'departamento': [], 'context': [], 'keywords': ['2020', '2023', 'algun', 'ley', 'implement', 'medi', 'digital', 'permit', 'mujer', 'denunci', 'cas', 'violenci'], 'answer': ''}\n",
      "2\n",
      "[NodeWithScore(node=TextNode(id_='45a2bc59-0188-4e3c-996b-fa23f44c2b99', embedding=None, metadata={'url': 'https://peru21.pe/peru/resuelven-mas-de-170-mil-denuncias-de-violencia-contra-la-mujer-en-juzgados-habilitados-con-expediente-electronico-peru-expediente-electronico-eje-poder-judicial-noticia/', 'title': 'Resuelven más de 170 mil denuncias de violencia contra la mujer en juzgados habilitados con expediente electrónico', 'author': 'Perú 21', 'og:url': 'https://peru21.pe/peru/resuelven-mas-de-170-mil-denuncias-de-violencia-contra-la-mujer-en-juzgados-habilitados-con-expediente-electronico-peru-expediente-electronico-eje-poder-judicial-noticia/', 'robots': 'follow', 'og:type': 'article', 'abstract': 'Noticias del Perú y del mundo en peru21.pe - Ultimas noticias de política, deportes, espectáculos, fútbol, economía, mundo, tecnología, cultura, ciencia y más...', 'keywords': ['violenci', 'muj', 'pod', 'judicial', 'denunci', 'transform', 'tecnolog', 'luch', 'violenci', 'haci', 'mujer', 'avanc', 'desafi'], 'og:image': 'http://peru21.pe/sites/default/efsfiles/styles/amp_1200x675_16_9/public/2023-10/GB4FAYU7IBB3BK3ETTF4GHMOTM.jpeg?itok=dQYScEU3', 'og:title': 'Resuelven más de 170 mil denuncias de violencia contra la mujer en juzgados habilitados con expediente electrónico', 'viewport': 'width=device-width, initial-scale=1.0', 'Generator': 'Drupal 9 (https://www.drupal.org)', 'fb:app_id': '1667917060088448', 'generator': 'Sirius Publisher', 'link:icon': 'https://peru21.pe/sites/default/efsfiles/favicon.png', 'og:locale': 'es_PE', 'sourceURL': 'https://peru21.pe/peru/resuelven-mas-de-170-mil-denuncias-de-violencia-contra-la-mujer-en-juzgados-habilitados-con-expediente-electronico-peru-expediente-electronico-eje-poder-judicial-noticia', 'article:tag': ['Violencia contra la mujer', 'Poder Judicial', 'Denuncias'], 'description': 'La herramienta digital permitió la reducción en el tiempo para la atención de estas denuncias de 7 días con expedientes físicos, a 1.8 en promedio, según comunicó el Poder Judicial.', 'link:amphtml': 'https://peru21.pe/peru/resuelven-mas-de-170-mil-denuncias-de-violencia-contra-la-mujer-en-juzgados-habilitados-con-expediente-electronico-peru-expediente-electronico-eje-poder-judicial-noticia/?amp', 'og:site_name': 'Perú 21', 'twitter:card': 'summary_large_image', 'twitter:site': '@peru21', 'twitter:image': 'http://peru21.pe/sites/default/efsfiles/2023-10/GB4FAYU7IBB3BK3ETTF4GHMOTM.jpeg', 'twitter:title': 'Resuelven más de 170 mil denuncias de violencia contra la mujer en juzgados habilitados con expediente electrónico', 'article:author': 'Redacción PERÚ21', 'link:canonical': 'https://peru21.pe/peru/resuelven-mas-de-170-mil-denuncias-de-violencia-contra-la-mujer-en-juzgados-habilitados-con-expediente-electronico-peru-expediente-electronico-eje-poder-judicial-noticia/', 'og:description': 'La herramienta digital permitió la reducción en el tiempo para la atención de estas denuncias de 7 días con expedientes físicos, a 1.8 en promedio, según comunicó el Poder Judicial.', 'MobileOptimized': 'width', 'article:section': 'Perú', 'link:preconnect': 'https://servicer.mgid.com/', 'link:stylesheet': 'https://www.google.com/cse/static/style/look/v4/default.css', 'HandheldFriendly': 'true', 'link:dns-prefetch': 'https://peru21-pe.b-cdn.net/', 'og:image:secure_url': 'https://peru21.pe/sites/default/efsfiles/styles/amp_1200x675_16_9/public/2023-10/GB4FAYU7IBB3BK3ETTF4GHMOTM.jpeg?itok=dQYScEU3', 'twitter:description': 'La herramienta digital permitió la reducción en el tiempo para la atención de estas denuncias de 7 días con expedientes físicos, a 1.8 en promedio, según comunicó el Poder Judicial.', 'link:compression-dictionary': 'https://securepubads.g.doubleclick.net/pagead/managed/dict/m202505290101/gpt', 'fecha_publicacion': '2023/03/13', 'distrito': [], 'departamento': [], 'document_title': '\"Transformación tecnológica en la lucha contra la violencia hacia las mujeres: Avances y desafíos\"'}, excluded_embed_metadata_keys=[], excluded_llm_metadata_keys=[], relationships={<NodeRelationship.SOURCE: '1'>: RelatedNodeInfo(node_id='a83c460f-2c31-44d3-b30e-f8b256f03f01', node_type='4', metadata={'url': 'https://peru21.pe/peru/resuelven-mas-de-170-mil-denuncias-de-violencia-contra-la-mujer-en-juzgados-habilitados-con-expediente-electronico-peru-expediente-electronico-eje-poder-judicial-noticia/', 'title': 'Resuelven más de 170 mil denuncias de violencia contra la mujer en juzgados habilitados con expediente electrónico', 'author': 'Perú 21', 'og:url': 'https://peru21.pe/peru/resuelven-mas-de-170-mil-denuncias-de-violencia-contra-la-mujer-en-juzgados-habilitados-con-expediente-electronico-peru-expediente-electronico-eje-poder-judicial-noticia/', 'robots': 'follow', 'og:type': 'article', 'abstract': 'Noticias del Perú y del mundo en peru21.pe - Ultimas noticias de política, deportes, espectáculos, fútbol, economía, mundo, tecnología, cultura, ciencia y más...', 'keywords': 'Violencia contra la mujer,Poder Judicial,Denuncias', 'og:image': 'http://peru21.pe/sites/default/efsfiles/styles/amp_1200x675_16_9/public/2023-10/GB4FAYU7IBB3BK3ETTF4GHMOTM.jpeg?itok=dQYScEU3', 'og:title': 'Resuelven más de 170 mil denuncias de violencia contra la mujer en juzgados habilitados con expediente electrónico', 'viewport': 'width=device-width, initial-scale=1.0', 'Generator': 'Drupal 9 (https://www.drupal.org)', 'fb:app_id': '1667917060088448', 'generator': 'Sirius Publisher', 'link:icon': 'https://peru21.pe/sites/default/efsfiles/favicon.png', 'og:locale': 'es_PE', 'sourceURL': 'https://peru21.pe/peru/resuelven-mas-de-170-mil-denuncias-de-violencia-contra-la-mujer-en-juzgados-habilitados-con-expediente-electronico-peru-expediente-electronico-eje-poder-judicial-noticia', 'article:tag': ['Violencia contra la mujer', 'Poder Judicial', 'Denuncias'], 'description': 'La herramienta digital permitió la reducción en el tiempo para la atención de estas denuncias de 7 días con expedientes físicos, a 1.8 en promedio, según comunicó el Poder Judicial.', 'link:amphtml': 'https://peru21.pe/peru/resuelven-mas-de-170-mil-denuncias-de-violencia-contra-la-mujer-en-juzgados-habilitados-con-expediente-electronico-peru-expediente-electronico-eje-poder-judicial-noticia/?amp', 'og:site_name': 'Perú 21', 'twitter:card': 'summary_large_image', 'twitter:site': '@peru21', 'twitter:image': 'http://peru21.pe/sites/default/efsfiles/2023-10/GB4FAYU7IBB3BK3ETTF4GHMOTM.jpeg', 'twitter:title': 'Resuelven más de 170 mil denuncias de violencia contra la mujer en juzgados habilitados con expediente electrónico', 'article:author': 'Redacción PERÚ21', 'link:canonical': 'https://peru21.pe/peru/resuelven-mas-de-170-mil-denuncias-de-violencia-contra-la-mujer-en-juzgados-habilitados-con-expediente-electronico-peru-expediente-electronico-eje-poder-judicial-noticia/', 'og:description': 'La herramienta digital permitió la reducción en el tiempo para la atención de estas denuncias de 7 días con expedientes físicos, a 1.8 en promedio, según comunicó el Poder Judicial.', 'MobileOptimized': 'width', 'article:section': 'Perú', 'link:preconnect': 'https://servicer.mgid.com/', 'link:stylesheet': 'https://www.google.com/cse/static/style/look/v4/default.css', 'HandheldFriendly': 'true', 'link:dns-prefetch': 'https://peru21-pe.b-cdn.net/', 'og:image:secure_url': 'https://peru21.pe/sites/default/efsfiles/styles/amp_1200x675_16_9/public/2023-10/GB4FAYU7IBB3BK3ETTF4GHMOTM.jpeg?itok=dQYScEU3', 'twitter:description': 'La herramienta digital permitió la reducción en el tiempo para la atención de estas denuncias de 7 días con expedientes físicos, a 1.8 en promedio, según comunicó el Poder Judicial.', 'link:compression-dictionary': 'https://securepubads.g.doubleclick.net/pagead/managed/dict/m202505290101/gpt', 'fecha_publicacion': '2023/03/13', 'distrito': [], 'departamento': []}, hash='cfa13d52d4ae4db93f4250dbe506f4056beea58588164183c9d617729e87f7ae')}, metadata_template='{key}: {value}', metadata_separator='\\n', text='La herramienta digital permitió la reducción en el tiempo para la atención de estas denuncias de 7 días con expedientes físicos, a 1.8 en promedio, según comunicó el Poder Judicial.Los juzgados de familia habilitados de manera progresiva desde el 2022 con el Expediente Judicial Electrónico (EJE) y la Mesa de Partes Electrónica (MPE), de las 34 cortes, resolvieron, hasta febrero último, dictando significativamente medidas de protección, 171 mil 583 denuncias por violencia contra las mujeres.Tal cifra representa el 27% de la totalidad de procesos electrónicos que se viene gestionando en la institución judicial presidida por Javier Arévalo Vela, proyecto de transformación tecnológica que representa “una respuesta a tal flagelo que se viene produciendo de manera visible contra las mujeres”.Así lo indicó el juez supremo Héctor Lama More, presidente de la Comisión de Trabajo del EJE, herramienta tecnológica implementada en 650 órganos jurisdiccionales, siendo 186 de ellos correspondientes a la especialidad Familia (subespecialidad en violencia contra la mujer e integrantes del grupo familiar).El impacto de su puesta en ejecución es la rapidez y la transparencia en estos procesos judiciales, recalcó Lama More, “así como el acceso a la justicia en medios virtuales, siendo un elemento destacable la disminución de los tiempos de atención al ciudadano y la rapidez en la culminación de los procesos”.“El EJE no solo elimina el papel, sino también cambia la modalidad del trabajo en los despachos al trasladarse a un entorno virtual, caracterizado por la modernidad y el uso de medios digitales que favorecen la gestión de los procesos judiciales”, agregó.En ese sentido, Lama More explicó que la reforma digital promovida por el EJE permitió la reducción en el tiempo para la atención de las denuncias por violencia contra la mujer, de 7 días con expedientes físicos contra 1.8 días mediante el EJE, por ejemplo, hasta la dación de medidas de protección.TRÁMITEEl juez supremo indicó que hay dos mecanismos de acceso para tramitar este tipo de denuncias: denunciando ante la Fiscalía, comisaría o las DEMUNAS que las tramitarán ante el órgano jurisdiccional mediante la MPE, que es una mesa virtual que se accede a través de la computadora.Asimismo, para esta denuncia no se necesita la firma del abogado, es decir la victima puede recurrir directamente al juez, que levanta un acta del dicho sin necesidad de un escrito, suficiente para que el órgano jurisdiccional digitalice el acta, lo escanee e incorpore al proceso que sigue de manera virtual.De ese modo, se configuran dos fases en la tramitación de estos procesos, el primer momento, en que se detiene eventualmente agresor para que el efecto de su agresión no sea dramático y el segundo, derivado del daño; si es grave lo conoce el juez penal, caso contrario, el juez de paz letrado, acotó.De otro lado, Lama More anunció que en este 2023 se ha proyectado ampliar el EJE para conocimiento de estos procesos de violencia contra la mujer en la judicatura de paz letrada. Además, la implementación de esta herramienta digital en materia de alimentos, en las 30 cortes superiores que faltan.SALUDO A MUJERESEl juez supremo Lama More no dejó de saludar a las mujeres del país en su día reconociendo el esfuerzo de su lucha para eliminar las diferencias de oportunidades así como las limitaciones debido a la sociedad patriarcal imperante.“Sabemos se han superado las tremendamente las limitaciones de hace años, estos avances no han caído del cielo, han sido resultado de la lucha y el esfuerzo, se ha avanzado pero no hemos logrado eliminar todas esas diferencias para quienes son un poco más de la mitad de los seres humanos”, indicó.', mimetype='text/plain', start_char_idx=0, end_char_idx=3701, metadata_seperator='\\n', text_template='[Excerpt from document]\\n{metadata_str}\\nExcerpt:\\n-----\\n{content}\\n-----\\n'), score=1.0), NodeWithScore(node=TextNode(id_='79c268cb-a04c-4baf-b7c1-e1a32babeca1', embedding=None, metadata={'url': 'https://peru21.pe/lima/casos-de-violencia-contra-la-mujer-y-los-integrantes-del-grupo-familiar-podran-denunciarse-en-forma-virtual-mimp-nndc-noticia/', 'title': 'Casos de violencia contra la mujer y los integrantes del grupo familiar podrán denunciarse en forma virtual', 'author': 'Perú 21', 'og:url': 'https://peru21.pe/lima/casos-de-violencia-contra-la-mujer-y-los-integrantes-del-grupo-familiar-podran-denunciarse-en-forma-virtual-mimp-nndc-noticia/', 'robots': 'follow', 'og:type': 'article', 'abstract': 'Noticias del Perú y del mundo en peru21.pe - Ultimas noticias de política, deportes, espectáculos, fútbol, economía, mundo, tecnología, cultura, ciencia y más...', 'keywords': ['ministeri', 'muj', 'poblacion', 'vulner', 'violenci', 'violenci', 'muj', 'mimp', 'proced', 'canal', 'tecnolog', 'denunci', 'violenci', 'mujer', 'grup', 'famili'], 'og:image': 'http://peru21.pe/sites/default/efsfiles/styles/amp_1200x675_16_9/public/2023-10/TPLOOZ5SRNCABN6SFLVPW775GE.jpg?itok=udC84o8R', 'og:title': 'Casos de violencia contra la mujer y los integrantes del grupo familiar podrán denunciarse en forma virtual', 'viewport': 'width=device-width, initial-scale=1.0', 'Generator': 'Drupal 9 (https://www.drupal.org)', 'fb:app_id': '1667917060088448', 'generator': 'Sirius Publisher', 'link:icon': 'https://peru21.pe/sites/default/efsfiles/favicon.png', 'og:locale': 'es_PE', 'sourceURL': 'https://peru21.pe/lima/casos-de-violencia-contra-la-mujer-y-los-integrantes-del-grupo-familiar-podran-denunciarse-en-forma-virtual-mimp-nndc-noticia', 'article:tag': ['Ministerio de la Mujer y Poblaciones Vulnerables', 'Violencia', 'Violencia contra la mujer', 'Mimp'], 'description': 'Las denuncias por casos de violencia contra las mujeres y los integrantes del grupo familiar podrán presentarse no solo en forma escrita o verbal, sino también a través del uso de canales virtuales, correos electrónicos, aplicaciones de mensajería instantánea o cualquier otro medio tecnológico. De esta manera, esta información podrá ser usada por Policía Nacional del Perú, las fiscalías penales o de familia y los juzgados de familia.', 'link:amphtml': 'https://peru21.pe/lima/casos-de-violencia-contra-la-mujer-y-los-integrantes-del-grupo-familiar-podran-denunciarse-en-forma-virtual-mimp-nndc-noticia/?amp', 'og:site_name': 'Perú 21', 'twitter:card': 'summary_large_image', 'twitter:site': '@peru21', 'twitter:image': 'http://peru21.pe/sites/default/efsfiles/2023-10/TPLOOZ5SRNCABN6SFLVPW775GE.jpg', 'twitter:title': 'Casos de violencia contra la mujer y los integrantes del grupo familiar podrán denunciarse en forma virtual', 'article:author': 'Redacción PERÚ21', 'link:canonical': 'https://peru21.pe/lima/casos-de-violencia-contra-la-mujer-y-los-integrantes-del-grupo-familiar-podran-denunciarse-en-forma-virtual-mimp-nndc-noticia/', 'og:description': 'Las denuncias por casos de violencia contra las mujeres y los integrantes del grupo familiar podrán presentarse no solo en forma escrita o verbal, sino también a través del uso de canales virtuales, correos electrónicos, aplicaciones de mensajería instantánea o cualquier otro medio tecnológico. De esta manera, esta información podrá ser usada por Policía Nacional del Perú, las fiscalías penales o de familia y los juzgados de familia.', 'MobileOptimized': 'width', 'article:section': 'Lima', 'link:preconnect': 'https://servicer.mgid.com/', 'link:stylesheet': 'https://www.google.com/cse/static/style/look/v4/default.css', 'HandheldFriendly': 'true', 'link:dns-prefetch': 'https://peru21-pe.b-cdn.net/', 'og:image:secure_url': 'https://peru21.pe/sites/default/efsfiles/styles/amp_1200x675_16_9/public/2023-10/TPLOOZ5SRNCABN6SFLVPW775GE.jpg?itok=udC84o8R', 'twitter:description': 'Las denuncias por casos de violencia contra las mujeres y los integrantes del grupo familiar podrán presentarse no solo en forma escrita o verbal, sino también a través del uso de canales virtuales, correos electrónicos, aplicaciones de mensajería instantánea o cualquier otro medio tecnológico. De esta manera, esta información podrá ser usada por Policía Nacional del Perú, las fiscalías penales o de familia y los juzgados de familia.', 'link:compression-dictionary': 'https://securepubads.g.doubleclick.net/pagead/managed/dict/m202505290101/gpt', 'fecha_publicacion': '2021/04/08', 'distrito': [], 'departamento': [], 'document_title': 'Procedimientos y canales tecnológicos para denunciar violencia contra mujeres y grupo familiar'}, excluded_embed_metadata_keys=[], excluded_llm_metadata_keys=[], relationships={<NodeRelationship.SOURCE: '1'>: RelatedNodeInfo(node_id='79f94bd0-11a5-427a-9424-4a9136a39c2f', node_type='4', metadata={'url': 'https://peru21.pe/lima/casos-de-violencia-contra-la-mujer-y-los-integrantes-del-grupo-familiar-podran-denunciarse-en-forma-virtual-mimp-nndc-noticia/', 'title': 'Casos de violencia contra la mujer y los integrantes del grupo familiar podrán denunciarse en forma virtual', 'author': 'Perú 21', 'og:url': 'https://peru21.pe/lima/casos-de-violencia-contra-la-mujer-y-los-integrantes-del-grupo-familiar-podran-denunciarse-en-forma-virtual-mimp-nndc-noticia/', 'robots': 'follow', 'og:type': 'article', 'abstract': 'Noticias del Perú y del mundo en peru21.pe - Ultimas noticias de política, deportes, espectáculos, fútbol, economía, mundo, tecnología, cultura, ciencia y más...', 'keywords': 'Ministerio de la Mujer y Poblaciones Vulnerables,Violencia,Violencia contra la mujer,Mimp', 'og:image': 'http://peru21.pe/sites/default/efsfiles/styles/amp_1200x675_16_9/public/2023-10/TPLOOZ5SRNCABN6SFLVPW775GE.jpg?itok=udC84o8R', 'og:title': 'Casos de violencia contra la mujer y los integrantes del grupo familiar podrán denunciarse en forma virtual', 'viewport': 'width=device-width, initial-scale=1.0', 'Generator': 'Drupal 9 (https://www.drupal.org)', 'fb:app_id': '1667917060088448', 'generator': 'Sirius Publisher', 'link:icon': 'https://peru21.pe/sites/default/efsfiles/favicon.png', 'og:locale': 'es_PE', 'sourceURL': 'https://peru21.pe/lima/casos-de-violencia-contra-la-mujer-y-los-integrantes-del-grupo-familiar-podran-denunciarse-en-forma-virtual-mimp-nndc-noticia', 'article:tag': ['Ministerio de la Mujer y Poblaciones Vulnerables', 'Violencia', 'Violencia contra la mujer', 'Mimp'], 'description': 'Las denuncias por casos de violencia contra las mujeres y los integrantes del grupo familiar podrán presentarse no solo en forma escrita o verbal, sino también a través del uso de canales virtuales, correos electrónicos, aplicaciones de mensajería instantánea o cualquier otro medio tecnológico. De esta manera, esta información podrá ser usada por Policía Nacional del Perú, las fiscalías penales o de familia y los juzgados de familia.', 'link:amphtml': 'https://peru21.pe/lima/casos-de-violencia-contra-la-mujer-y-los-integrantes-del-grupo-familiar-podran-denunciarse-en-forma-virtual-mimp-nndc-noticia/?amp', 'og:site_name': 'Perú 21', 'twitter:card': 'summary_large_image', 'twitter:site': '@peru21', 'twitter:image': 'http://peru21.pe/sites/default/efsfiles/2023-10/TPLOOZ5SRNCABN6SFLVPW775GE.jpg', 'twitter:title': 'Casos de violencia contra la mujer y los integrantes del grupo familiar podrán denunciarse en forma virtual', 'article:author': 'Redacción PERÚ21', 'link:canonical': 'https://peru21.pe/lima/casos-de-violencia-contra-la-mujer-y-los-integrantes-del-grupo-familiar-podran-denunciarse-en-forma-virtual-mimp-nndc-noticia/', 'og:description': 'Las denuncias por casos de violencia contra las mujeres y los integrantes del grupo familiar podrán presentarse no solo en forma escrita o verbal, sino también a través del uso de canales virtuales, correos electrónicos, aplicaciones de mensajería instantánea o cualquier otro medio tecnológico. De esta manera, esta información podrá ser usada por Policía Nacional del Perú, las fiscalías penales o de familia y los juzgados de familia.', 'MobileOptimized': 'width', 'article:section': 'Lima', 'link:preconnect': 'https://servicer.mgid.com/', 'link:stylesheet': 'https://www.google.com/cse/static/style/look/v4/default.css', 'HandheldFriendly': 'true', 'link:dns-prefetch': 'https://peru21-pe.b-cdn.net/', 'og:image:secure_url': 'https://peru21.pe/sites/default/efsfiles/styles/amp_1200x675_16_9/public/2023-10/TPLOOZ5SRNCABN6SFLVPW775GE.jpg?itok=udC84o8R', 'twitter:description': 'Las denuncias por casos de violencia contra las mujeres y los integrantes del grupo familiar podrán presentarse no solo en forma escrita o verbal, sino también a través del uso de canales virtuales, correos electrónicos, aplicaciones de mensajería instantánea o cualquier otro medio tecnológico. De esta manera, esta información podrá ser usada por Policía Nacional del Perú, las fiscalías penales o de familia y los juzgados de familia.', 'link:compression-dictionary': 'https://securepubads.g.doubleclick.net/pagead/managed/dict/m202505290101/gpt', 'fecha_publicacion': '2021/04/08', 'distrito': [], 'departamento': []}, hash='819aba663519fa0c5e4d46710f6cd98b61614a76129c201fdccf6e77a72918ed'), <NodeRelationship.NEXT: '3'>: RelatedNodeInfo(node_id='19a6ad3e-b421-4cd5-a283-4f63386ccb48', node_type='1', metadata={}, hash='60708e12268ed3f768a3a1bc1b4d0e088096c72d22d218642556068e2c0be82c')}, metadata_template='{key}: {value}', metadata_separator='\\n', text='Las denuncias por casos de violencia contra las mujeres y los integrantes del grupo familiar podrán presentarse no solo en forma escrita o verbal, sino también a través del uso de canales virtuales, correos electrónicos, aplicaciones de mensajería instantánea o cualquier otro medio tecnológico. De esta manera, esta información podrá ser usada por Policía Nacional del Perú, las fiscalías penales o de familia y los juzgados de familia.Las denuncias por casos de violencia contra las mujeres y los integrantes del grupo familiar podrán presentarse no solo en forma escrita o verbal, sino también a través del uso de canales virtuales, correos electrónicos, aplicaciones de mensajería instantánea o cualquier otro medio tecnológico. De esta manera, esta información podrá ser usada por Policía Nacional del Perú (PNP), las fiscalías penales o de familia y los juzgados de familia.Esto en aplicación de lo dispuesto en la Ley 31156, publicada en el diario El Peruano, que modifica el artículo 15 de la Ley 30364, ‘Ley para prevenir, sancionar y erradicar la violencia contra las mujeres y los integrantes del grupo familiar’, habilitando permanentemente el uso de canales tecnológicos para denunciar hechos de violencia.La norma también indica que en los lugares donde no existan estos estos canales electrónicos, las denuncias por hechos de violencia contra las mujeres e integrantes del grupo familiar también podrán presentarse ante los juzgados de paz letrado o juzgados de paz y, cuando se trate de una denuncia verbal, se levantará acta sin otra exigencia que la de suministrar una sucinta relación de los hechos.El Ministerio de Justicia y Derechos Humanos saludó la publicación del dispositivo. “A partir de estas medidas, nuestra Defensa Pública podrá fortalecer su servicio de patrocinio legal a las víctimas de violencia y garantizar un oportuno acceso a la justicia”, indicó.Desde el MINJUSDH, saludamos la publicación de la Ley N.º 31156, que habilita permanentemente el uso de canales tecnológicos para denunciar hechos de violencia contra las mujeres y los integrantes del grupo familiar.— Ministerio de Justicia y Derechos Humanos (@MinjusDH_Peru) April 8, 2021 ¿Quiénes también puede presentar la denuncia?La ley también dispone que la denuncia podrá ser interpuesta por la persona perjudicada o por cualquier otra en su favor, sin necesidad de tener su representación. ', mimetype='text/plain', start_char_idx=0, end_char_idx=2386, metadata_seperator='\\n', text_template='[Excerpt from document]\\n{metadata_str}\\nExcerpt:\\n-----\\n{content}\\n-----\\n'), score=0.0)]\n",
      "{'question': 'Que acciones el Ministerio Público impulsa en Piura, cuales son las cifras de violencia dentro de piura y dime su comparacion con otros departamentos. Detalla cada punto', 'inicio': None, 'fin': None, 'distrito': [], 'departamento': ['Piura'], 'context': [], 'keywords': ['accion', 'ministeri', 'public', 'impuls', 'piur', 'cual', 'cifr', 'violenci', 'dentr', 'piur', 'dim', 'compar', 'departament', 'detall', 'cad', 'punt'], 'answer': ''}\n",
      "2\n",
      "[NodeWithScore(node=TextNode(id_='7818286d-1d51-49cf-86cd-e43921acee47', embedding=None, metadata={'url': 'https://diariocorreo.pe/edicion/piura/ministerio-publico-impulsa-acciones-conjuntas-con-fiscales-de-violencia-contra-la-mujer-en-piura-noticia/', 'lang': 'es', 'title': 'Ministerio Público impulsa acciones conjuntas con fiscales de Violencia Contra la Mujer en Piura', 'author': 'Redacción Correo', 'og:url': 'https://diariocorreo.pe/edicion/piura/ministerio-publico-impulsa-acciones-conjuntas-con-fiscales-de-violencia-contra-la-mujer-en-piura-noticia/', 'robots': ['index, follow', 'max-image-preview:large'], 'og:type': 'article', 'keywords': ['ministeri', 'public', 'piur', 'violenci', 'notici', 'hoy', 'notici', 'peru', 'notici', 'piur', 'fortalec', 'luch', 'violenci', 'haci', 'muj', 'desafi', 'estrategi', 'justici', 'eficaz', 'piur'], 'mrf:tags': ['notaContenido:tcs', 'notaPaywall:metered', 'notaGenero:info'], 'og:image': 'https://diariocorreo.pe/resizer/v2/EI737SXJCJHETC5TBU4FXPPY5M.jpeg?auth=13f7eef2fa9531baabb7d5d3e42572c76983b46889b3cf8bbfe951fa2761b737&width=980&height=528&quality=75&smart=true', 'og:title': 'Ministerio Público impulsa acciones conjuntas con fiscales de Violencia Contra la Mujer en Piura', 'viewport': 'width=device-width, initial-scale=1', 'bi3dArtId': '639992', 'etiquetas': 'Ministerio Público,fiscales,violencia', 'fb:app_id': '1390081201315241', 'googlebot': 'index, follow', 'og:locale': 'es_PE', 'sourceURL': 'https://diariocorreo.pe/edicion/piura/ministerio-publico-impulsa-acciones-conjuntas-con-fiscales-de-violencia-contra-la-mujer-en-piura-noticia', 'deployment': '4076', 'section-id': '/edicion/piura', 'article:tag': ['Ministerio Público', 'fiscales', 'violencia'], 'bi3dPubDate': '2025-05-24T14:19:41.877Z', 'bi3dSection': 'Piura', 'description': 'Con el objetivo de fortalecer la lucha contra la violencia hacia la mujer y mejorar la respuesta institucional frente a estos delitos, la presidenta de la Junta de Fiscales Superiores de Piura, Faviola Susana Campos Hidalgo, lideró una importante reunión de trabajo con los fiscales de las Fiscalías Especializadas en Delitos de Violencia Contra la Mujer y los Integrantes del Grupo Familiar de Piura, Castilla y Catacaos.', 'theme-color': '#444444', 'bi3dArtTitle': 'Ministerio Público impulsa acciones conjuntas con fiscales de Violencia Contra la Mujer en Piura', 'content-type': 'story', 'distribution': 'global', 'link:preload': 'https://s.go-mpulse.net/boomerang/CYR4Y-ZJMZ6-YD9EK-XVPHK-94SJ4', 'og:site_name': 'Correo', 'twitter:card': 'summary_large_image', 'twitter:site': 'diariocorreo', 'og:image:type': 'image/jpeg', 'resource-type': 'document', 'twitter:image': 'https://diariocorreo.pe/resizer/v2/EI737SXJCJHETC5TBU4FXPPY5M.jpeg?auth=13f7eef2fa9531baabb7d5d3e42572c76983b46889b3cf8bbfe951fa2761b737&width=980&height=528&quality=75&smart=true', 'twitter:title': 'Ministerio Público impulsa acciones conjuntas con fiscales de Violencia Contra la Mujer en Piura', 'article:author': 'Redacción Correo', 'link:canonical': 'https://diariocorreo.pe/edicion/piura/ministerio-publico-impulsa-acciones-conjuntas-con-fiscales-de-violencia-contra-la-mujer-en-piura-noticia/', 'og:description': 'Estas acciones forman parte de una estrategia institucional orientada a garantizar un acceso más rápido y eficaz a la justicia', 'og:image:width': '980', 'article:section': 'Piura', 'data-article-id': 'RSCGR4AZRJBSDDB6ZXBN6KK6H4', 'link:preconnect': 'https://cdn.confiant-integrations.net/', 'link:stylesheet': 'https://cdnc.diariocorreo.pe/dist/diariocorreo/css/lite-story.css?d=4076', 'og:image:height': '528', 'twitter:creator': 'diariocorreo', 'application-name': 'Correo', 'article:publisher': 'https://www.facebook.com/CorreoPeru/', 'link:dns-prefetch': 'https://acdn.adnxs.com/', 'link:shortcut icon': 'https://cdna.diariocorreo.pe/resources/dist/diariocorreo/images/favicon.png?d=112', 'og:image:secure_url': 'https://diariocorreo.pe/resizer/v2/EI737SXJCJHETC5TBU4FXPPY5M.jpeg?auth=13f7eef2fa9531baabb7d5d3e42572c76983b46889b3cf8bbfe951fa2761b737&width=980&height=528&quality=75&smart=true', 'twitter:description': 'Con el objetivo de fortalecer la lucha contra la violencia hacia la mujer y mejorar la respuesta institucional frente a estos delitos, la presidenta de la Junta de Fiscales Superiores de Piura, Faviola Susana Campos Hidalgo, lideró una importante reunión de trabajo con los fiscales de las Fiscalías Especializadas en Delitos de Violencia Contra la Mujer y los Integrantes del Grupo Familiar de Piura, Castilla y Catacaos.', 'article:content_tier': 'metered', 'article:modified_time': '2025-05-24T14:19:41.877Z', 'link:apple-touch-icon': 'https://cdna.diariocorreo.pe/resources/dist/diariocorreo/images/apple-touch-icon-180x180.png?d=1', 'article:published_time': '2025-05-24T14:19:41.877Z', 'msapplication-TileColor': '#444444', 'apple-mobile-web-app-title': 'Correo', 'cXenseParse:per-categories': 'Piura', 'cXenseParse:wgu-categories': 'Piura', 'link:compression-dictionary': 'https://securepubads.g.doubleclick.net/pagead/managed/dict/m202505290101/gpt', 'fecha_publicacion': '2025/05/24', 'distrito': [], 'departamento': ['Piura'], 'document_title': 'Fortalecimiento de la lucha contra la violencia hacia la mujer: Desafíos y estrategias para una justicia eficaz en Piura.'}, excluded_embed_metadata_keys=[], excluded_llm_metadata_keys=[], relationships={<NodeRelationship.SOURCE: '1'>: RelatedNodeInfo(node_id='279dfb8f-3f42-4207-9612-c3caf7530e8a', node_type='4', metadata={'url': 'https://diariocorreo.pe/edicion/piura/ministerio-publico-impulsa-acciones-conjuntas-con-fiscales-de-violencia-contra-la-mujer-en-piura-noticia/', 'lang': 'es', 'title': 'Ministerio Público impulsa acciones conjuntas con fiscales de Violencia Contra la Mujer en Piura', 'author': 'Redacción Correo', 'og:url': 'https://diariocorreo.pe/edicion/piura/ministerio-publico-impulsa-acciones-conjuntas-con-fiscales-de-violencia-contra-la-mujer-en-piura-noticia/', 'robots': ['index, follow', 'max-image-preview:large'], 'og:type': 'article', 'keywords': 'Ministerio Público,Piura,violencia,Noticias hoy,Noticias Perú,Noticias Piura', 'mrf:tags': ['notaContenido:tcs', 'notaPaywall:metered', 'notaGenero:info'], 'og:image': 'https://diariocorreo.pe/resizer/v2/EI737SXJCJHETC5TBU4FXPPY5M.jpeg?auth=13f7eef2fa9531baabb7d5d3e42572c76983b46889b3cf8bbfe951fa2761b737&width=980&height=528&quality=75&smart=true', 'og:title': 'Ministerio Público impulsa acciones conjuntas con fiscales de Violencia Contra la Mujer en Piura', 'viewport': 'width=device-width, initial-scale=1', 'bi3dArtId': '639992', 'etiquetas': 'Ministerio Público,fiscales,violencia', 'fb:app_id': '1390081201315241', 'googlebot': 'index, follow', 'og:locale': 'es_PE', 'sourceURL': 'https://diariocorreo.pe/edicion/piura/ministerio-publico-impulsa-acciones-conjuntas-con-fiscales-de-violencia-contra-la-mujer-en-piura-noticia', 'deployment': '4076', 'section-id': '/edicion/piura', 'article:tag': ['Ministerio Público', 'fiscales', 'violencia'], 'bi3dPubDate': '2025-05-24T14:19:41.877Z', 'bi3dSection': 'Piura', 'description': 'Con el objetivo de fortalecer la lucha contra la violencia hacia la mujer y mejorar la respuesta institucional frente a estos delitos, la presidenta de la Junta de Fiscales Superiores de Piura, Faviola Susana Campos Hidalgo, lideró una importante reunión de trabajo con los fiscales de las Fiscalías Especializadas en Delitos de Violencia Contra la Mujer y los Integrantes del Grupo Familiar de Piura, Castilla y Catacaos.', 'theme-color': '#444444', 'bi3dArtTitle': 'Ministerio Público impulsa acciones conjuntas con fiscales de Violencia Contra la Mujer en Piura', 'content-type': 'story', 'distribution': 'global', 'link:preload': 'https://s.go-mpulse.net/boomerang/CYR4Y-ZJMZ6-YD9EK-XVPHK-94SJ4', 'og:site_name': 'Correo', 'twitter:card': 'summary_large_image', 'twitter:site': 'diariocorreo', 'og:image:type': 'image/jpeg', 'resource-type': 'document', 'twitter:image': 'https://diariocorreo.pe/resizer/v2/EI737SXJCJHETC5TBU4FXPPY5M.jpeg?auth=13f7eef2fa9531baabb7d5d3e42572c76983b46889b3cf8bbfe951fa2761b737&width=980&height=528&quality=75&smart=true', 'twitter:title': 'Ministerio Público impulsa acciones conjuntas con fiscales de Violencia Contra la Mujer en Piura', 'article:author': 'Redacción Correo', 'link:canonical': 'https://diariocorreo.pe/edicion/piura/ministerio-publico-impulsa-acciones-conjuntas-con-fiscales-de-violencia-contra-la-mujer-en-piura-noticia/', 'og:description': 'Estas acciones forman parte de una estrategia institucional orientada a garantizar un acceso más rápido y eficaz a la justicia', 'og:image:width': '980', 'article:section': 'Piura', 'data-article-id': 'RSCGR4AZRJBSDDB6ZXBN6KK6H4', 'link:preconnect': 'https://cdn.confiant-integrations.net/', 'link:stylesheet': 'https://cdnc.diariocorreo.pe/dist/diariocorreo/css/lite-story.css?d=4076', 'og:image:height': '528', 'twitter:creator': 'diariocorreo', 'application-name': 'Correo', 'article:publisher': 'https://www.facebook.com/CorreoPeru/', 'link:dns-prefetch': 'https://acdn.adnxs.com/', 'link:shortcut icon': 'https://cdna.diariocorreo.pe/resources/dist/diariocorreo/images/favicon.png?d=112', 'og:image:secure_url': 'https://diariocorreo.pe/resizer/v2/EI737SXJCJHETC5TBU4FXPPY5M.jpeg?auth=13f7eef2fa9531baabb7d5d3e42572c76983b46889b3cf8bbfe951fa2761b737&width=980&height=528&quality=75&smart=true', 'twitter:description': 'Con el objetivo de fortalecer la lucha contra la violencia hacia la mujer y mejorar la respuesta institucional frente a estos delitos, la presidenta de la Junta de Fiscales Superiores de Piura, Faviola Susana Campos Hidalgo, lideró una importante reunión de trabajo con los fiscales de las Fiscalías Especializadas en Delitos de Violencia Contra la Mujer y los Integrantes del Grupo Familiar de Piura, Castilla y Catacaos.', 'article:content_tier': 'metered', 'article:modified_time': '2025-05-24T14:19:41.877Z', 'link:apple-touch-icon': 'https://cdna.diariocorreo.pe/resources/dist/diariocorreo/images/apple-touch-icon-180x180.png?d=1', 'article:published_time': '2025-05-24T14:19:41.877Z', 'msapplication-TileColor': '#444444', 'apple-mobile-web-app-title': 'Correo', 'cXenseParse:per-categories': 'Piura', 'cXenseParse:wgu-categories': 'Piura', 'link:compression-dictionary': 'https://securepubads.g.doubleclick.net/pagead/managed/dict/m202505290101/gpt', 'fecha_publicacion': '2025/05/24', 'distrito': [], 'departamento': ['Piura']}, hash='250c29a660b81b2c785be4e9be51724e99441e7c3b88405e42ff631dc26ebdb0'), <NodeRelationship.NEXT: '3'>: RelatedNodeInfo(node_id='e7b612d3-a7aa-4f11-9133-1193771c4e90', node_type='1', metadata={}, hash='d54b9cd2bd0bd2869dd015b6021a694ee07187894d4c016a9956ec868ea58cdc')}, metadata_template='{key}: {value}', metadata_separator='\\n', text='Con el objetivo de fortalecer la lucha contra la violencia hacia la mujer y mejorar la respuesta institucional frente a estos delitos, la presidenta de la Junta de Fiscales Superiores de Piura, Faviola Susana Campos Hidalgo, lideró una importante reunión de trabajo con los fiscales de las Fiscalías Especializadas en Delitos de Violencia Contra la Mujer y los Integrantes del Grupo Familiar de Piura, Castilla y Catacaos. Durante el encuentro, se revisó la estadística comparativa de delitos penales, casos de violencia y la carga procesal que enfrentan estas fiscalías, a fin de identificar oportunidades de mejora en los procesos de atención, investigación y sanción. ', mimetype='text/plain', start_char_idx=0, end_char_idx=671, metadata_seperator='\\n', text_template='[Excerpt from document]\\n{metadata_str}\\nExcerpt:\\n-----\\n{content}\\n-----\\n'), score=1.0), NodeWithScore(node=TextNode(id_='e7b612d3-a7aa-4f11-9133-1193771c4e90', embedding=None, metadata={'url': 'https://diariocorreo.pe/edicion/piura/ministerio-publico-impulsa-acciones-conjuntas-con-fiscales-de-violencia-contra-la-mujer-en-piura-noticia/', 'lang': 'es', 'title': 'Ministerio Público impulsa acciones conjuntas con fiscales de Violencia Contra la Mujer en Piura', 'author': 'Redacción Correo', 'og:url': 'https://diariocorreo.pe/edicion/piura/ministerio-publico-impulsa-acciones-conjuntas-con-fiscales-de-violencia-contra-la-mujer-en-piura-noticia/', 'robots': ['index, follow', 'max-image-preview:large'], 'og:type': 'article', 'keywords': ['ministeri', 'public', 'piur', 'violenci', 'notici', 'hoy', 'notici', 'peru', 'notici', 'piur', 'fortalec', 'luch', 'violenci', 'haci', 'muj', 'desafi', 'estrategi', 'justici', 'eficaz', 'piur'], 'mrf:tags': ['notaContenido:tcs', 'notaPaywall:metered', 'notaGenero:info'], 'og:image': 'https://diariocorreo.pe/resizer/v2/EI737SXJCJHETC5TBU4FXPPY5M.jpeg?auth=13f7eef2fa9531baabb7d5d3e42572c76983b46889b3cf8bbfe951fa2761b737&width=980&height=528&quality=75&smart=true', 'og:title': 'Ministerio Público impulsa acciones conjuntas con fiscales de Violencia Contra la Mujer en Piura', 'viewport': 'width=device-width, initial-scale=1', 'bi3dArtId': '639992', 'etiquetas': 'Ministerio Público,fiscales,violencia', 'fb:app_id': '1390081201315241', 'googlebot': 'index, follow', 'og:locale': 'es_PE', 'sourceURL': 'https://diariocorreo.pe/edicion/piura/ministerio-publico-impulsa-acciones-conjuntas-con-fiscales-de-violencia-contra-la-mujer-en-piura-noticia', 'deployment': '4076', 'section-id': '/edicion/piura', 'article:tag': ['Ministerio Público', 'fiscales', 'violencia'], 'bi3dPubDate': '2025-05-24T14:19:41.877Z', 'bi3dSection': 'Piura', 'description': 'Con el objetivo de fortalecer la lucha contra la violencia hacia la mujer y mejorar la respuesta institucional frente a estos delitos, la presidenta de la Junta de Fiscales Superiores de Piura, Faviola Susana Campos Hidalgo, lideró una importante reunión de trabajo con los fiscales de las Fiscalías Especializadas en Delitos de Violencia Contra la Mujer y los Integrantes del Grupo Familiar de Piura, Castilla y Catacaos.', 'theme-color': '#444444', 'bi3dArtTitle': 'Ministerio Público impulsa acciones conjuntas con fiscales de Violencia Contra la Mujer en Piura', 'content-type': 'story', 'distribution': 'global', 'link:preload': 'https://s.go-mpulse.net/boomerang/CYR4Y-ZJMZ6-YD9EK-XVPHK-94SJ4', 'og:site_name': 'Correo', 'twitter:card': 'summary_large_image', 'twitter:site': 'diariocorreo', 'og:image:type': 'image/jpeg', 'resource-type': 'document', 'twitter:image': 'https://diariocorreo.pe/resizer/v2/EI737SXJCJHETC5TBU4FXPPY5M.jpeg?auth=13f7eef2fa9531baabb7d5d3e42572c76983b46889b3cf8bbfe951fa2761b737&width=980&height=528&quality=75&smart=true', 'twitter:title': 'Ministerio Público impulsa acciones conjuntas con fiscales de Violencia Contra la Mujer en Piura', 'article:author': 'Redacción Correo', 'link:canonical': 'https://diariocorreo.pe/edicion/piura/ministerio-publico-impulsa-acciones-conjuntas-con-fiscales-de-violencia-contra-la-mujer-en-piura-noticia/', 'og:description': 'Estas acciones forman parte de una estrategia institucional orientada a garantizar un acceso más rápido y eficaz a la justicia', 'og:image:width': '980', 'article:section': 'Piura', 'data-article-id': 'RSCGR4AZRJBSDDB6ZXBN6KK6H4', 'link:preconnect': 'https://cdn.confiant-integrations.net/', 'link:stylesheet': 'https://cdnc.diariocorreo.pe/dist/diariocorreo/css/lite-story.css?d=4076', 'og:image:height': '528', 'twitter:creator': 'diariocorreo', 'application-name': 'Correo', 'article:publisher': 'https://www.facebook.com/CorreoPeru/', 'link:dns-prefetch': 'https://acdn.adnxs.com/', 'link:shortcut icon': 'https://cdna.diariocorreo.pe/resources/dist/diariocorreo/images/favicon.png?d=112', 'og:image:secure_url': 'https://diariocorreo.pe/resizer/v2/EI737SXJCJHETC5TBU4FXPPY5M.jpeg?auth=13f7eef2fa9531baabb7d5d3e42572c76983b46889b3cf8bbfe951fa2761b737&width=980&height=528&quality=75&smart=true', 'twitter:description': 'Con el objetivo de fortalecer la lucha contra la violencia hacia la mujer y mejorar la respuesta institucional frente a estos delitos, la presidenta de la Junta de Fiscales Superiores de Piura, Faviola Susana Campos Hidalgo, lideró una importante reunión de trabajo con los fiscales de las Fiscalías Especializadas en Delitos de Violencia Contra la Mujer y los Integrantes del Grupo Familiar de Piura, Castilla y Catacaos.', 'article:content_tier': 'metered', 'article:modified_time': '2025-05-24T14:19:41.877Z', 'link:apple-touch-icon': 'https://cdna.diariocorreo.pe/resources/dist/diariocorreo/images/apple-touch-icon-180x180.png?d=1', 'article:published_time': '2025-05-24T14:19:41.877Z', 'msapplication-TileColor': '#444444', 'apple-mobile-web-app-title': 'Correo', 'cXenseParse:per-categories': 'Piura', 'cXenseParse:wgu-categories': 'Piura', 'link:compression-dictionary': 'https://securepubads.g.doubleclick.net/pagead/managed/dict/m202505290101/gpt', 'fecha_publicacion': '2025/05/24', 'distrito': [], 'departamento': ['Piura'], 'document_title': 'Fortalecimiento de la lucha contra la violencia hacia la mujer: Desafíos y estrategias para una justicia eficaz en Piura.'}, excluded_embed_metadata_keys=[], excluded_llm_metadata_keys=[], relationships={<NodeRelationship.SOURCE: '1'>: RelatedNodeInfo(node_id='279dfb8f-3f42-4207-9612-c3caf7530e8a', node_type='4', metadata={'url': 'https://diariocorreo.pe/edicion/piura/ministerio-publico-impulsa-acciones-conjuntas-con-fiscales-de-violencia-contra-la-mujer-en-piura-noticia/', 'lang': 'es', 'title': 'Ministerio Público impulsa acciones conjuntas con fiscales de Violencia Contra la Mujer en Piura', 'author': 'Redacción Correo', 'og:url': 'https://diariocorreo.pe/edicion/piura/ministerio-publico-impulsa-acciones-conjuntas-con-fiscales-de-violencia-contra-la-mujer-en-piura-noticia/', 'robots': ['index, follow', 'max-image-preview:large'], 'og:type': 'article', 'keywords': 'Ministerio Público,Piura,violencia,Noticias hoy,Noticias Perú,Noticias Piura', 'mrf:tags': ['notaContenido:tcs', 'notaPaywall:metered', 'notaGenero:info'], 'og:image': 'https://diariocorreo.pe/resizer/v2/EI737SXJCJHETC5TBU4FXPPY5M.jpeg?auth=13f7eef2fa9531baabb7d5d3e42572c76983b46889b3cf8bbfe951fa2761b737&width=980&height=528&quality=75&smart=true', 'og:title': 'Ministerio Público impulsa acciones conjuntas con fiscales de Violencia Contra la Mujer en Piura', 'viewport': 'width=device-width, initial-scale=1', 'bi3dArtId': '639992', 'etiquetas': 'Ministerio Público,fiscales,violencia', 'fb:app_id': '1390081201315241', 'googlebot': 'index, follow', 'og:locale': 'es_PE', 'sourceURL': 'https://diariocorreo.pe/edicion/piura/ministerio-publico-impulsa-acciones-conjuntas-con-fiscales-de-violencia-contra-la-mujer-en-piura-noticia', 'deployment': '4076', 'section-id': '/edicion/piura', 'article:tag': ['Ministerio Público', 'fiscales', 'violencia'], 'bi3dPubDate': '2025-05-24T14:19:41.877Z', 'bi3dSection': 'Piura', 'description': 'Con el objetivo de fortalecer la lucha contra la violencia hacia la mujer y mejorar la respuesta institucional frente a estos delitos, la presidenta de la Junta de Fiscales Superiores de Piura, Faviola Susana Campos Hidalgo, lideró una importante reunión de trabajo con los fiscales de las Fiscalías Especializadas en Delitos de Violencia Contra la Mujer y los Integrantes del Grupo Familiar de Piura, Castilla y Catacaos.', 'theme-color': '#444444', 'bi3dArtTitle': 'Ministerio Público impulsa acciones conjuntas con fiscales de Violencia Contra la Mujer en Piura', 'content-type': 'story', 'distribution': 'global', 'link:preload': 'https://s.go-mpulse.net/boomerang/CYR4Y-ZJMZ6-YD9EK-XVPHK-94SJ4', 'og:site_name': 'Correo', 'twitter:card': 'summary_large_image', 'twitter:site': 'diariocorreo', 'og:image:type': 'image/jpeg', 'resource-type': 'document', 'twitter:image': 'https://diariocorreo.pe/resizer/v2/EI737SXJCJHETC5TBU4FXPPY5M.jpeg?auth=13f7eef2fa9531baabb7d5d3e42572c76983b46889b3cf8bbfe951fa2761b737&width=980&height=528&quality=75&smart=true', 'twitter:title': 'Ministerio Público impulsa acciones conjuntas con fiscales de Violencia Contra la Mujer en Piura', 'article:author': 'Redacción Correo', 'link:canonical': 'https://diariocorreo.pe/edicion/piura/ministerio-publico-impulsa-acciones-conjuntas-con-fiscales-de-violencia-contra-la-mujer-en-piura-noticia/', 'og:description': 'Estas acciones forman parte de una estrategia institucional orientada a garantizar un acceso más rápido y eficaz a la justicia', 'og:image:width': '980', 'article:section': 'Piura', 'data-article-id': 'RSCGR4AZRJBSDDB6ZXBN6KK6H4', 'link:preconnect': 'https://cdn.confiant-integrations.net/', 'link:stylesheet': 'https://cdnc.diariocorreo.pe/dist/diariocorreo/css/lite-story.css?d=4076', 'og:image:height': '528', 'twitter:creator': 'diariocorreo', 'application-name': 'Correo', 'article:publisher': 'https://www.facebook.com/CorreoPeru/', 'link:dns-prefetch': 'https://acdn.adnxs.com/', 'link:shortcut icon': 'https://cdna.diariocorreo.pe/resources/dist/diariocorreo/images/favicon.png?d=112', 'og:image:secure_url': 'https://diariocorreo.pe/resizer/v2/EI737SXJCJHETC5TBU4FXPPY5M.jpeg?auth=13f7eef2fa9531baabb7d5d3e42572c76983b46889b3cf8bbfe951fa2761b737&width=980&height=528&quality=75&smart=true', 'twitter:description': 'Con el objetivo de fortalecer la lucha contra la violencia hacia la mujer y mejorar la respuesta institucional frente a estos delitos, la presidenta de la Junta de Fiscales Superiores de Piura, Faviola Susana Campos Hidalgo, lideró una importante reunión de trabajo con los fiscales de las Fiscalías Especializadas en Delitos de Violencia Contra la Mujer y los Integrantes del Grupo Familiar de Piura, Castilla y Catacaos.', 'article:content_tier': 'metered', 'article:modified_time': '2025-05-24T14:19:41.877Z', 'link:apple-touch-icon': 'https://cdna.diariocorreo.pe/resources/dist/diariocorreo/images/apple-touch-icon-180x180.png?d=1', 'article:published_time': '2025-05-24T14:19:41.877Z', 'msapplication-TileColor': '#444444', 'apple-mobile-web-app-title': 'Correo', 'cXenseParse:per-categories': 'Piura', 'cXenseParse:wgu-categories': 'Piura', 'link:compression-dictionary': 'https://securepubads.g.doubleclick.net/pagead/managed/dict/m202505290101/gpt', 'fecha_publicacion': '2025/05/24', 'distrito': [], 'departamento': ['Piura']}, hash='250c29a660b81b2c785be4e9be51724e99441e7c3b88405e42ff631dc26ebdb0'), <NodeRelationship.PREVIOUS: '2'>: RelatedNodeInfo(node_id='7818286d-1d51-49cf-86cd-e43921acee47', node_type='1', metadata={'url': 'https://diariocorreo.pe/edicion/piura/ministerio-publico-impulsa-acciones-conjuntas-con-fiscales-de-violencia-contra-la-mujer-en-piura-noticia/', 'lang': 'es', 'title': 'Ministerio Público impulsa acciones conjuntas con fiscales de Violencia Contra la Mujer en Piura', 'author': 'Redacción Correo', 'og:url': 'https://diariocorreo.pe/edicion/piura/ministerio-publico-impulsa-acciones-conjuntas-con-fiscales-de-violencia-contra-la-mujer-en-piura-noticia/', 'robots': ['index, follow', 'max-image-preview:large'], 'og:type': 'article', 'keywords': 'Ministerio Público,Piura,violencia,Noticias hoy,Noticias Perú,Noticias Piura', 'mrf:tags': ['notaContenido:tcs', 'notaPaywall:metered', 'notaGenero:info'], 'og:image': 'https://diariocorreo.pe/resizer/v2/EI737SXJCJHETC5TBU4FXPPY5M.jpeg?auth=13f7eef2fa9531baabb7d5d3e42572c76983b46889b3cf8bbfe951fa2761b737&width=980&height=528&quality=75&smart=true', 'og:title': 'Ministerio Público impulsa acciones conjuntas con fiscales de Violencia Contra la Mujer en Piura', 'viewport': 'width=device-width, initial-scale=1', 'bi3dArtId': '639992', 'etiquetas': 'Ministerio Público,fiscales,violencia', 'fb:app_id': '1390081201315241', 'googlebot': 'index, follow', 'og:locale': 'es_PE', 'sourceURL': 'https://diariocorreo.pe/edicion/piura/ministerio-publico-impulsa-acciones-conjuntas-con-fiscales-de-violencia-contra-la-mujer-en-piura-noticia', 'deployment': '4076', 'section-id': '/edicion/piura', 'article:tag': ['Ministerio Público', 'fiscales', 'violencia'], 'bi3dPubDate': '2025-05-24T14:19:41.877Z', 'bi3dSection': 'Piura', 'description': 'Con el objetivo de fortalecer la lucha contra la violencia hacia la mujer y mejorar la respuesta institucional frente a estos delitos, la presidenta de la Junta de Fiscales Superiores de Piura, Faviola Susana Campos Hidalgo, lideró una importante reunión de trabajo con los fiscales de las Fiscalías Especializadas en Delitos de Violencia Contra la Mujer y los Integrantes del Grupo Familiar de Piura, Castilla y Catacaos.', 'theme-color': '#444444', 'bi3dArtTitle': 'Ministerio Público impulsa acciones conjuntas con fiscales de Violencia Contra la Mujer en Piura', 'content-type': 'story', 'distribution': 'global', 'link:preload': 'https://s.go-mpulse.net/boomerang/CYR4Y-ZJMZ6-YD9EK-XVPHK-94SJ4', 'og:site_name': 'Correo', 'twitter:card': 'summary_large_image', 'twitter:site': 'diariocorreo', 'og:image:type': 'image/jpeg', 'resource-type': 'document', 'twitter:image': 'https://diariocorreo.pe/resizer/v2/EI737SXJCJHETC5TBU4FXPPY5M.jpeg?auth=13f7eef2fa9531baabb7d5d3e42572c76983b46889b3cf8bbfe951fa2761b737&width=980&height=528&quality=75&smart=true', 'twitter:title': 'Ministerio Público impulsa acciones conjuntas con fiscales de Violencia Contra la Mujer en Piura', 'article:author': 'Redacción Correo', 'link:canonical': 'https://diariocorreo.pe/edicion/piura/ministerio-publico-impulsa-acciones-conjuntas-con-fiscales-de-violencia-contra-la-mujer-en-piura-noticia/', 'og:description': 'Estas acciones forman parte de una estrategia institucional orientada a garantizar un acceso más rápido y eficaz a la justicia', 'og:image:width': '980', 'article:section': 'Piura', 'data-article-id': 'RSCGR4AZRJBSDDB6ZXBN6KK6H4', 'link:preconnect': 'https://cdn.confiant-integrations.net/', 'link:stylesheet': 'https://cdnc.diariocorreo.pe/dist/diariocorreo/css/lite-story.css?d=4076', 'og:image:height': '528', 'twitter:creator': 'diariocorreo', 'application-name': 'Correo', 'article:publisher': 'https://www.facebook.com/CorreoPeru/', 'link:dns-prefetch': 'https://acdn.adnxs.com/', 'link:shortcut icon': 'https://cdna.diariocorreo.pe/resources/dist/diariocorreo/images/favicon.png?d=112', 'og:image:secure_url': 'https://diariocorreo.pe/resizer/v2/EI737SXJCJHETC5TBU4FXPPY5M.jpeg?auth=13f7eef2fa9531baabb7d5d3e42572c76983b46889b3cf8bbfe951fa2761b737&width=980&height=528&quality=75&smart=true', 'twitter:description': 'Con el objetivo de fortalecer la lucha contra la violencia hacia la mujer y mejorar la respuesta institucional frente a estos delitos, la presidenta de la Junta de Fiscales Superiores de Piura, Faviola Susana Campos Hidalgo, lideró una importante reunión de trabajo con los fiscales de las Fiscalías Especializadas en Delitos de Violencia Contra la Mujer y los Integrantes del Grupo Familiar de Piura, Castilla y Catacaos.', 'article:content_tier': 'metered', 'article:modified_time': '2025-05-24T14:19:41.877Z', 'link:apple-touch-icon': 'https://cdna.diariocorreo.pe/resources/dist/diariocorreo/images/apple-touch-icon-180x180.png?d=1', 'article:published_time': '2025-05-24T14:19:41.877Z', 'msapplication-TileColor': '#444444', 'apple-mobile-web-app-title': 'Correo', 'cXenseParse:per-categories': 'Piura', 'cXenseParse:wgu-categories': 'Piura', 'link:compression-dictionary': 'https://securepubads.g.doubleclick.net/pagead/managed/dict/m202505290101/gpt', 'fecha_publicacion': '2025/05/24', 'distrito': [], 'departamento': ['Piura']}, hash='566cdf3c5fa214609f43e03eac89c0053169a5be3bcf86e21a15b9f27a179dff')}, metadata_template='{key}: {value}', metadata_separator='\\n', text='La presidenta Campos Hidalgo destacó la necesidad de coordinar acciones conjuntas y estrategias efectivas para optimizar los tiempos de respuesta ante denuncias y brindar un acompañamiento más oportuno a las víctimas. Además, les recordó que los fiscales estamos para servir a la sociedad y brindar lo mejor de cada uno en busca de paz social. La jornada permitió, además, un espacio de diálogo sobre los desafíos que enfrentan los fiscales en su labor diaria, proponiendo alternativas que permitan una gestión más eficiente de los casos y la reducción de la carga procesal. Estas acciones forman parte de una estrategia institucional orientada a garantizar un acceso más rápido y eficaz a la justicia, mediante una labor firme y articulada en defensa de los derechos humanos.', mimetype='text/plain', start_char_idx=671, end_char_idx=1447, metadata_seperator='\\n', text_template='[Excerpt from document]\\n{metadata_str}\\nExcerpt:\\n-----\\n{content}\\n-----\\n'), score=0.0)]\n",
      "{'question': '¿Cuantos casos de abuso sexual se registraron en Cusco entre enero y febrero de 2023?', 'inicio': '2023/01/01', 'fin': '2023/02/28', 'distrito': [], 'departamento': ['Cusco'], 'context': [], 'keywords': ['cas', 'abus', 'sexual', 'registr', 'cusc', 'ener', 'febrer', '2023'], 'answer': ''}\n",
      "2\n",
      "[NodeWithScore(node=TextNode(id_='47577fe4-0f1d-4058-9a39-d2dc068777cd', embedding=None, metadata={'url': 'https://peru21.pe/lima/de-terror-solo-en-dos-meses-se-reportaron-mas-de-4-mil-casos-de-violencia-sexual-contra-la-mujer-en-el-peru-violencia-de-genero-abuso-sexual-violacion-violencia-contra-la-mujer-violencia-sexual-noticia-noticia/', 'title': '¡De terror! Solo en dos meses se reportaron más de 4 mil casos de violencia sexual contra la mujer en el Perú', 'author': 'Perú 21', 'og:url': 'https://peru21.pe/lima/de-terror-solo-en-dos-meses-se-reportaron-mas-de-4-mil-casos-de-violencia-sexual-contra-la-mujer-en-el-peru-violencia-de-genero-abuso-sexual-violacion-violencia-contra-la-mujer-violencia-sexual-noticia-noticia/', 'robots': 'follow', 'og:type': 'article', 'abstract': 'Noticias del Perú y del mundo en peru21.pe - Ultimas noticias de política, deportes, espectáculos, fútbol, economía, mundo, tecnología, cultura, ciencia y más...', 'keywords': ['violacion', 'violenci', 'gener', 'violenci', 'muj', 'abus', 'sexual', 'violenci', 'sexual', 'violenci', 'gener', 'peru', 'analisis', 'cifr', 'cas', 'impact', 'violenci', 'muj', 'abus', 'sexual', 'menor', 'edad'], 'og:image': 'http://peru21.pe/sites/default/efsfiles/styles/amp_1200x675_16_9/public/2023-10/XLEP457UCRBQVFISQ34PVSOKVQ.png?itok=imhDCAhl', 'og:title': '¡De terror! Solo en dos meses se reportaron más de 4 mil casos de violencia sexual contra la mujer en el Perú', 'viewport': 'width=device-width, initial-scale=1.0', 'Generator': 'Drupal 9 (https://www.drupal.org)', 'fb:app_id': '1667917060088448', 'generator': 'Sirius Publisher', 'link:icon': 'https://peru21.pe/sites/default/efsfiles/favicon.png', 'og:locale': 'es_PE', 'sourceURL': 'https://peru21.pe/lima/de-terror-solo-en-dos-meses-se-reportaron-mas-de-4-mil-casos-de-violencia-sexual-contra-la-mujer-en-el-peru-violencia-de-genero-abuso-sexual-violacion-violencia-contra-la-mujer-violencia-sexual-noticia-noticia', 'article:tag': ['Violación', 'Violencia de género', 'Violencia contra la mujer', 'Abuso sexual', 'Violencia sexual'], 'description': 'Escalofriante. De acuerdo con las cifras oficiales, entre enero y febrero del 2023, se han atendido 24, 695 casos de violencia contra la mujer en todo el país.', 'link:amphtml': 'https://peru21.pe/lima/de-terror-solo-en-dos-meses-se-reportaron-mas-de-4-mil-casos-de-violencia-sexual-contra-la-mujer-en-el-peru-violencia-de-genero-abuso-sexual-violacion-violencia-contra-la-mujer-violencia-sexual-noticia-noticia/?amp', 'og:site_name': 'Perú 21', 'twitter:card': 'summary_large_image', 'twitter:site': '@peru21', 'twitter:image': 'http://peru21.pe/sites/default/efsfiles/2023-10/XLEP457UCRBQVFISQ34PVSOKVQ.png', 'twitter:title': '¡De terror! Solo en dos meses se reportaron más de 4 mil casos de violencia sexual contra la mujer en el Perú', 'article:author': 'Jhosselyn Molero', 'link:canonical': 'https://peru21.pe/lima/de-terror-solo-en-dos-meses-se-reportaron-mas-de-4-mil-casos-de-violencia-sexual-contra-la-mujer-en-el-peru-violencia-de-genero-abuso-sexual-violacion-violencia-contra-la-mujer-violencia-sexual-noticia-noticia/', 'og:description': 'Escalofriante. De acuerdo con las cifras oficiales, entre enero y febrero del 2023, se han atendido 24, 695 casos de violencia contra la mujer en todo el país.', 'MobileOptimized': 'width', 'article:section': 'Lima', 'link:preconnect': 'https://servicer.mgid.com/', 'link:stylesheet': 'https://www.google.com/cse/static/style/look/v4/default.css', 'HandheldFriendly': 'true', 'link:dns-prefetch': 'https://peru21-pe.b-cdn.net/', 'og:image:secure_url': 'https://peru21.pe/sites/default/efsfiles/styles/amp_1200x675_16_9/public/2023-10/XLEP457UCRBQVFISQ34PVSOKVQ.png?itok=imhDCAhl', 'twitter:description': 'Escalofriante. De acuerdo con las cifras oficiales, entre enero y febrero del 2023, se han atendido 24, 695 casos de violencia contra la mujer en todo el país.', 'link:compression-dictionary': 'https://securepubads.g.doubleclick.net/pagead/managed/dict/m202505290101/gpt', 'fecha_publicacion': '2023/04/12', 'distrito': ['Lima'], 'departamento': ['Puno', 'Lima', 'Arequipa', 'Cusco', 'Junín', 'Áncash', 'La Libertad', 'Ica', 'Huánuco'], 'document_title': 'Violencia de género en el Perú: Análisis de cifras y casos impactantes de violencia contra la mujer y abuso sexual en menores de edad.'}, excluded_embed_metadata_keys=[], excluded_llm_metadata_keys=[], relationships={<NodeRelationship.SOURCE: '1'>: RelatedNodeInfo(node_id='49f79f97-7288-4c48-a385-355359447b97', node_type='4', metadata={'url': 'https://peru21.pe/lima/de-terror-solo-en-dos-meses-se-reportaron-mas-de-4-mil-casos-de-violencia-sexual-contra-la-mujer-en-el-peru-violencia-de-genero-abuso-sexual-violacion-violencia-contra-la-mujer-violencia-sexual-noticia-noticia/', 'title': '¡De terror! Solo en dos meses se reportaron más de 4 mil casos de violencia sexual contra la mujer en el Perú', 'author': 'Perú 21', 'og:url': 'https://peru21.pe/lima/de-terror-solo-en-dos-meses-se-reportaron-mas-de-4-mil-casos-de-violencia-sexual-contra-la-mujer-en-el-peru-violencia-de-genero-abuso-sexual-violacion-violencia-contra-la-mujer-violencia-sexual-noticia-noticia/', 'robots': 'follow', 'og:type': 'article', 'abstract': 'Noticias del Perú y del mundo en peru21.pe - Ultimas noticias de política, deportes, espectáculos, fútbol, economía, mundo, tecnología, cultura, ciencia y más...', 'keywords': 'Violación,Violencia de género,Violencia contra la mujer,Abuso sexual,Violencia sexual', 'og:image': 'http://peru21.pe/sites/default/efsfiles/styles/amp_1200x675_16_9/public/2023-10/XLEP457UCRBQVFISQ34PVSOKVQ.png?itok=imhDCAhl', 'og:title': '¡De terror! Solo en dos meses se reportaron más de 4 mil casos de violencia sexual contra la mujer en el Perú', 'viewport': 'width=device-width, initial-scale=1.0', 'Generator': 'Drupal 9 (https://www.drupal.org)', 'fb:app_id': '1667917060088448', 'generator': 'Sirius Publisher', 'link:icon': 'https://peru21.pe/sites/default/efsfiles/favicon.png', 'og:locale': 'es_PE', 'sourceURL': 'https://peru21.pe/lima/de-terror-solo-en-dos-meses-se-reportaron-mas-de-4-mil-casos-de-violencia-sexual-contra-la-mujer-en-el-peru-violencia-de-genero-abuso-sexual-violacion-violencia-contra-la-mujer-violencia-sexual-noticia-noticia', 'article:tag': ['Violación', 'Violencia de género', 'Violencia contra la mujer', 'Abuso sexual', 'Violencia sexual'], 'description': 'Escalofriante. De acuerdo con las cifras oficiales, entre enero y febrero del 2023, se han atendido 24, 695 casos de violencia contra la mujer en todo el país.', 'link:amphtml': 'https://peru21.pe/lima/de-terror-solo-en-dos-meses-se-reportaron-mas-de-4-mil-casos-de-violencia-sexual-contra-la-mujer-en-el-peru-violencia-de-genero-abuso-sexual-violacion-violencia-contra-la-mujer-violencia-sexual-noticia-noticia/?amp', 'og:site_name': 'Perú 21', 'twitter:card': 'summary_large_image', 'twitter:site': '@peru21', 'twitter:image': 'http://peru21.pe/sites/default/efsfiles/2023-10/XLEP457UCRBQVFISQ34PVSOKVQ.png', 'twitter:title': '¡De terror! Solo en dos meses se reportaron más de 4 mil casos de violencia sexual contra la mujer en el Perú', 'article:author': 'Jhosselyn Molero', 'link:canonical': 'https://peru21.pe/lima/de-terror-solo-en-dos-meses-se-reportaron-mas-de-4-mil-casos-de-violencia-sexual-contra-la-mujer-en-el-peru-violencia-de-genero-abuso-sexual-violacion-violencia-contra-la-mujer-violencia-sexual-noticia-noticia/', 'og:description': 'Escalofriante. De acuerdo con las cifras oficiales, entre enero y febrero del 2023, se han atendido 24, 695 casos de violencia contra la mujer en todo el país.', 'MobileOptimized': 'width', 'article:section': 'Lima', 'link:preconnect': 'https://servicer.mgid.com/', 'link:stylesheet': 'https://www.google.com/cse/static/style/look/v4/default.css', 'HandheldFriendly': 'true', 'link:dns-prefetch': 'https://peru21-pe.b-cdn.net/', 'og:image:secure_url': 'https://peru21.pe/sites/default/efsfiles/styles/amp_1200x675_16_9/public/2023-10/XLEP457UCRBQVFISQ34PVSOKVQ.png?itok=imhDCAhl', 'twitter:description': 'Escalofriante. De acuerdo con las cifras oficiales, entre enero y febrero del 2023, se han atendido 24, 695 casos de violencia contra la mujer en todo el país.', 'link:compression-dictionary': 'https://securepubads.g.doubleclick.net/pagead/managed/dict/m202505290101/gpt', 'fecha_publicacion': '2023/04/12', 'distrito': ['Lima'], 'departamento': ['Puno', 'Lima', 'Arequipa', 'Cusco', 'Junín', 'Áncash', 'La Libertad', 'Ica', 'Huánuco']}, hash='20b3b0e0a414b4a4bf3cc10baa1b7e61c7f2aaf953d698b354338c09ce130627'), <NodeRelationship.PREVIOUS: '2'>: RelatedNodeInfo(node_id='bdd2edc7-20d7-4769-9469-0d3fc715e56d', node_type='1', metadata={'url': 'https://peru21.pe/lima/de-terror-solo-en-dos-meses-se-reportaron-mas-de-4-mil-casos-de-violencia-sexual-contra-la-mujer-en-el-peru-violencia-de-genero-abuso-sexual-violacion-violencia-contra-la-mujer-violencia-sexual-noticia-noticia/', 'title': '¡De terror! Solo en dos meses se reportaron más de 4 mil casos de violencia sexual contra la mujer en el Perú', 'author': 'Perú 21', 'og:url': 'https://peru21.pe/lima/de-terror-solo-en-dos-meses-se-reportaron-mas-de-4-mil-casos-de-violencia-sexual-contra-la-mujer-en-el-peru-violencia-de-genero-abuso-sexual-violacion-violencia-contra-la-mujer-violencia-sexual-noticia-noticia/', 'robots': 'follow', 'og:type': 'article', 'abstract': 'Noticias del Perú y del mundo en peru21.pe - Ultimas noticias de política, deportes, espectáculos, fútbol, economía, mundo, tecnología, cultura, ciencia y más...', 'keywords': 'Violación,Violencia de género,Violencia contra la mujer,Abuso sexual,Violencia sexual', 'og:image': 'http://peru21.pe/sites/default/efsfiles/styles/amp_1200x675_16_9/public/2023-10/XLEP457UCRBQVFISQ34PVSOKVQ.png?itok=imhDCAhl', 'og:title': '¡De terror! Solo en dos meses se reportaron más de 4 mil casos de violencia sexual contra la mujer en el Perú', 'viewport': 'width=device-width, initial-scale=1.0', 'Generator': 'Drupal 9 (https://www.drupal.org)', 'fb:app_id': '1667917060088448', 'generator': 'Sirius Publisher', 'link:icon': 'https://peru21.pe/sites/default/efsfiles/favicon.png', 'og:locale': 'es_PE', 'sourceURL': 'https://peru21.pe/lima/de-terror-solo-en-dos-meses-se-reportaron-mas-de-4-mil-casos-de-violencia-sexual-contra-la-mujer-en-el-peru-violencia-de-genero-abuso-sexual-violacion-violencia-contra-la-mujer-violencia-sexual-noticia-noticia', 'article:tag': ['Violación', 'Violencia de género', 'Violencia contra la mujer', 'Abuso sexual', 'Violencia sexual'], 'description': 'Escalofriante. De acuerdo con las cifras oficiales, entre enero y febrero del 2023, se han atendido 24, 695 casos de violencia contra la mujer en todo el país.', 'link:amphtml': 'https://peru21.pe/lima/de-terror-solo-en-dos-meses-se-reportaron-mas-de-4-mil-casos-de-violencia-sexual-contra-la-mujer-en-el-peru-violencia-de-genero-abuso-sexual-violacion-violencia-contra-la-mujer-violencia-sexual-noticia-noticia/?amp', 'og:site_name': 'Perú 21', 'twitter:card': 'summary_large_image', 'twitter:site': '@peru21', 'twitter:image': 'http://peru21.pe/sites/default/efsfiles/2023-10/XLEP457UCRBQVFISQ34PVSOKVQ.png', 'twitter:title': '¡De terror! Solo en dos meses se reportaron más de 4 mil casos de violencia sexual contra la mujer en el Perú', 'article:author': 'Jhosselyn Molero', 'link:canonical': 'https://peru21.pe/lima/de-terror-solo-en-dos-meses-se-reportaron-mas-de-4-mil-casos-de-violencia-sexual-contra-la-mujer-en-el-peru-violencia-de-genero-abuso-sexual-violacion-violencia-contra-la-mujer-violencia-sexual-noticia-noticia/', 'og:description': 'Escalofriante. De acuerdo con las cifras oficiales, entre enero y febrero del 2023, se han atendido 24, 695 casos de violencia contra la mujer en todo el país.', 'MobileOptimized': 'width', 'article:section': 'Lima', 'link:preconnect': 'https://servicer.mgid.com/', 'link:stylesheet': 'https://www.google.com/cse/static/style/look/v4/default.css', 'HandheldFriendly': 'true', 'link:dns-prefetch': 'https://peru21-pe.b-cdn.net/', 'og:image:secure_url': 'https://peru21.pe/sites/default/efsfiles/styles/amp_1200x675_16_9/public/2023-10/XLEP457UCRBQVFISQ34PVSOKVQ.png?itok=imhDCAhl', 'twitter:description': 'Escalofriante. De acuerdo con las cifras oficiales, entre enero y febrero del 2023, se han atendido 24, 695 casos de violencia contra la mujer en todo el país.', 'link:compression-dictionary': 'https://securepubads.g.doubleclick.net/pagead/managed/dict/m202505290101/gpt', 'fecha_publicacion': '2023/04/12', 'distrito': ['Lima'], 'departamento': ['Puno', 'Lima', 'Arequipa', 'Cusco', 'Junín', 'Áncash', 'La Libertad', 'Ica', 'Huánuco']}, hash='46d0e94654190d29e335288c50fa0cac2ffd51b161d4504ea9dbec16d0abb84e')}, metadata_template='{key}: {value}', metadata_separator='\\n', text='Le siguen Cusco, con 34 casos; Junín, con 32; Áncash, con 27 casos; La Libertad, con 27 casos; Ica, con 24 casos y Huánuco con 20 casos.Así mismo, se reportaron 2,764 casos de violencia sexual en menores de edad. De este grupo, las más afectadas fueron las niñas entre los 12 y 17 años, quienes son parte de los 1,917 casos de violencia sexual que se reportaron a nivel nacional.', mimetype='text/plain', start_char_idx=1097, end_char_idx=1476, metadata_seperator='\\n', text_template='[Excerpt from document]\\n{metadata_str}\\nExcerpt:\\n-----\\n{content}\\n-----\\n'), score=1.0), NodeWithScore(node=TextNode(id_='bdd2edc7-20d7-4769-9469-0d3fc715e56d', embedding=None, metadata={'url': 'https://peru21.pe/lima/de-terror-solo-en-dos-meses-se-reportaron-mas-de-4-mil-casos-de-violencia-sexual-contra-la-mujer-en-el-peru-violencia-de-genero-abuso-sexual-violacion-violencia-contra-la-mujer-violencia-sexual-noticia-noticia/', 'title': '¡De terror! Solo en dos meses se reportaron más de 4 mil casos de violencia sexual contra la mujer en el Perú', 'author': 'Perú 21', 'og:url': 'https://peru21.pe/lima/de-terror-solo-en-dos-meses-se-reportaron-mas-de-4-mil-casos-de-violencia-sexual-contra-la-mujer-en-el-peru-violencia-de-genero-abuso-sexual-violacion-violencia-contra-la-mujer-violencia-sexual-noticia-noticia/', 'robots': 'follow', 'og:type': 'article', 'abstract': 'Noticias del Perú y del mundo en peru21.pe - Ultimas noticias de política, deportes, espectáculos, fútbol, economía, mundo, tecnología, cultura, ciencia y más...', 'keywords': ['violacion', 'violenci', 'gener', 'violenci', 'muj', 'abus', 'sexual', 'violenci', 'sexual', 'violenci', 'gener', 'peru', 'analisis', 'cifr', 'cas', 'impact', 'violenci', 'muj', 'abus', 'sexual', 'menor', 'edad'], 'og:image': 'http://peru21.pe/sites/default/efsfiles/styles/amp_1200x675_16_9/public/2023-10/XLEP457UCRBQVFISQ34PVSOKVQ.png?itok=imhDCAhl', 'og:title': '¡De terror! Solo en dos meses se reportaron más de 4 mil casos de violencia sexual contra la mujer en el Perú', 'viewport': 'width=device-width, initial-scale=1.0', 'Generator': 'Drupal 9 (https://www.drupal.org)', 'fb:app_id': '1667917060088448', 'generator': 'Sirius Publisher', 'link:icon': 'https://peru21.pe/sites/default/efsfiles/favicon.png', 'og:locale': 'es_PE', 'sourceURL': 'https://peru21.pe/lima/de-terror-solo-en-dos-meses-se-reportaron-mas-de-4-mil-casos-de-violencia-sexual-contra-la-mujer-en-el-peru-violencia-de-genero-abuso-sexual-violacion-violencia-contra-la-mujer-violencia-sexual-noticia-noticia', 'article:tag': ['Violación', 'Violencia de género', 'Violencia contra la mujer', 'Abuso sexual', 'Violencia sexual'], 'description': 'Escalofriante. De acuerdo con las cifras oficiales, entre enero y febrero del 2023, se han atendido 24, 695 casos de violencia contra la mujer en todo el país.', 'link:amphtml': 'https://peru21.pe/lima/de-terror-solo-en-dos-meses-se-reportaron-mas-de-4-mil-casos-de-violencia-sexual-contra-la-mujer-en-el-peru-violencia-de-genero-abuso-sexual-violacion-violencia-contra-la-mujer-violencia-sexual-noticia-noticia/?amp', 'og:site_name': 'Perú 21', 'twitter:card': 'summary_large_image', 'twitter:site': '@peru21', 'twitter:image': 'http://peru21.pe/sites/default/efsfiles/2023-10/XLEP457UCRBQVFISQ34PVSOKVQ.png', 'twitter:title': '¡De terror! Solo en dos meses se reportaron más de 4 mil casos de violencia sexual contra la mujer en el Perú', 'article:author': 'Jhosselyn Molero', 'link:canonical': 'https://peru21.pe/lima/de-terror-solo-en-dos-meses-se-reportaron-mas-de-4-mil-casos-de-violencia-sexual-contra-la-mujer-en-el-peru-violencia-de-genero-abuso-sexual-violacion-violencia-contra-la-mujer-violencia-sexual-noticia-noticia/', 'og:description': 'Escalofriante. De acuerdo con las cifras oficiales, entre enero y febrero del 2023, se han atendido 24, 695 casos de violencia contra la mujer en todo el país.', 'MobileOptimized': 'width', 'article:section': 'Lima', 'link:preconnect': 'https://servicer.mgid.com/', 'link:stylesheet': 'https://www.google.com/cse/static/style/look/v4/default.css', 'HandheldFriendly': 'true', 'link:dns-prefetch': 'https://peru21-pe.b-cdn.net/', 'og:image:secure_url': 'https://peru21.pe/sites/default/efsfiles/styles/amp_1200x675_16_9/public/2023-10/XLEP457UCRBQVFISQ34PVSOKVQ.png?itok=imhDCAhl', 'twitter:description': 'Escalofriante. De acuerdo con las cifras oficiales, entre enero y febrero del 2023, se han atendido 24, 695 casos de violencia contra la mujer en todo el país.', 'link:compression-dictionary': 'https://securepubads.g.doubleclick.net/pagead/managed/dict/m202505290101/gpt', 'fecha_publicacion': '2023/04/12', 'distrito': ['Lima'], 'departamento': ['Puno', 'Lima', 'Arequipa', 'Cusco', 'Junín', 'Áncash', 'La Libertad', 'Ica', 'Huánuco'], 'document_title': 'Violencia de género en el Perú: Análisis de cifras y casos impactantes de violencia contra la mujer y abuso sexual en menores de edad.'}, excluded_embed_metadata_keys=[], excluded_llm_metadata_keys=[], relationships={<NodeRelationship.SOURCE: '1'>: RelatedNodeInfo(node_id='49f79f97-7288-4c48-a385-355359447b97', node_type='4', metadata={'url': 'https://peru21.pe/lima/de-terror-solo-en-dos-meses-se-reportaron-mas-de-4-mil-casos-de-violencia-sexual-contra-la-mujer-en-el-peru-violencia-de-genero-abuso-sexual-violacion-violencia-contra-la-mujer-violencia-sexual-noticia-noticia/', 'title': '¡De terror! Solo en dos meses se reportaron más de 4 mil casos de violencia sexual contra la mujer en el Perú', 'author': 'Perú 21', 'og:url': 'https://peru21.pe/lima/de-terror-solo-en-dos-meses-se-reportaron-mas-de-4-mil-casos-de-violencia-sexual-contra-la-mujer-en-el-peru-violencia-de-genero-abuso-sexual-violacion-violencia-contra-la-mujer-violencia-sexual-noticia-noticia/', 'robots': 'follow', 'og:type': 'article', 'abstract': 'Noticias del Perú y del mundo en peru21.pe - Ultimas noticias de política, deportes, espectáculos, fútbol, economía, mundo, tecnología, cultura, ciencia y más...', 'keywords': 'Violación,Violencia de género,Violencia contra la mujer,Abuso sexual,Violencia sexual', 'og:image': 'http://peru21.pe/sites/default/efsfiles/styles/amp_1200x675_16_9/public/2023-10/XLEP457UCRBQVFISQ34PVSOKVQ.png?itok=imhDCAhl', 'og:title': '¡De terror! Solo en dos meses se reportaron más de 4 mil casos de violencia sexual contra la mujer en el Perú', 'viewport': 'width=device-width, initial-scale=1.0', 'Generator': 'Drupal 9 (https://www.drupal.org)', 'fb:app_id': '1667917060088448', 'generator': 'Sirius Publisher', 'link:icon': 'https://peru21.pe/sites/default/efsfiles/favicon.png', 'og:locale': 'es_PE', 'sourceURL': 'https://peru21.pe/lima/de-terror-solo-en-dos-meses-se-reportaron-mas-de-4-mil-casos-de-violencia-sexual-contra-la-mujer-en-el-peru-violencia-de-genero-abuso-sexual-violacion-violencia-contra-la-mujer-violencia-sexual-noticia-noticia', 'article:tag': ['Violación', 'Violencia de género', 'Violencia contra la mujer', 'Abuso sexual', 'Violencia sexual'], 'description': 'Escalofriante. De acuerdo con las cifras oficiales, entre enero y febrero del 2023, se han atendido 24, 695 casos de violencia contra la mujer en todo el país.', 'link:amphtml': 'https://peru21.pe/lima/de-terror-solo-en-dos-meses-se-reportaron-mas-de-4-mil-casos-de-violencia-sexual-contra-la-mujer-en-el-peru-violencia-de-genero-abuso-sexual-violacion-violencia-contra-la-mujer-violencia-sexual-noticia-noticia/?amp', 'og:site_name': 'Perú 21', 'twitter:card': 'summary_large_image', 'twitter:site': '@peru21', 'twitter:image': 'http://peru21.pe/sites/default/efsfiles/2023-10/XLEP457UCRBQVFISQ34PVSOKVQ.png', 'twitter:title': '¡De terror! Solo en dos meses se reportaron más de 4 mil casos de violencia sexual contra la mujer en el Perú', 'article:author': 'Jhosselyn Molero', 'link:canonical': 'https://peru21.pe/lima/de-terror-solo-en-dos-meses-se-reportaron-mas-de-4-mil-casos-de-violencia-sexual-contra-la-mujer-en-el-peru-violencia-de-genero-abuso-sexual-violacion-violencia-contra-la-mujer-violencia-sexual-noticia-noticia/', 'og:description': 'Escalofriante. De acuerdo con las cifras oficiales, entre enero y febrero del 2023, se han atendido 24, 695 casos de violencia contra la mujer en todo el país.', 'MobileOptimized': 'width', 'article:section': 'Lima', 'link:preconnect': 'https://servicer.mgid.com/', 'link:stylesheet': 'https://www.google.com/cse/static/style/look/v4/default.css', 'HandheldFriendly': 'true', 'link:dns-prefetch': 'https://peru21-pe.b-cdn.net/', 'og:image:secure_url': 'https://peru21.pe/sites/default/efsfiles/styles/amp_1200x675_16_9/public/2023-10/XLEP457UCRBQVFISQ34PVSOKVQ.png?itok=imhDCAhl', 'twitter:description': 'Escalofriante. De acuerdo con las cifras oficiales, entre enero y febrero del 2023, se han atendido 24, 695 casos de violencia contra la mujer en todo el país.', 'link:compression-dictionary': 'https://securepubads.g.doubleclick.net/pagead/managed/dict/m202505290101/gpt', 'fecha_publicacion': '2023/04/12', 'distrito': ['Lima'], 'departamento': ['Puno', 'Lima', 'Arequipa', 'Cusco', 'Junín', 'Áncash', 'La Libertad', 'Ica', 'Huánuco']}, hash='20b3b0e0a414b4a4bf3cc10baa1b7e61c7f2aaf953d698b354338c09ce130627'), <NodeRelationship.NEXT: '3'>: RelatedNodeInfo(node_id='47577fe4-0f1d-4058-9a39-d2dc068777cd', node_type='1', metadata={}, hash='859f40b63e3f06a9ac2f71587274b225236d18c95408a56fb9026c382a7e0759')}, metadata_template='{key}: {value}', metadata_separator='\\n', text='Escalofriante. De acuerdo con las cifras oficiales, entre enero y febrero del 2023, se han atendido 24, 695 casos de violencia contra la mujer en todo el país.En el Perú, la violencia contra la mujer sigue siendo uno de los problemas sociales más alarmantes. El impactante caso de la enfermera fallecida tras haber sido violada en Puno, deja en evidencia la gravedad de la problemática, la cual parece empeorar cada vez.De acuerdo con las cifras oficiales de los Centros de Emergencia Mujer (CEM), entre enero y febrero del 2023, se han atendido 24, 695 casos de violencia contra la mujer, contabilizándose 4, 015 casos de violencia sexual a nivel nacional.El grupo etario más afectado por la violación sexual es el que se encuentra en el rango de 18 a 59 años. Según los boletines informativos, se atendieron 1,233 casos de violación sexual a nivel nacional, siendo las mujeres entre los 18 y 25 años las más afectadas.Lima es la región que congrega la mayor incidencia de casos de abuso sexual en personas adultas, pues se reportaron 197 casos. Arequipa es la región que le sigue, con 74 casos. ', mimetype='text/plain', start_char_idx=0, end_char_idx=1097, metadata_seperator='\\n', text_template='[Excerpt from document]\\n{metadata_str}\\nExcerpt:\\n-----\\n{content}\\n-----\\n'), score=0.0)]\n"
     ]
    }
   ],
   "source": [
    "# Dataset de RAGAS\n",
    "ragas_samples = []\n",
    "\n",
    "for query, reference in zip(sample_queries, expected_responses):\n",
    "    # Ejecutar tu RAG con metadatos\n",
    "    initial_state: State = {\n",
    "        \"question\": query,\n",
    "        \"inicio\": None,\n",
    "        \"fin\": None,\n",
    "        \"distrito\": [],\n",
    "        \"departamento\": [],\n",
    "        \"context\": [],\n",
    "        \"keywords\": [],\n",
    "        \"answer\": \"\"\n",
    "    }\n",
    "\n",
    "    estado_con_metadata = extract_metadata(initial_state)\n",
    "    estado_con_contexto = retrieve_docs(estado_con_metadata)\n",
    "    respuesta = qa_chain.invoke(estado_con_contexto)\n",
    "\n",
    "    # Agregar al dataset RAGAS\n",
    "    ragas_samples.append({\n",
    "        \"question\": query,\n",
    "        \"answer\": respuesta,\n",
    "        \"contexts\": [doc.get_content() for doc in estado_con_contexto[\"context\"]],\n",
    "        \"reference\": [reference]\n",
    "    })\n",
    "\n",
    "# Convertir a HuggingFace Dataset\n",
    "hf_dataset = Dataset.from_list(ragas_samples)"
   ]
  },
  {
   "cell_type": "code",
   "execution_count": null,
   "id": "9d8c1d61",
   "metadata": {},
   "outputs": [
    {
     "ename": "NameError",
     "evalue": "name 'hf_dataset' is not defined",
     "output_type": "error",
     "traceback": [
      "\u001b[1;31m---------------------------------------------------------------------------\u001b[0m",
      "\u001b[1;31mNameError\u001b[0m                                 Traceback (most recent call last)",
      "Cell \u001b[1;32mIn[1], line 1\u001b[0m\n\u001b[1;32m----> 1\u001b[0m hf_dataset\n",
      "\u001b[1;31mNameError\u001b[0m: name 'hf_dataset' is not defined"
     ]
    },
    {
     "ename": "",
     "evalue": "",
     "output_type": "error",
     "traceback": [
      "\u001b[1;31mThe Kernel crashed while executing code in the current cell or a previous cell. \n",
      "\u001b[1;31mPlease review the code in the cell(s) to identify a possible cause of the failure. \n",
      "\u001b[1;31mClick <a href='https://aka.ms/vscodeJupyterKernelCrash'>here</a> for more info. \n",
      "\u001b[1;31mView Jupyter <a href='command:jupyter.viewOutput'>log</a> for further details."
     ]
    }
   ],
   "source": [
    "hf_dataset"
   ]
  },
  {
   "cell_type": "code",
   "execution_count": 25,
   "id": "49184f2c",
   "metadata": {},
   "outputs": [
    {
     "data": {
      "application/vnd.jupyter.widget-view+json": {
       "model_id": "91689d9b6b794d6babfa1e4cbd0c136c",
       "version_major": 2,
       "version_minor": 0
      },
      "text/plain": [
       "Map:   0%|          | 0/3 [00:00<?, ? examples/s]"
      ]
     },
     "metadata": {},
     "output_type": "display_data"
    }
   ],
   "source": [
    "hf_dataset = hf_dataset.map(lambda x: { \"reference\": x[\"reference\"][0] if isinstance(x[\"reference\"], list) else x[\"reference\"] })"
   ]
  },
  {
   "cell_type": "code",
   "execution_count": 26,
   "id": "622d76ef",
   "metadata": {},
   "outputs": [
    {
     "data": {
      "application/vnd.jupyter.widget-view+json": {
       "model_id": "d85c19359f6d48fdbf3218ac8a63030a",
       "version_major": 2,
       "version_minor": 0
      },
      "text/plain": [
       "Evaluating:   0%|          | 0/9 [00:00<?, ?it/s]"
      ]
     },
     "metadata": {},
     "output_type": "display_data"
    },
    {
     "name": "stderr",
     "output_type": "stream",
     "text": [
      "Unclosed client session\n",
      "client_session: <aiohttp.client.ClientSession object at 0x000001BE14D9B8C0>\n",
      "Unclosed client session\n",
      "client_session: <aiohttp.client.ClientSession object at 0x000001BE7EA9DEE0>\n",
      "Unclosed client session\n",
      "client_session: <aiohttp.client.ClientSession object at 0x000001BE14E36FF0>\n"
     ]
    },
    {
     "name": "stdout",
     "output_type": "stream",
     "text": [
      "{'context_recall': 0.7222, 'faithfulness': 0.8571, 'factual_correctness(mode=f1)': 0.4400}\n"
     ]
    }
   ],
   "source": [
    "results = evaluate(\n",
    "    hf_dataset,\n",
    "    metrics=[LLMContextRecall(), Faithfulness(), FactualCorrectness()],llm=evaluator_llm)\n",
    "\n",
    "print(results)\n"
   ]
  }
 ],
 "metadata": {
  "kernelspec": {
   "display_name": "base",
   "language": "python",
   "name": "python3"
  },
  "language_info": {
   "codemirror_mode": {
    "name": "ipython",
    "version": 3
   },
   "file_extension": ".py",
   "mimetype": "text/x-python",
   "name": "python",
   "nbconvert_exporter": "python",
   "pygments_lexer": "ipython3",
   "version": "3.12.7"
  }
 },
 "nbformat": 4,
 "nbformat_minor": 5
}
