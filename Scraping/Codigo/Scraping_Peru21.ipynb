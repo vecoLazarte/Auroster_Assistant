{
 "cells": [
  {
   "cell_type": "code",
   "execution_count": 1,
   "id": "cc657bea",
   "metadata": {},
   "outputs": [],
   "source": [
    "import pandas as pd \n",
    "import os\n",
    "import requests as rq\n",
    "from bs4 import BeautifulSoup as bs\n",
    "import re\n",
    "from langchain_openai import ChatOpenAI\n",
    "from langchain.prompts import ChatPromptTemplate\n",
    "from datetime import datetime\n",
    "from tqdm import tqdm\n",
    "import warnings\n",
    "warnings.filterwarnings(\"ignore\")"
   ]
  },
  {
   "cell_type": "markdown",
   "id": "089c333d",
   "metadata": {},
   "source": [
    "**Codigo principal PERU 21**"
   ]
  },
  {
   "cell_type": "code",
   "execution_count": 2,
   "id": "e22f562a",
   "metadata": {},
   "outputs": [],
   "source": [
    "headers = {\n",
    "    \"User-Agent\": \"Mozilla/5.0 (Windows NT 10.0; Win64; x64) AppleWebKit/537.36 Chrome/114.0.0.0 Safari/537.36\"\n",
    "}"
   ]
  },
  {
   "cell_type": "code",
   "execution_count": 3,
   "id": "92e0d3e0",
   "metadata": {},
   "outputs": [],
   "source": [
    "with open(\"APPI OPENAI.txt\") as archivo:\n",
    "  apikey_openai = archivo.read()\n",
    "os.environ[\"OPENAI_API_KEY\"] = apikey_openai"
   ]
  },
  {
   "cell_type": "code",
   "execution_count": 14,
   "id": "76dca727",
   "metadata": {},
   "outputs": [],
   "source": [
    "distritos_lima = [\n",
    "    \"Ancón\",\n",
    "    \"Ate\",\n",
    "    \"Barranco\",\n",
    "    \"Breña\",\n",
    "    \"Carabayllo\",\n",
    "    \"Chaclacayo\",\n",
    "    \"Chorrillos\",\n",
    "    \"Cieneguilla\",\n",
    "    \"Comas\",\n",
    "    \"El Agustino\",\n",
    "    \"Independencia\",\n",
    "    \"Jesús María\",\n",
    "    \"La Molina\",\n",
    "    \"La Victoria\",\n",
    "    \"Lince\",\n",
    "    \"Los Olivos\",\n",
    "    \"Lurigancho\",\n",
    "    \"Lurín\",\n",
    "    \"Magdalena del Mar\",\n",
    "    \"Miraflores\",\n",
    "    \"Pachacámac\",\n",
    "    \"Pucusana\",\n",
    "    \"Pueblo Libre\",\n",
    "    \"Puente Piedra\",\n",
    "    \"Punta Hermosa\",\n",
    "    \"Punta Negra\",\n",
    "    \"Rímac\",\n",
    "    \"San Bartolo\",\n",
    "    \"San Borja\",\n",
    "    \"San Isidro\",\n",
    "    \"San Juan de Lurigancho\",\n",
    "    \"San Juan de Miraflores\",\n",
    "    \"San Luis\",\n",
    "    \"San Martín de Porres\",\n",
    "    \"San Miguel\",\n",
    "    \"Santa Anita\",\n",
    "    \"Santa María del Mar\",\n",
    "    \"Santa Rosa\",\n",
    "    \"Santiago de Surco\",\n",
    "    \"Surquillo\",\n",
    "    \"Villa El Salvador\",\n",
    "    \"Villa María del Triunfo\"\n",
    "]\n"
   ]
  },
  {
   "cell_type": "code",
   "execution_count": 15,
   "id": "d30a5b46",
   "metadata": {},
   "outputs": [],
   "source": [
    "distritos_lima = distritos_lima + [distrito.upper() for distrito in distritos_lima]"
   ]
  },
  {
   "cell_type": "code",
   "execution_count": 17,
   "id": "3de15887",
   "metadata": {},
   "outputs": [],
   "source": [
    "departamentos_peru = [\n",
    "    \"Amazonas\",\n",
    "    \"Áncash\",\n",
    "    \"Apurímac\",\n",
    "    \"Arequipa\",\n",
    "    \"Ayacucho\",\n",
    "    \"Cajamarca\",\n",
    "    \"Callao\", \n",
    "    \"Cusco\",\n",
    "    \"Huancavelica\",\n",
    "    \"Huánuco\",\n",
    "    \"Ica\",\n",
    "    \"Junín\",\n",
    "    \"La Libertad\",\n",
    "    \"Lambayeque\",\n",
    "    \"Lima\",\n",
    "    \"Loreto\",\n",
    "    \"Madre de Dios\",\n",
    "    \"Moquegua\",\n",
    "    \"Pasco\",\n",
    "    \"Piura\",\n",
    "    \"Puno\",\n",
    "    \"San Martín\",\n",
    "    \"Tacna\",\n",
    "    \"Tumbes\",\n",
    "    \"Ucayali\"\n",
    "]\n"
   ]
  },
  {
   "cell_type": "code",
   "execution_count": 18,
   "id": "370e16d4",
   "metadata": {},
   "outputs": [],
   "source": [
    "departamentos_peru = departamentos_peru + [departamento.upper() for departamento in departamentos_peru]"
   ]
  },
  {
   "cell_type": "code",
   "execution_count": 6,
   "id": "b382de65",
   "metadata": {},
   "outputs": [],
   "source": [
    "prompt_pais = ChatPromptTemplate.from_messages([\n",
    "    (\"system\", \"\"\"Tu tarea es identificar el o los países mencionados en una noticia.\n",
    "Responde únicamente con una lista de nombres de países:\n",
    "- Si se menciona un solo país, devuélvelo en una lista con un solo elemento.\n",
    "- Si se mencionan varios países, devuélvelos todos en una lista.\n",
    "- Si no se menciona ningún país, devuelve una lista vacía.\n",
    "No des explicaciones ni añadas texto adicional. Solo responde con la lista de países.\"\"\"),\n",
    "    (\"human\", \"{input}\")\n",
    "])\n"
   ]
  },
  {
   "cell_type": "code",
   "execution_count": null,
   "id": "2380f9a9",
   "metadata": {},
   "outputs": [],
   "source": [
    "llm = ChatOpenAI(\n",
    "    temperature=0,\n",
    "    model=\"gpt-4\")\n",
    "\n",
    "def pais_detector(texto: str) -> list:\n",
    "    respuesta = llm.invoke(prompt_pais.format_messages(input=texto)).content.strip().lower()\n",
    "    return respuesta\n",
    "\n",
    "def buscar_ordenados(texto, lista):\n",
    "    encontrados = []\n",
    "\n",
    "    for lugar in lista:\n",
    "        patron = r'\\b' + re.escape(lugar) + r'\\b'\n",
    "        match = re.search(patron, texto)\n",
    "        if match:\n",
    "            encontrados.append((lugar, match.start()))\n",
    "    \n",
    "    # Ordenar por posición en el texto\n",
    "    encontrados.sort(key=lambda x: x[1])\n",
    "    \n",
    "    # Aplicar .title() y eliminar duplicados preservando el orden\n",
    "    vistos = set()\n",
    "    resultado = []\n",
    "    for nombre, _ in encontrados:\n",
    "        nombre_title = nombre.title()\n",
    "        if nombre_title not in vistos:\n",
    "            resultado.append(nombre_title)\n",
    "            vistos.add(nombre_title)\n",
    "    \n",
    "    return resultado"
   ]
  },
  {
   "cell_type": "code",
   "execution_count": 8,
   "id": "b41e2a7e",
   "metadata": {},
   "outputs": [],
   "source": [
    "lista_url = []\n",
    "lista_titulo = []\n",
    "lista_texto = []\n",
    "lista_fecha = []\n",
    "lista_distrito = []\n",
    "lista_departamento = []\n",
    "lista_pais = []"
   ]
  },
  {
   "cell_type": "code",
   "execution_count": 9,
   "id": "65c6dfdf",
   "metadata": {},
   "outputs": [
    {
     "name": "stderr",
     "output_type": "stream",
     "text": [
      "100%|██████████| 12/12 [00:20<00:00,  1.69s/it]\n",
      "100%|██████████| 12/12 [00:18<00:00,  1.50s/it]\n",
      "100%|██████████| 12/12 [00:16<00:00,  1.41s/it]\n",
      "  3%|▎         | 3/99 [00:56<29:22, 18.36s/it]"
     ]
    },
    {
     "name": "stdout",
     "output_type": "stream",
     "text": [
      "Error al encontrar metadata de la noticia: No se encontro metadata: https://peru21.pe/peru21tv/lavozdel21/ministra-mimp-nancy-tolentino-campana-tambien-es-mi-problema-no-podemos-ser-indiferentes-con-la-violencia-a-las-mujeres-dina-boluarte-noticia/\n",
      "\n"
     ]
    },
    {
     "name": "stderr",
     "output_type": "stream",
     "text": [
      "100%|██████████| 12/12 [00:29<00:00,  2.43s/it]\n",
      "100%|██████████| 12/12 [00:28<00:00,  2.39s/it]\n",
      "100%|██████████| 12/12 [00:29<00:00,  2.43s/it]\n",
      "100%|██████████| 12/12 [00:34<00:00,  2.89s/it]\n",
      "100%|██████████| 12/12 [00:27<00:00,  2.33s/it]\n",
      "100%|██████████| 12/12 [00:27<00:00,  2.27s/it]\n",
      "100%|██████████| 12/12 [00:26<00:00,  2.24s/it]\n",
      "100%|██████████| 12/12 [00:26<00:00,  2.22s/it]\n",
      "100%|██████████| 12/12 [00:26<00:00,  2.25s/it]\n",
      "100%|██████████| 12/12 [00:27<00:00,  2.26s/it]\n",
      "100%|██████████| 12/12 [00:27<00:00,  2.29s/it]\n",
      "100%|██████████| 12/12 [00:30<00:00,  2.57s/it]\n",
      "100%|██████████| 12/12 [00:28<00:00,  2.40s/it]\n",
      " 16%|█▌        | 16/99 [07:26<41:30, 30.01s/it]"
     ]
    },
    {
     "name": "stdout",
     "output_type": "stream",
     "text": [
      "Error al encontrar metadata de la noticia: No se encontro metadata: https://peru21.pe/peru21tv/21noticias/violencia-contra-la-mujer-se-reportaron-tres-casos-de-agresion-en-nueve-dias-video-noticia/\n",
      "\n"
     ]
    },
    {
     "name": "stderr",
     "output_type": "stream",
     "text": [
      "100%|██████████| 12/12 [00:24<00:00,  2.06s/it]\n",
      "100%|██████████| 12/12 [00:27<00:00,  2.31s/it]\n",
      "100%|██████████| 12/12 [00:27<00:00,  2.28s/it]\n",
      "100%|██████████| 12/12 [00:27<00:00,  2.30s/it]\n",
      "100%|██████████| 12/12 [00:27<00:00,  2.29s/it]\n",
      "100%|██████████| 12/12 [00:28<00:00,  2.40s/it]\n",
      " 22%|██▏       | 22/99 [10:20<37:50, 29.48s/it]"
     ]
    },
    {
     "name": "stdout",
     "output_type": "stream",
     "text": [
      "Error al encontrar metadata de la noticia: No se encontro metadata: https://peru21.pe/peru21tv/especiales21/dia-mujer-erradicar-violencia-mujer-464493-noticia/\n",
      "\n"
     ]
    },
    {
     "name": "stderr",
     "output_type": "stream",
     "text": [
      "100%|██████████| 12/12 [00:25<00:00,  2.10s/it]\n",
      "100%|██████████| 12/12 [00:24<00:00,  2.07s/it]\n",
      "100%|██████████| 12/12 [00:28<00:00,  2.39s/it]\n",
      "100%|██████████| 12/12 [00:29<00:00,  2.42s/it]\n",
      "100%|██████████| 12/12 [00:27<00:00,  2.29s/it]\n",
      "100%|██████████| 12/12 [00:27<00:00,  2.26s/it]\n",
      "100%|██████████| 12/12 [00:29<00:00,  2.42s/it]\n",
      "100%|██████████| 12/12 [00:26<00:00,  2.18s/it]\n",
      "100%|██████████| 12/12 [00:31<00:00,  2.64s/it]\n",
      "100%|██████████| 12/12 [00:29<00:00,  2.49s/it]\n",
      "100%|██████████| 12/12 [00:28<00:00,  2.36s/it]\n",
      "100%|██████████| 12/12 [00:28<00:00,  2.34s/it]\n",
      "100%|██████████| 12/12 [00:27<00:00,  2.30s/it]\n",
      "100%|██████████| 12/12 [00:25<00:00,  2.11s/it]\n",
      "100%|██████████| 12/12 [00:27<00:00,  2.28s/it]\n",
      "100%|██████████| 12/12 [00:30<00:00,  2.55s/it]\n",
      "100%|██████████| 12/12 [00:29<00:00,  2.50s/it]\n",
      "100%|██████████| 12/12 [00:27<00:00,  2.30s/it]\n",
      "100%|██████████| 12/12 [00:29<00:00,  2.42s/it]\n",
      " 41%|████▏     | 41/99 [19:46<29:19, 30.33s/it]"
     ]
    },
    {
     "name": "stdout",
     "output_type": "stream",
     "text": [
      "Error al encontrar metadata de la noticia: No se encontro metadata: https://peru21.pe/lima/maria-elena-reyes-salud-mental-181463-noticia/\n",
      "\n"
     ]
    },
    {
     "name": "stderr",
     "output_type": "stream",
     "text": [
      "100%|██████████| 12/12 [00:34<00:00,  2.88s/it]\n",
      " 42%|████▏     | 42/99 [20:22<30:30, 32.11s/it]"
     ]
    },
    {
     "name": "stdout",
     "output_type": "stream",
     "text": [
      "Error al encontrar metadata de la noticia: No se encontro metadata: https://peru21.pe/politica/rosa-nunez-denuncio-amenazas-revelar-agresion-fisica-cesar-acuna-180974-noticia/\n",
      "\n"
     ]
    },
    {
     "name": "stderr",
     "output_type": "stream",
     "text": []
    },
    {
     "name": "stdout",
     "output_type": "stream",
     "text": [
      "Error al encontrar metadata de la noticia: No se encontro metadata: https://peru21.pe/politica/opositores-cesar-acuna-aseguran-capacidad-gobernar-180820-noticia/\n",
      "\n"
     ]
    },
    {
     "name": "stderr",
     "output_type": "stream",
     "text": []
    },
    {
     "name": "stdout",
     "output_type": "stream",
     "text": [
      "Error al encontrar metadata de la noticia: No se encontro metadata: https://peru21.pe/politica/cesar-acuna-evito-hablar-acusacion-rosa-nunez-violencia-domestica-180752-noticia/\n",
      "\n"
     ]
    },
    {
     "name": "stderr",
     "output_type": "stream",
     "text": []
    },
    {
     "name": "stdout",
     "output_type": "stream",
     "text": [
      "Error al encontrar metadata de la noticia: No se encontro metadata: https://peru21.pe/politica/acuna-descalificado-moralmente-denuncia-agresion-aseguran-180722-noticia/\n",
      "\n"
     ]
    },
    {
     "name": "stderr",
     "output_type": "stream",
     "text": []
    },
    {
     "name": "stdout",
     "output_type": "stream",
     "text": [
      "Error al encontrar metadata de la noticia: No se encontro metadata: https://peru21.pe/mundo/india-video-muestra-indiferencia-social-presunto-caso-violacion-165074-noticia/\n",
      "\n"
     ]
    },
    {
     "name": "stderr",
     "output_type": "stream",
     "text": []
    },
    {
     "name": "stdout",
     "output_type": "stream",
     "text": [
      "Error al encontrar metadata de la noticia: No se encontro metadata: https://peru21.pe/politica/piden-detencion-pablo-secada-agresion-mujer-policia-164308-noticia/\n",
      "\n"
     ]
    },
    {
     "name": "stderr",
     "output_type": "stream",
     "text": []
    },
    {
     "name": "stdout",
     "output_type": "stream",
     "text": [
      "Error al encontrar metadata de la noticia: No se encontro metadata: https://peru21.pe/lima/arequipa-mujer-denuncia-tocamiento-indebido-golpeada-agresor-163496-noticia/\n",
      "\n"
     ]
    },
    {
     "name": "stderr",
     "output_type": "stream",
     "text": []
    },
    {
     "name": "stdout",
     "output_type": "stream",
     "text": [
      "Error al encontrar metadata de la noticia: No se encontro metadata: https://peru21.pe/lima/razon-imagenes-violencia-mujer-reggaeton-163263-noticia/\n",
      "\n"
     ]
    },
    {
     "name": "stderr",
     "output_type": "stream",
     "text": []
    },
    {
     "name": "stdout",
     "output_type": "stream",
     "text": [
      "Error al encontrar metadata de la noticia: No se encontro metadata: https://peru21.pe/lima/walter-alban-mujeres-deben-defenderse-tengan-mano-163065-noticia/\n",
      "\n"
     ]
    },
    {
     "name": "stderr",
     "output_type": "stream",
     "text": []
    },
    {
     "name": "stdout",
     "output_type": "stream",
     "text": [
      "Error al encontrar metadata de la noticia: No se encontro metadata: https://peru21.pe/politica/carmen-omonte-ana-jara-violencia-genera-violencia-162732-noticia/\n",
      "\n"
     ]
    },
    {
     "name": "stderr",
     "output_type": "stream",
     "text": []
    },
    {
     "name": "stdout",
     "output_type": "stream",
     "text": [
      "Error al encontrar metadata de la noticia: No se encontro metadata: https://peru21.pe/lima/chorrillos-mujer-recibe-brutal-golpiza-pedir-manutencion-hijos-162725-noticia/\n",
      "\n"
     ]
    },
    {
     "name": "stderr",
     "output_type": "stream",
     "text": []
    },
    {
     "name": "stdout",
     "output_type": "stream",
     "text": [
      "Error al encontrar metadata de la noticia: No se encontro metadata: https://peru21.pe/politica/policia-nacional-respalda-suboficial-maltratada-pablo-secada-148405-noticia/\n",
      "\n"
     ]
    },
    {
     "name": "stderr",
     "output_type": "stream",
     "text": [
      "100%|██████████| 12/12 [00:42<00:00,  3.52s/it]\n",
      " 43%|████▎     | 43/99 [21:06<33:19, 35.71s/it]"
     ]
    },
    {
     "name": "stdout",
     "output_type": "stream",
     "text": [
      "Error al encontrar metadata de la noticia: No se encontro metadata: https://peru21.pe/politica/pablo-secada-tildan-patan-regidor-video-agresion-policia-148358-noticia/\n",
      "\n"
     ]
    },
    {
     "name": "stderr",
     "output_type": "stream",
     "text": []
    },
    {
     "name": "stdout",
     "output_type": "stream",
     "text": [
      "Error al encontrar metadata de la noticia: No se encontro metadata: https://peru21.pe/lima/peru-5-10-mujeres-son-victimas-violencia-147878-noticia/\n",
      "\n"
     ]
    },
    {
     "name": "stderr",
     "output_type": "stream",
     "text": []
    },
    {
     "name": "stdout",
     "output_type": "stream",
     "text": [
      "Error al encontrar metadata de la noticia: No se encontro metadata: https://peru21.pe/politica/raul-castro-secada-sometido-comision-etica-ppc-144524-noticia/\n",
      "\n"
     ]
    },
    {
     "name": "stderr",
     "output_type": "stream",
     "text": []
    },
    {
     "name": "stdout",
     "output_type": "stream",
     "text": [
      "Error al encontrar metadata de la noticia: No se encontro metadata: https://peru21.pe/mundo/india-turista-danesa-violada-grupo-hombres-140778-noticia/\n",
      "\n"
     ]
    },
    {
     "name": "stderr",
     "output_type": "stream",
     "text": []
    },
    {
     "name": "stdout",
     "output_type": "stream",
     "text": [
      "Error al encontrar metadata de la noticia: No se encontro metadata: https://peru21.pe/lima/aumenta-violencia-mujer-99-asesinadas-133191-noticia/\n",
      "\n"
     ]
    },
    {
     "name": "stderr",
     "output_type": "stream",
     "text": []
    },
    {
     "name": "stdout",
     "output_type": "stream",
     "text": [
      "Error al encontrar metadata de la noticia: No se encontro metadata: https://peru21.pe/opinion/aumenta-violencia-mujer-99-asesinadas-133156-noticia/\n",
      "\n"
     ]
    },
    {
     "name": "stderr",
     "output_type": "stream",
     "text": []
    },
    {
     "name": "stdout",
     "output_type": "stream",
     "text": [
      "Error al encontrar metadata de la noticia: No se encontro metadata: https://peru21.pe/mundo/india-limitan-venta-acido-evitar-ataques-mujeres-116047-noticia/\n",
      "\n"
     ]
    },
    {
     "name": "stderr",
     "output_type": "stream",
     "text": []
    },
    {
     "name": "stdout",
     "output_type": "stream",
     "text": [
      "Error al encontrar metadata de la noticia: No se encontro metadata: https://peru21.pe/opinion/violencia-mujer-112612-noticia/\n",
      "\n"
     ]
    },
    {
     "name": "stderr",
     "output_type": "stream",
     "text": []
    },
    {
     "name": "stdout",
     "output_type": "stream",
     "text": [
      "Error al encontrar metadata de la noticia: No se encontro metadata: https://peru21.pe/lima/cumple-plan-violencia-mujer-108532-noticia/\n",
      "\n"
     ]
    },
    {
     "name": "stderr",
     "output_type": "stream",
     "text": []
    },
    {
     "name": "stdout",
     "output_type": "stream",
     "text": [
      "Error al encontrar metadata de la noticia: No se encontro metadata: https://peru21.pe/mundo/india-mujer-quemada-viva-resistirse-violacion-105031-noticia/\n",
      "\n"
     ]
    },
    {
     "name": "stderr",
     "output_type": "stream",
     "text": []
    },
    {
     "name": "stdout",
     "output_type": "stream",
     "text": [
      "Error al encontrar metadata de la noticia: No se encontro metadata: https://peru21.pe/opinion/gobierno-oficializa-pedido-retiro-embajador-104321-noticia/\n",
      "\n"
     ]
    },
    {
     "name": "stderr",
     "output_type": "stream",
     "text": []
    },
    {
     "name": "stdout",
     "output_type": "stream",
     "text": [
      "Error al encontrar metadata de la noticia: No se encontro metadata: https://peru21.pe/politica/nadine-heredia-nadie-derecho-maltratar-peruana-104253-noticia/\n",
      "\n"
     ]
    },
    {
     "name": "stderr",
     "output_type": "stream",
     "text": [
      "100%|██████████| 12/12 [00:41<00:00,  3.47s/it]\n",
      " 44%|████▍     | 44/99 [21:49<34:48, 37.97s/it]"
     ]
    },
    {
     "name": "stdout",
     "output_type": "stream",
     "text": [
      "Error al encontrar metadata de la noticia: No se encontro metadata: https://peru21.pe/opinion/servicios-21-1-97049-noticia/\n",
      "\n"
     ]
    },
    {
     "name": "stderr",
     "output_type": "stream",
     "text": []
    },
    {
     "name": "stdout",
     "output_type": "stream",
     "text": [
      "Error al encontrar metadata de la noticia: No se encontro metadata: https://peru21.pe/opinion/tres-feminicidios-mes-87820-noticia/\n",
      "\n"
     ]
    },
    {
     "name": "stderr",
     "output_type": "stream",
     "text": []
    },
    {
     "name": "stdout",
     "output_type": "stream",
     "text": [
      "Error al encontrar metadata de la noticia: No se encontro metadata: https://peru21.pe/voces/gobierno-caso-villena-58428-noticia/\n",
      "\n"
     ]
    },
    {
     "name": "stderr",
     "output_type": "stream",
     "text": []
    },
    {
     "name": "stdout",
     "output_type": "stream",
     "text": [
      "Error al encontrar metadata de la noticia: No se encontro metadata: https://peru21.pe/politica/ollanta-humala-sigue-silencio-agresion-jose-villena-58268-noticia/\n",
      "\n"
     ]
    },
    {
     "name": "stderr",
     "output_type": "stream",
     "text": []
    },
    {
     "name": "stdout",
     "output_type": "stream",
     "text": [
      "Error al encontrar metadata de la noticia: No se encontro metadata: https://peru21.pe/voces/humala-pide-castigar-esterilizaciones-56388-noticia/\n",
      "\n"
     ]
    },
    {
     "name": "stderr",
     "output_type": "stream",
     "text": []
    },
    {
     "name": "stdout",
     "output_type": "stream",
     "text": [
      "Error al encontrar metadata de la noticia: No se encontro metadata: https://peru21.pe/voces/derecho-mujeres-censurar-medios-48421-noticia/\n",
      "\n"
     ]
    },
    {
     "name": "stderr",
     "output_type": "stream",
     "text": []
    },
    {
     "name": "stdout",
     "output_type": "stream",
     "text": [
      "Error al encontrar metadata de la noticia: No se encontro metadata: https://peru21.pe/lima/gobierno-aprobo-proyecto-castigar-cadena-perpetua-feminicidio-47840-noticia/\n",
      "\n"
     ]
    },
    {
     "name": "stderr",
     "output_type": "stream",
     "text": []
    },
    {
     "name": "stdout",
     "output_type": "stream",
     "text": [
      "Error al encontrar metadata de la noticia: No se encontro metadata: https://peru21.pe/politica/ana-jara-palabras-isaac-humala-son-maltrato-mujer-42405-noticia/\n",
      "\n"
     ]
    },
    {
     "name": "stderr",
     "output_type": "stream",
     "text": []
    },
    {
     "name": "stdout",
     "output_type": "stream",
     "text": [
      "Error al encontrar metadata de la noticia: No se encontro metadata: https://peru21.pe/reportuit/sujeto-agrede-mujer-afuera-comisaria-maranga-42261-noticia/\n",
      "\n"
     ]
    },
    {
     "name": "stderr",
     "output_type": "stream",
     "text": []
    },
    {
     "name": "stdout",
     "output_type": "stream",
     "text": [
      "Error al encontrar metadata de la noticia: No se encontro metadata: https://peru21.pe/lima/defensoria-advierte-precaria-atencion-mujeres-victimas-violencia-41745-noticia/\n",
      "\n"
     ]
    },
    {
     "name": "stderr",
     "output_type": "stream",
     "text": []
    },
    {
     "name": "stdout",
     "output_type": "stream",
     "text": [
      "Error al encontrar metadata de la noticia: No se encontro metadata: https://peru21.pe/voces/desnudan-39939-noticia/\n",
      "\n"
     ]
    },
    {
     "name": "stderr",
     "output_type": "stream",
     "text": []
    },
    {
     "name": "stdout",
     "output_type": "stream",
     "text": [
      "Error al encontrar metadata de la noticia: No se encontro metadata: https://peru21.pe/voces/amos-esclavas-32294-noticia/\n",
      "\n"
     ]
    },
    {
     "name": "stderr",
     "output_type": "stream",
     "text": [
      "100%|██████████| 12/12 [00:41<00:00,  3.45s/it]\n",
      " 45%|████▌     | 45/99 [22:33<35:34, 39.54s/it]"
     ]
    },
    {
     "name": "stdout",
     "output_type": "stream",
     "text": [
      "Error al encontrar metadata de la noticia: No se encontro metadata: https://peru21.pe/voces/detienen-empresario-escoces-29093-noticia/\n",
      "\n"
     ]
    },
    {
     "name": "stderr",
     "output_type": "stream",
     "text": []
    },
    {
     "name": "stdout",
     "output_type": "stream",
     "text": [
      "Error al encontrar metadata de la noticia: No se encontro metadata: https://peru21.pe/espectaculos/aldo-miyashiro-lanzo-campana-feminicidio-21427-noticia/\n",
      "\n"
     ]
    },
    {
     "name": "stderr",
     "output_type": "stream",
     "text": []
    },
    {
     "name": "stdout",
     "output_type": "stream",
     "text": [
      "Error al encontrar metadata de la noticia: No se encontro metadata: https://peru21.pe/voces/aldo-lanzo-campana-vs-feminicidio-21411-noticia/\n",
      "\n"
     ]
    },
    {
     "name": "stderr",
     "output_type": "stream",
     "text": []
    },
    {
     "name": "stdout",
     "output_type": "stream",
     "text": [
      "Error al encontrar metadata de la noticia: No se encontro metadata: https://peru21.pe/voces/miguel-pinera-nuevo-escandalo-12697-noticia/\n",
      "\n"
     ]
    },
    {
     "name": "stderr",
     "output_type": "stream",
     "text": [
      "100%|██████████| 4/4 [00:13<00:00,  3.38s/it]\n",
      " 46%|████▋     | 46/99 [22:47<28:22, 32.13s/it]"
     ]
    },
    {
     "name": "stdout",
     "output_type": "stream",
     "text": [
      "Error al encontrar metadata de la noticia: No se encontro metadata: https://peru21.pe/voces/celos-desata-bano-sangre-11849-noticia/\n",
      "\n"
     ]
    },
    {
     "name": "stderr",
     "output_type": "stream",
     "text": [
      " 47%|████▋     | 47/99 [22:48<19:42, 22.74s/it]"
     ]
    },
    {
     "name": "stdout",
     "output_type": "stream",
     "text": [
      "Error al cargar la página 47:\n",
      "list index out of range\n"
     ]
    },
    {
     "name": "stderr",
     "output_type": "stream",
     "text": [
      " 48%|████▊     | 48/99 [22:49<13:44, 16.17s/it]"
     ]
    },
    {
     "name": "stdout",
     "output_type": "stream",
     "text": [
      "Error al cargar la página 48:\n",
      "list index out of range\n"
     ]
    },
    {
     "name": "stderr",
     "output_type": "stream",
     "text": [
      " 49%|████▉     | 49/99 [22:50<09:40, 11.62s/it]"
     ]
    },
    {
     "name": "stdout",
     "output_type": "stream",
     "text": [
      "Error al cargar la página 49:\n",
      "list index out of range\n"
     ]
    },
    {
     "name": "stderr",
     "output_type": "stream",
     "text": [
      " 51%|█████     | 50/99 [22:51<06:50,  8.39s/it]"
     ]
    },
    {
     "name": "stdout",
     "output_type": "stream",
     "text": [
      "Error al cargar la página 50:\n",
      "list index out of range\n"
     ]
    },
    {
     "name": "stderr",
     "output_type": "stream",
     "text": [
      " 52%|█████▏    | 51/99 [22:52<04:54,  6.14s/it]"
     ]
    },
    {
     "name": "stdout",
     "output_type": "stream",
     "text": [
      "Error al cargar la página 51:\n",
      "list index out of range\n"
     ]
    },
    {
     "name": "stderr",
     "output_type": "stream",
     "text": [
      " 53%|█████▎    | 52/99 [22:53<03:33,  4.55s/it]"
     ]
    },
    {
     "name": "stdout",
     "output_type": "stream",
     "text": [
      "Error al cargar la página 52:\n",
      "list index out of range\n"
     ]
    },
    {
     "name": "stderr",
     "output_type": "stream",
     "text": [
      " 54%|█████▎    | 53/99 [22:54<02:40,  3.49s/it]"
     ]
    },
    {
     "name": "stdout",
     "output_type": "stream",
     "text": [
      "Error al cargar la página 53:\n",
      "list index out of range\n"
     ]
    },
    {
     "name": "stderr",
     "output_type": "stream",
     "text": [
      " 55%|█████▍    | 54/99 [22:55<02:06,  2.81s/it]"
     ]
    },
    {
     "name": "stdout",
     "output_type": "stream",
     "text": [
      "Error al cargar la página 54:\n",
      "list index out of range\n"
     ]
    },
    {
     "name": "stderr",
     "output_type": "stream",
     "text": [
      " 56%|█████▌    | 55/99 [22:56<01:38,  2.25s/it]"
     ]
    },
    {
     "name": "stdout",
     "output_type": "stream",
     "text": [
      "Error al cargar la página 55:\n",
      "list index out of range\n"
     ]
    },
    {
     "name": "stderr",
     "output_type": "stream",
     "text": [
      " 57%|█████▋    | 56/99 [22:57<01:21,  1.91s/it]"
     ]
    },
    {
     "name": "stdout",
     "output_type": "stream",
     "text": [
      "Error al cargar la página 56:\n",
      "list index out of range\n"
     ]
    },
    {
     "name": "stderr",
     "output_type": "stream",
     "text": [
      " 58%|█████▊    | 57/99 [22:58<01:10,  1.68s/it]"
     ]
    },
    {
     "name": "stdout",
     "output_type": "stream",
     "text": [
      "Error al cargar la página 57:\n",
      "list index out of range\n"
     ]
    },
    {
     "name": "stderr",
     "output_type": "stream",
     "text": [
      " 59%|█████▊    | 58/99 [22:59<01:03,  1.54s/it]"
     ]
    },
    {
     "name": "stdout",
     "output_type": "stream",
     "text": [
      "Error al cargar la página 58:\n",
      "list index out of range\n"
     ]
    },
    {
     "name": "stderr",
     "output_type": "stream",
     "text": [
      " 60%|█████▉    | 59/99 [23:00<00:54,  1.35s/it]"
     ]
    },
    {
     "name": "stdout",
     "output_type": "stream",
     "text": [
      "Error al cargar la página 59:\n",
      "list index out of range\n"
     ]
    },
    {
     "name": "stderr",
     "output_type": "stream",
     "text": [
      " 61%|██████    | 60/99 [23:01<00:46,  1.20s/it]"
     ]
    },
    {
     "name": "stdout",
     "output_type": "stream",
     "text": [
      "Error al cargar la página 60:\n",
      "list index out of range\n"
     ]
    },
    {
     "name": "stderr",
     "output_type": "stream",
     "text": [
      " 62%|██████▏   | 61/99 [23:02<00:42,  1.11s/it]"
     ]
    },
    {
     "name": "stdout",
     "output_type": "stream",
     "text": [
      "Error al cargar la página 61:\n",
      "list index out of range\n"
     ]
    },
    {
     "name": "stderr",
     "output_type": "stream",
     "text": [
      " 63%|██████▎   | 62/99 [23:03<00:40,  1.09s/it]"
     ]
    },
    {
     "name": "stdout",
     "output_type": "stream",
     "text": [
      "Error al cargar la página 62:\n",
      "list index out of range\n"
     ]
    },
    {
     "name": "stderr",
     "output_type": "stream",
     "text": [
      " 64%|██████▎   | 63/99 [23:04<00:37,  1.04s/it]"
     ]
    },
    {
     "name": "stdout",
     "output_type": "stream",
     "text": [
      "Error al cargar la página 63:\n",
      "list index out of range\n"
     ]
    },
    {
     "name": "stderr",
     "output_type": "stream",
     "text": [
      " 65%|██████▍   | 64/99 [23:05<00:34,  1.00it/s]"
     ]
    },
    {
     "name": "stdout",
     "output_type": "stream",
     "text": [
      "Error al cargar la página 64:\n",
      "list index out of range\n"
     ]
    },
    {
     "name": "stderr",
     "output_type": "stream",
     "text": [
      " 66%|██████▌   | 65/99 [23:06<00:32,  1.06it/s]"
     ]
    },
    {
     "name": "stdout",
     "output_type": "stream",
     "text": [
      "Error al cargar la página 65:\n",
      "list index out of range\n"
     ]
    },
    {
     "name": "stderr",
     "output_type": "stream",
     "text": [
      " 67%|██████▋   | 66/99 [23:07<00:31,  1.06it/s]"
     ]
    },
    {
     "name": "stdout",
     "output_type": "stream",
     "text": [
      "Error al cargar la página 66:\n",
      "list index out of range\n"
     ]
    },
    {
     "name": "stderr",
     "output_type": "stream",
     "text": [
      " 68%|██████▊   | 67/99 [23:07<00:29,  1.07it/s]"
     ]
    },
    {
     "name": "stdout",
     "output_type": "stream",
     "text": [
      "Error al cargar la página 67:\n",
      "list index out of range\n"
     ]
    },
    {
     "name": "stderr",
     "output_type": "stream",
     "text": [
      " 69%|██████▊   | 68/99 [23:09<00:30,  1.01it/s]"
     ]
    },
    {
     "name": "stdout",
     "output_type": "stream",
     "text": [
      "Error al cargar la página 68:\n",
      "list index out of range\n"
     ]
    },
    {
     "name": "stderr",
     "output_type": "stream",
     "text": [
      " 70%|██████▉   | 69/99 [23:10<00:32,  1.07s/it]"
     ]
    },
    {
     "name": "stdout",
     "output_type": "stream",
     "text": [
      "Error al cargar la página 69:\n",
      "list index out of range\n"
     ]
    },
    {
     "name": "stderr",
     "output_type": "stream",
     "text": [
      " 71%|███████   | 70/99 [23:11<00:30,  1.05s/it]"
     ]
    },
    {
     "name": "stdout",
     "output_type": "stream",
     "text": [
      "Error al cargar la página 70:\n",
      "list index out of range\n"
     ]
    },
    {
     "name": "stderr",
     "output_type": "stream",
     "text": [
      " 72%|███████▏  | 71/99 [23:12<00:29,  1.07s/it]"
     ]
    },
    {
     "name": "stdout",
     "output_type": "stream",
     "text": [
      "Error al cargar la página 71:\n",
      "list index out of range\n"
     ]
    },
    {
     "name": "stderr",
     "output_type": "stream",
     "text": [
      " 73%|███████▎  | 72/99 [23:13<00:30,  1.12s/it]"
     ]
    },
    {
     "name": "stdout",
     "output_type": "stream",
     "text": [
      "Error al cargar la página 72:\n",
      "list index out of range\n"
     ]
    },
    {
     "name": "stderr",
     "output_type": "stream",
     "text": [
      " 74%|███████▎  | 73/99 [23:14<00:27,  1.07s/it]"
     ]
    },
    {
     "name": "stdout",
     "output_type": "stream",
     "text": [
      "Error al cargar la página 73:\n",
      "list index out of range\n"
     ]
    },
    {
     "name": "stderr",
     "output_type": "stream",
     "text": [
      " 75%|███████▍  | 74/99 [23:15<00:26,  1.07s/it]"
     ]
    },
    {
     "name": "stdout",
     "output_type": "stream",
     "text": [
      "Error al cargar la página 74:\n",
      "list index out of range\n"
     ]
    },
    {
     "name": "stderr",
     "output_type": "stream",
     "text": [
      " 76%|███████▌  | 75/99 [23:16<00:23,  1.00it/s]"
     ]
    },
    {
     "name": "stdout",
     "output_type": "stream",
     "text": [
      "Error al cargar la página 75:\n",
      "list index out of range\n"
     ]
    },
    {
     "name": "stderr",
     "output_type": "stream",
     "text": [
      " 77%|███████▋  | 76/99 [23:17<00:24,  1.07s/it]"
     ]
    },
    {
     "name": "stdout",
     "output_type": "stream",
     "text": [
      "Error al cargar la página 76:\n",
      "list index out of range\n"
     ]
    },
    {
     "name": "stderr",
     "output_type": "stream",
     "text": [
      " 78%|███████▊  | 77/99 [23:18<00:23,  1.06s/it]"
     ]
    },
    {
     "name": "stdout",
     "output_type": "stream",
     "text": [
      "Error al cargar la página 77:\n",
      "list index out of range\n"
     ]
    },
    {
     "name": "stderr",
     "output_type": "stream",
     "text": [
      " 79%|███████▉  | 78/99 [23:19<00:21,  1.01s/it]"
     ]
    },
    {
     "name": "stdout",
     "output_type": "stream",
     "text": [
      "Error al cargar la página 78:\n",
      "list index out of range\n"
     ]
    },
    {
     "name": "stderr",
     "output_type": "stream",
     "text": [
      " 80%|███████▉  | 79/99 [23:20<00:19,  1.05it/s]"
     ]
    },
    {
     "name": "stdout",
     "output_type": "stream",
     "text": [
      "Error al cargar la página 79:\n",
      "list index out of range\n"
     ]
    },
    {
     "name": "stderr",
     "output_type": "stream",
     "text": [
      " 81%|████████  | 80/99 [23:21<00:17,  1.06it/s]"
     ]
    },
    {
     "name": "stdout",
     "output_type": "stream",
     "text": [
      "Error al cargar la página 80:\n",
      "list index out of range\n"
     ]
    },
    {
     "name": "stderr",
     "output_type": "stream",
     "text": [
      " 82%|████████▏ | 81/99 [23:22<00:17,  1.04it/s]"
     ]
    },
    {
     "name": "stdout",
     "output_type": "stream",
     "text": [
      "Error al cargar la página 81:\n",
      "list index out of range\n"
     ]
    },
    {
     "name": "stderr",
     "output_type": "stream",
     "text": [
      " 83%|████████▎ | 82/99 [23:23<00:15,  1.07it/s]"
     ]
    },
    {
     "name": "stdout",
     "output_type": "stream",
     "text": [
      "Error al cargar la página 82:\n",
      "list index out of range\n"
     ]
    },
    {
     "name": "stderr",
     "output_type": "stream",
     "text": [
      " 84%|████████▍ | 83/99 [23:24<00:14,  1.08it/s]"
     ]
    },
    {
     "name": "stdout",
     "output_type": "stream",
     "text": [
      "Error al cargar la página 83:\n",
      "list index out of range\n"
     ]
    },
    {
     "name": "stderr",
     "output_type": "stream",
     "text": [
      " 85%|████████▍ | 84/99 [23:25<00:14,  1.01it/s]"
     ]
    },
    {
     "name": "stdout",
     "output_type": "stream",
     "text": [
      "Error al cargar la página 84:\n",
      "list index out of range\n"
     ]
    },
    {
     "name": "stderr",
     "output_type": "stream",
     "text": [
      " 86%|████████▌ | 85/99 [23:26<00:13,  1.07it/s]"
     ]
    },
    {
     "name": "stdout",
     "output_type": "stream",
     "text": [
      "Error al cargar la página 85:\n",
      "list index out of range\n"
     ]
    },
    {
     "name": "stderr",
     "output_type": "stream",
     "text": [
      " 87%|████████▋ | 86/99 [23:27<00:11,  1.11it/s]"
     ]
    },
    {
     "name": "stdout",
     "output_type": "stream",
     "text": [
      "Error al cargar la página 86:\n",
      "list index out of range\n"
     ]
    },
    {
     "name": "stderr",
     "output_type": "stream",
     "text": [
      " 88%|████████▊ | 87/99 [23:27<00:10,  1.10it/s]"
     ]
    },
    {
     "name": "stdout",
     "output_type": "stream",
     "text": [
      "Error al cargar la página 87:\n",
      "list index out of range\n"
     ]
    },
    {
     "name": "stderr",
     "output_type": "stream",
     "text": [
      " 89%|████████▉ | 88/99 [23:28<00:10,  1.10it/s]"
     ]
    },
    {
     "name": "stdout",
     "output_type": "stream",
     "text": [
      "Error al cargar la página 88:\n",
      "list index out of range\n"
     ]
    },
    {
     "name": "stderr",
     "output_type": "stream",
     "text": [
      " 90%|████████▉ | 89/99 [23:29<00:08,  1.13it/s]"
     ]
    },
    {
     "name": "stdout",
     "output_type": "stream",
     "text": [
      "Error al cargar la página 89:\n",
      "list index out of range\n"
     ]
    },
    {
     "name": "stderr",
     "output_type": "stream",
     "text": [
      " 91%|█████████ | 90/99 [23:30<00:08,  1.05it/s]"
     ]
    },
    {
     "name": "stdout",
     "output_type": "stream",
     "text": [
      "Error al cargar la página 90:\n",
      "list index out of range\n"
     ]
    },
    {
     "name": "stderr",
     "output_type": "stream",
     "text": [
      " 92%|█████████▏| 91/99 [23:31<00:07,  1.06it/s]"
     ]
    },
    {
     "name": "stdout",
     "output_type": "stream",
     "text": [
      "Error al cargar la página 91:\n",
      "list index out of range\n"
     ]
    },
    {
     "name": "stderr",
     "output_type": "stream",
     "text": [
      " 93%|█████████▎| 92/99 [23:32<00:06,  1.07it/s]"
     ]
    },
    {
     "name": "stdout",
     "output_type": "stream",
     "text": [
      "Error al cargar la página 92:\n",
      "list index out of range\n"
     ]
    },
    {
     "name": "stderr",
     "output_type": "stream",
     "text": [
      " 94%|█████████▍| 93/99 [23:33<00:05,  1.04it/s]"
     ]
    },
    {
     "name": "stdout",
     "output_type": "stream",
     "text": [
      "Error al cargar la página 93:\n",
      "list index out of range\n"
     ]
    },
    {
     "name": "stderr",
     "output_type": "stream",
     "text": [
      " 95%|█████████▍| 94/99 [23:34<00:04,  1.02it/s]"
     ]
    },
    {
     "name": "stdout",
     "output_type": "stream",
     "text": [
      "Error al cargar la página 94:\n",
      "list index out of range\n"
     ]
    },
    {
     "name": "stderr",
     "output_type": "stream",
     "text": [
      " 96%|█████████▌| 95/99 [23:35<00:03,  1.04it/s]"
     ]
    },
    {
     "name": "stdout",
     "output_type": "stream",
     "text": [
      "Error al cargar la página 95:\n",
      "list index out of range\n"
     ]
    },
    {
     "name": "stderr",
     "output_type": "stream",
     "text": [
      " 97%|█████████▋| 96/99 [23:36<00:02,  1.09it/s]"
     ]
    },
    {
     "name": "stdout",
     "output_type": "stream",
     "text": [
      "Error al cargar la página 96:\n",
      "list index out of range\n"
     ]
    },
    {
     "name": "stderr",
     "output_type": "stream",
     "text": [
      " 98%|█████████▊| 97/99 [23:37<00:01,  1.09it/s]"
     ]
    },
    {
     "name": "stdout",
     "output_type": "stream",
     "text": [
      "Error al cargar la página 97:\n",
      "list index out of range\n"
     ]
    },
    {
     "name": "stderr",
     "output_type": "stream",
     "text": [
      " 99%|█████████▉| 98/99 [23:38<00:01,  1.01s/it]"
     ]
    },
    {
     "name": "stdout",
     "output_type": "stream",
     "text": [
      "Error al cargar la página 98:\n",
      "list index out of range\n"
     ]
    },
    {
     "name": "stderr",
     "output_type": "stream",
     "text": [
      "100%|██████████| 99/99 [23:39<00:00, 14.34s/it]"
     ]
    },
    {
     "name": "stdout",
     "output_type": "stream",
     "text": [
      "Error al cargar la página 99:\n",
      "list index out of range\n"
     ]
    },
    {
     "name": "stderr",
     "output_type": "stream",
     "text": [
      "\n"
     ]
    }
   ],
   "source": [
    "for pagina in tqdm(range(1, 100)):  # Puedes aumentar el rango si quieres ir más allá\n",
    "    url = f'https://peru21.pe/noticias/violencia-contra-la-mujer/{pagina}/'\n",
    "    try:\n",
    "        html = rq.get(url,headers=headers).content.decode(\"utf-8\")\n",
    "        soup = bs(html)\n",
    "        enlaces_raw = soup.find_all('article',{'role':'article','class':'node node--type-article node--view-mode-teaser-2-col'})[0].find_all('div',{'class':'titulo-teaser-2col'})\n",
    "        links=  ['https://peru21.pe' + raw.find('a').get('href') for raw in enlaces_raw]\n",
    "        for noticia in tqdm(links):\n",
    "            try:\n",
    "                soup2 = bs(rq.get(noticia, headers=headers).content.decode(\"utf-8\"))\n",
    "                try:\n",
    "                    titulo = soup2.find_all(\"h1\")[0].text\n",
    "                    fecha = \"/\".join(list((re.findall(r\"(\\d{2})[/-](\\d{2})[/-](\\d{4})\",soup2.find_all('time')[0].text))[0]))\n",
    "                    if datetime.strptime(fecha, \"%d/%m/%Y\") > datetime.strptime('24/05/2024', \"%d/%m/%Y\"):\n",
    "                        body = \"\\n\".join([p.get_text(strip=True) for p in soup2.find_all(\"div\", {'class': 'content'})[1].find_all(lambda tag: (tag.name == \"p\"\n",
    "                                                                                                                                                and tag.get_text(strip=True)  # excluir <p> vacíos\n",
    "                                                                                                                                                and (\n",
    "                                                                                                                                                not tag.attrs  # sin atributos\n",
    "                                                                                                                                                    or set(tag.attrs).issubset({\"data-start\", \"data-end\"})  # excepción permitida\n",
    "                                                                                                                                                )\n",
    "                                                                                                                                                and not tag.find_parent(\"div\", attrs={\"data-entity-type\": \"node\"})  # excluir padres no deseados\n",
    "                                                                                                                                            )\n",
    "                                                                                                                                        )])\n",
    "                    else:\n",
    "                        divs = soup2.find_all(lambda tag: (\n",
    "                                            tag.name == 'div'\n",
    "                                            and 'clearfix' in tag.get('class', [])\n",
    "                                            and any(\n",
    "                                                clase in tag.get('class', [])\n",
    "                                                for clase in [\n",
    "                                                'field--name-field-texto',\n",
    "                                                'field--name-field-entradilla'\n",
    "                                                ]\n",
    "                                            )\n",
    "                                            and not tag.find('mark', class_='hl_yellow')\n",
    "                                            and not tag.find('h2')\n",
    "                                            and not any(\n",
    "                                                a for a in tag.find_all('a')\n",
    "                                                if (not (a.find(['b', 'strong']) or a.find_parent(['b', 'strong']))\n",
    "                                                and len(tag.get_text(strip=True)) < 200\n",
    "                                                )\n",
    "                                            )\n",
    "                                            and not any(\n",
    "                                                'mira:' in (el.get_text(strip=True).lower())\n",
    "                                                for el in tag.find_all(['b', 'i'])\n",
    "                                            )\n",
    "                                        )\n",
    "                                    )\n",
    "                        body = \"\".join(\"\".join([p.text for p in divs]).split('\\n'))\n",
    "                    distrito = buscar_ordenados(body, distritos_lima)\n",
    "                    departamento = buscar_ordenados(body, departamentos_peru)\n",
    "                    pais = pais_detector(body)\n",
    "                    lista_pais.append(pais)\n",
    "                    lista_url.append(noticia)\n",
    "                    lista_titulo.append(titulo)\n",
    "                    lista_texto.append(body)\n",
    "                    lista_fecha.append(fecha)\n",
    "                    lista_departamento.append(departamento)\n",
    "                    lista_distrito.append(distrito)\n",
    "                except:\n",
    "                    print(f'Error al encontrar metadata de la noticia: No se encontro metadata: {noticia}\\n')\n",
    "            except Exception as e:\n",
    "                print(f\"Error al procesar noticia: {noticia}\\n{e}\")\n",
    "    except Exception as e:\n",
    "        print(f\"Error al cargar la página {pagina}:\\n{e}\")"
   ]
  },
  {
   "cell_type": "code",
   "execution_count": 10,
   "id": "c587e45e",
   "metadata": {},
   "outputs": [],
   "source": [
    "df = pd.DataFrame({\n",
    "    'url': lista_url,\n",
    "    'titulo': lista_titulo,\n",
    "    'texto': lista_texto,\n",
    "    'fecha': lista_fecha,\n",
    "    'distrito': lista_distrito,\n",
    "    'departamento': lista_departamento,\n",
    "    'pais': lista_pais\n",
    "})"
   ]
  },
  {
   "cell_type": "code",
   "execution_count": 11,
   "id": "1aa50b4e",
   "metadata": {},
   "outputs": [
    {
     "data": {
      "text/html": [
       "<div>\n",
       "<style scoped>\n",
       "    .dataframe tbody tr th:only-of-type {\n",
       "        vertical-align: middle;\n",
       "    }\n",
       "\n",
       "    .dataframe tbody tr th {\n",
       "        vertical-align: top;\n",
       "    }\n",
       "\n",
       "    .dataframe thead th {\n",
       "        text-align: right;\n",
       "    }\n",
       "</style>\n",
       "<table border=\"1\" class=\"dataframe\">\n",
       "  <thead>\n",
       "    <tr style=\"text-align: right;\">\n",
       "      <th></th>\n",
       "      <th>url</th>\n",
       "      <th>titulo</th>\n",
       "      <th>texto</th>\n",
       "      <th>fecha</th>\n",
       "      <th>distrito</th>\n",
       "      <th>departamento</th>\n",
       "      <th>pais</th>\n",
       "    </tr>\n",
       "  </thead>\n",
       "  <tbody>\n",
       "    <tr>\n",
       "      <th>0</th>\n",
       "      <td>https://peru21.pe/peru/medios-deberan-tener-fr...</td>\n",
       "      <td>Medios deberán tener 'franja educativa' para a...</td>\n",
       "      <td>El Congreso aprobó la Ley N° 32351, que modifi...</td>\n",
       "      <td>27/05/2025</td>\n",
       "      <td>[Independencia]</td>\n",
       "      <td>[La Libertad]</td>\n",
       "      <td>[\"perú\"]</td>\n",
       "    </tr>\n",
       "    <tr>\n",
       "      <th>1</th>\n",
       "      <td>https://peru21.pe/peru/chiclayo-detienen-profe...</td>\n",
       "      <td>Chiclayo: detienen a profesor por acosar sexua...</td>\n",
       "      <td>La madre de la menor reportó mensajes y fotogr...</td>\n",
       "      <td>16/04/2025</td>\n",
       "      <td>[]</td>\n",
       "      <td>[]</td>\n",
       "      <td>[\"perú\"]</td>\n",
       "    </tr>\n",
       "    <tr>\n",
       "      <th>2</th>\n",
       "      <td>https://peru21.pe/lima/miraflores-sujeto-que-h...</td>\n",
       "      <td>Miraflores: Sujeto violento que hirió con fuen...</td>\n",
       "      <td>Jueza Susana Quispe, del Cuarto Juzgado de Inv...</td>\n",
       "      <td>26/03/2025</td>\n",
       "      <td>[Lima, Miraflores]</td>\n",
       "      <td>[Lima]</td>\n",
       "      <td>[\"perú\"]</td>\n",
       "    </tr>\n",
       "    <tr>\n",
       "      <th>3</th>\n",
       "      <td>https://peru21.pe/lima/atacante-de-miraflores-...</td>\n",
       "      <td>Atacante de Miraflores también agredió a su ex...</td>\n",
       "      <td>Julio Diego Aurelio Solari Zapata fue denuncia...</td>\n",
       "      <td>24/03/2025</td>\n",
       "      <td>[Miraflores, San Isidro]</td>\n",
       "      <td>[]</td>\n",
       "      <td>[\"perú\"]</td>\n",
       "    </tr>\n",
       "    <tr>\n",
       "      <th>4</th>\n",
       "      <td>https://peru21.pe/mundo/la-senal-de-auxilio-gl...</td>\n",
       "      <td>La señal de auxilio global que puede salvar la...</td>\n",
       "      <td>El sencillo gesto de abrir la palma de la mano...</td>\n",
       "      <td>20/02/2025</td>\n",
       "      <td>[]</td>\n",
       "      <td>[]</td>\n",
       "      <td>[\"canadá\", \"méxico\", \"estados unidos\", \"perú\"]</td>\n",
       "    </tr>\n",
       "    <tr>\n",
       "      <th>...</th>\n",
       "      <td>...</td>\n",
       "      <td>...</td>\n",
       "      <td>...</td>\n",
       "      <td>...</td>\n",
       "      <td>...</td>\n",
       "      <td>...</td>\n",
       "      <td>...</td>\n",
       "    </tr>\n",
       "    <tr>\n",
       "      <th>494</th>\n",
       "      <td>https://peru21.pe/lima/peru-ocupa-segundo-luga...</td>\n",
       "      <td>El Perú ocupa el segundo lugar en feminicidios...</td>\n",
       "      <td>Informe de la Comisión Económica para América ...</td>\n",
       "      <td>26/08/2019</td>\n",
       "      <td>[]</td>\n",
       "      <td>[]</td>\n",
       "      <td>[\"perú\", \"colombia\", \"república dominicana\", \"...</td>\n",
       "    </tr>\n",
       "    <tr>\n",
       "      <th>495</th>\n",
       "      <td>https://peru21.pe/espectaculos/reimond-manco-a...</td>\n",
       "      <td>Reimond Manco es acusado por su expareja de ha...</td>\n",
       "      <td>Fiorella Alzamora respondió al jugador del UTC...</td>\n",
       "      <td>26/08/2019</td>\n",
       "      <td>[]</td>\n",
       "      <td>[Cajamarca]</td>\n",
       "      <td>[]</td>\n",
       "    </tr>\n",
       "    <tr>\n",
       "      <th>496</th>\n",
       "      <td>https://peru21.pe/mundo/india-adolescente-cond...</td>\n",
       "      <td>India: Adolescente condenada a lamer escupitaj...</td>\n",
       "      <td>El cadáver desnudo de la joven de 16 años apar...</td>\n",
       "      <td>26/08/2019</td>\n",
       "      <td>[]</td>\n",
       "      <td>[]</td>\n",
       "      <td>[\"india\"]</td>\n",
       "    </tr>\n",
       "    <tr>\n",
       "      <th>497</th>\n",
       "      <td>https://peru21.pe/mundo/bolivia-sujeto-le-arra...</td>\n",
       "      <td>Bolivia: Sujeto le arrancó de un mordisco el l...</td>\n",
       "      <td>La Policía inició una intensa búsqueda para da...</td>\n",
       "      <td>26/08/2019</td>\n",
       "      <td>[]</td>\n",
       "      <td>[]</td>\n",
       "      <td>[\"bolivia\"]</td>\n",
       "    </tr>\n",
       "    <tr>\n",
       "      <th>498</th>\n",
       "      <td>https://peru21.pe/lima/peru-siete-diez-mujeres...</td>\n",
       "      <td>Perú: Siete de cada diez mujeres han sufrido m...</td>\n",
       "      <td>Según el Ministerio de la Mujer, del total de ...</td>\n",
       "      <td>26/08/2019</td>\n",
       "      <td>[]</td>\n",
       "      <td>[]</td>\n",
       "      <td>[\"perú\"]</td>\n",
       "    </tr>\n",
       "  </tbody>\n",
       "</table>\n",
       "<p>499 rows × 7 columns</p>\n",
       "</div>"
      ],
      "text/plain": [
       "                                                   url  \\\n",
       "0    https://peru21.pe/peru/medios-deberan-tener-fr...   \n",
       "1    https://peru21.pe/peru/chiclayo-detienen-profe...   \n",
       "2    https://peru21.pe/lima/miraflores-sujeto-que-h...   \n",
       "3    https://peru21.pe/lima/atacante-de-miraflores-...   \n",
       "4    https://peru21.pe/mundo/la-senal-de-auxilio-gl...   \n",
       "..                                                 ...   \n",
       "494  https://peru21.pe/lima/peru-ocupa-segundo-luga...   \n",
       "495  https://peru21.pe/espectaculos/reimond-manco-a...   \n",
       "496  https://peru21.pe/mundo/india-adolescente-cond...   \n",
       "497  https://peru21.pe/mundo/bolivia-sujeto-le-arra...   \n",
       "498  https://peru21.pe/lima/peru-siete-diez-mujeres...   \n",
       "\n",
       "                                                titulo  \\\n",
       "0    Medios deberán tener 'franja educativa' para a...   \n",
       "1    Chiclayo: detienen a profesor por acosar sexua...   \n",
       "2    Miraflores: Sujeto violento que hirió con fuen...   \n",
       "3    Atacante de Miraflores también agredió a su ex...   \n",
       "4    La señal de auxilio global que puede salvar la...   \n",
       "..                                                 ...   \n",
       "494  El Perú ocupa el segundo lugar en feminicidios...   \n",
       "495  Reimond Manco es acusado por su expareja de ha...   \n",
       "496  India: Adolescente condenada a lamer escupitaj...   \n",
       "497  Bolivia: Sujeto le arrancó de un mordisco el l...   \n",
       "498  Perú: Siete de cada diez mujeres han sufrido m...   \n",
       "\n",
       "                                                 texto       fecha  \\\n",
       "0    El Congreso aprobó la Ley N° 32351, que modifi...  27/05/2025   \n",
       "1    La madre de la menor reportó mensajes y fotogr...  16/04/2025   \n",
       "2    Jueza Susana Quispe, del Cuarto Juzgado de Inv...  26/03/2025   \n",
       "3    Julio Diego Aurelio Solari Zapata fue denuncia...  24/03/2025   \n",
       "4    El sencillo gesto de abrir la palma de la mano...  20/02/2025   \n",
       "..                                                 ...         ...   \n",
       "494  Informe de la Comisión Económica para América ...  26/08/2019   \n",
       "495  Fiorella Alzamora respondió al jugador del UTC...  26/08/2019   \n",
       "496  El cadáver desnudo de la joven de 16 años apar...  26/08/2019   \n",
       "497  La Policía inició una intensa búsqueda para da...  26/08/2019   \n",
       "498  Según el Ministerio de la Mujer, del total de ...  26/08/2019   \n",
       "\n",
       "                     distrito   departamento  \\\n",
       "0             [Independencia]  [La Libertad]   \n",
       "1                          []             []   \n",
       "2          [Lima, Miraflores]         [Lima]   \n",
       "3    [Miraflores, San Isidro]             []   \n",
       "4                          []             []   \n",
       "..                        ...            ...   \n",
       "494                        []             []   \n",
       "495                        []    [Cajamarca]   \n",
       "496                        []             []   \n",
       "497                        []             []   \n",
       "498                        []             []   \n",
       "\n",
       "                                                  pais  \n",
       "0                                             [\"perú\"]  \n",
       "1                                             [\"perú\"]  \n",
       "2                                             [\"perú\"]  \n",
       "3                                             [\"perú\"]  \n",
       "4       [\"canadá\", \"méxico\", \"estados unidos\", \"perú\"]  \n",
       "..                                                 ...  \n",
       "494  [\"perú\", \"colombia\", \"república dominicana\", \"...  \n",
       "495                                                 []  \n",
       "496                                          [\"india\"]  \n",
       "497                                        [\"bolivia\"]  \n",
       "498                                           [\"perú\"]  \n",
       "\n",
       "[499 rows x 7 columns]"
      ]
     },
     "execution_count": 11,
     "metadata": {},
     "output_type": "execute_result"
    }
   ],
   "source": [
    "df"
   ]
  },
  {
   "cell_type": "code",
   "execution_count": 12,
   "id": "3cf8f339",
   "metadata": {},
   "outputs": [],
   "source": [
    "df.to_excel('Noticias_Correo21.xlsx')"
   ]
  }
 ],
 "metadata": {
  "kernelspec": {
   "display_name": "base",
   "language": "python",
   "name": "python3"
  },
  "language_info": {
   "codemirror_mode": {
    "name": "ipython",
    "version": 3
   },
   "file_extension": ".py",
   "mimetype": "text/x-python",
   "name": "python",
   "nbconvert_exporter": "python",
   "pygments_lexer": "ipython3",
   "version": "3.12.7"
  }
 },
 "nbformat": 4,
 "nbformat_minor": 5
}
