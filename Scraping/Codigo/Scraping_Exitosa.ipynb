{
 "cells": [
  {
   "cell_type": "code",
   "execution_count": 1,
   "id": "382d9d01",
   "metadata": {},
   "outputs": [],
   "source": [
    "import pandas as pd \n",
    "import os\n",
    "import requests as rq\n",
    "from bs4 import BeautifulSoup as bs\n",
    "import re\n",
    "import textwrap\n",
    "from langchain_openai import ChatOpenAI\n",
    "from langchain.prompts import ChatPromptTemplate\n",
    "from datetime import datetime\n",
    "from tqdm import tqdm\n",
    "import warnings\n",
    "warnings.filterwarnings(\"ignore\")"
   ]
  },
  {
   "cell_type": "code",
   "execution_count": 2,
   "id": "49d47f7d",
   "metadata": {},
   "outputs": [],
   "source": [
    "headers = {\n",
    "    \"User-Agent\": \"Mozilla/5.0 (Windows NT 10.0; Win64; x64) AppleWebKit/537.36 Chrome/114.0.0.0 Safari/537.36\"\n",
    "}"
   ]
  },
  {
   "cell_type": "code",
   "execution_count": 3,
   "id": "d9b5b509",
   "metadata": {},
   "outputs": [],
   "source": [
    "with open(\"APPI OPENAI.txt\") as archivo:\n",
    "  apikey_openai = archivo.read()\n",
    "os.environ[\"OPENAI_API_KEY\"] = apikey_openai"
   ]
  },
  {
   "cell_type": "code",
   "execution_count": 4,
   "id": "e32ad8d0",
   "metadata": {},
   "outputs": [],
   "source": [
    "distritos_lima = [\n",
    "    \"Ancón\",\n",
    "    \"Ate\",\n",
    "    \"Barranco\",\n",
    "    \"Breña\",\n",
    "    \"Carabayllo\",\n",
    "    \"Chaclacayo\",\n",
    "    \"Chorrillos\",\n",
    "    \"Cieneguilla\",\n",
    "    \"Comas\",\n",
    "    \"El Agustino\",\n",
    "    \"Independencia\",\n",
    "    \"Jesús María\",\n",
    "    \"La Molina\",\n",
    "    \"La Victoria\",\n",
    "    \"Lince\",\n",
    "    \"Los Olivos\",\n",
    "    \"Lurigancho\",\n",
    "    \"Lurín\",\n",
    "    \"Magdalena del Mar\",\n",
    "    \"Miraflores\",\n",
    "    \"Pachacámac\",\n",
    "    \"Pucusana\",\n",
    "    \"Pueblo Libre\",\n",
    "    \"Puente Piedra\",\n",
    "    \"Punta Hermosa\",\n",
    "    \"Punta Negra\",\n",
    "    \"Rímac\",\n",
    "    \"San Bartolo\",\n",
    "    \"San Borja\",\n",
    "    \"San Isidro\",\n",
    "    \"San Juan de Lurigancho\",\n",
    "    \"San Juan de Miraflores\",\n",
    "    \"San Luis\",\n",
    "    \"San Martín de Porres\",\n",
    "    \"San Miguel\",\n",
    "    \"Santa Anita\",\n",
    "    \"Santa María del Mar\",\n",
    "    \"Santa Rosa\",\n",
    "    \"Santiago de Surco\",\n",
    "    \"Surquillo\",\n",
    "    \"Villa El Salvador\",\n",
    "    \"Villa María del Triunfo\"\n",
    "]\n"
   ]
  },
  {
   "cell_type": "code",
   "execution_count": 5,
   "id": "648db12b",
   "metadata": {},
   "outputs": [],
   "source": [
    "departamentos_peru = [\n",
    "    \"Amazonas\",\n",
    "    \"Áncash\",\n",
    "    \"Apurímac\",\n",
    "    \"Arequipa\",\n",
    "    \"Ayacucho\",\n",
    "    \"Cajamarca\",\n",
    "    \"Callao\", \n",
    "    \"Cusco\",\n",
    "    \"Huancavelica\",\n",
    "    \"Huánuco\",\n",
    "    \"Ica\",\n",
    "    \"Junín\",\n",
    "    \"La Libertad\",\n",
    "    \"Lambayeque\",\n",
    "    \"Lima\",\n",
    "    \"Loreto\",\n",
    "    \"Madre de Dios\",\n",
    "    \"Moquegua\",\n",
    "    \"Pasco\",\n",
    "    \"Piura\",\n",
    "    \"Puno\",\n",
    "    \"San Martín\",\n",
    "    \"Tacna\",\n",
    "    \"Tumbes\",\n",
    "    \"Ucayali\"\n",
    "]\n"
   ]
  },
  {
   "cell_type": "code",
   "execution_count": 6,
   "id": "e04681ce",
   "metadata": {},
   "outputs": [],
   "source": [
    "prompt_pais = ChatPromptTemplate.from_messages([\n",
    "    (\"system\", \"\"\"Tu tarea es identificar el o los países mencionados en una noticia.\n",
    "Responde únicamente con una lista de nombres de países:\n",
    "- Si se menciona un solo país, devuélvelo en una lista con un solo elemento.\n",
    "- Si se mencionan varios países, devuélvelos todos en una lista.\n",
    "- Si no se menciona ningún país, devuelve una lista vacía.\n",
    "No des explicaciones ni añadas texto adicional. Solo responde con la lista de países.\"\"\"),\n",
    "    (\"human\", \"{input}\")\n",
    "])"
   ]
  },
  {
   "cell_type": "code",
   "execution_count": 7,
   "id": "a95f74de",
   "metadata": {},
   "outputs": [],
   "source": [
    "llm = ChatOpenAI(\n",
    "    temperature=0,\n",
    "    model=\"gpt-4\")\n",
    "\n",
    "def pais_detector(texto: str) -> list:\n",
    "    respuesta = llm.invoke(prompt_pais.format_messages(input=texto)).content.strip().lower()\n",
    "    return respuesta\n",
    "\n",
    "def buscar_ordenados(texto, lista):\n",
    "    texto_lower = texto.lower()\n",
    "    encontrados = []\n",
    "    for lugar in lista:\n",
    "        patron = r'\\b' + re.escape(lugar.lower()) + r'\\b'\n",
    "        match = re.search(patron, texto_lower)\n",
    "        if match:\n",
    "            encontrados.append((lugar, match.start()))  \n",
    "    encontrados.sort(key=lambda x: x[1])\n",
    "    return [nombre for nombre, _ in encontrados]"
   ]
  },
  {
   "cell_type": "code",
   "execution_count": 8,
   "id": "9e4f9b4e",
   "metadata": {},
   "outputs": [],
   "source": [
    "lista_url = []\n",
    "lista_titulo = []\n",
    "lista_texto = []\n",
    "lista_fecha = []\n",
    "lista_distrito = []\n",
    "lista_departamento = []\n",
    "lista_pais = []"
   ]
  },
  {
   "cell_type": "code",
   "execution_count": 9,
   "id": "7d4691d7",
   "metadata": {},
   "outputs": [
    {
     "name": "stderr",
     "output_type": "stream",
     "text": [
      "100%|██████████| 15/15 [00:38<00:00,  2.56s/it]\n",
      "100%|██████████| 15/15 [00:30<00:00,  2.01s/it]\n",
      "100%|██████████| 15/15 [00:31<00:00,  2.09s/it]\n",
      "100%|██████████| 10/10 [00:20<00:00,  2.04s/it]\n",
      "0it [00:00, ?it/s]/9 [02:04<02:23, 28.77s/it]\n",
      "0it [00:00, ?it/s]/9 [02:05<01:14, 18.60s/it]\n",
      "0it [00:00, ?it/s]/9 [02:05<00:37, 12.50s/it]\n",
      "0it [00:00, ?it/s]/9 [02:06<00:17,  8.73s/it]\n",
      "0it [00:00, ?it/s]/9 [02:07<00:06,  6.17s/it]\n",
      "100%|██████████| 9/9 [02:08<00:00, 14.30s/it]\n"
     ]
    }
   ],
   "source": [
    "for pagina in tqdm(range(1,10)):\n",
    "    url = f'https://www.exitosanoticias.pe/search?q=feminicidio&p={pagina}'\n",
    "    try: \n",
    "        html = rq.get(url,headers=headers).content.decode(\"latin-1\")\n",
    "        soup = bs(html) #creamos nuestro arbol\n",
    "        enlaces_raw = soup.find_all('h2')\n",
    "        links = [link.find('a').get('href') for link in enlaces_raw if 'href' in link.find('a').attrs ]\n",
    "        for noticia in tqdm(links): \n",
    "            try:\n",
    "                soup2 = bs(rq.get(noticia, headers=headers).content.decode(\"latin-1\")) \n",
    "                try:\n",
    "                    titulo = soup2.find_all(\"h1\")[0].text\n",
    "                    fecha = \"/\".join(list((re.findall(r\"(\\d{2})[/-](\\d{2})[/-](\\d{4})\",soup2.find('p',class_= 'miga').text))[0]))\n",
    "                    body = \"\".join([p.text for p in soup2.find('article',{'class':'content'}).find_all('p')])\n",
    "                    try:\n",
    "                        resumen = soup2.find_all(\"h2\")[0].text\n",
    "                        body = resumen + ' ' + body\n",
    "                    except:\n",
    "                        pass\n",
    "                    body2 = titulo  + ' ' + body\n",
    "                    distrito = buscar_ordenados(body2, distritos_lima)\n",
    "                    departamento = buscar_ordenados(body2, departamentos_peru)\n",
    "                    pais = pais_detector(body)\n",
    "                    lista_pais.append(pais)\n",
    "                    lista_url.append(noticia)\n",
    "                    lista_titulo.append(titulo)\n",
    "                    lista_texto.append(body)\n",
    "                    lista_fecha.append(fecha)\n",
    "                    lista_departamento.append(departamento)\n",
    "                    lista_distrito.append(distrito)\n",
    "                except:\n",
    "                    print(f'Error al encontrar metadata de la noticia: No se encontro metadata: {noticia}\\n')\n",
    "            except Exception as e:\n",
    "                print(f\"Error al procesar noticia: {noticia}\\n{e}\")\n",
    "    except Exception as e:\n",
    "        print(f\"Error al cargar la página {pagina}:\\n{e}\")"
   ]
  },
  {
   "cell_type": "code",
   "execution_count": 10,
   "id": "d4dc93eb",
   "metadata": {},
   "outputs": [],
   "source": [
    "df = pd.DataFrame({\n",
    "    'url': lista_url,\n",
    "    'titulo': lista_titulo,\n",
    "    'texto': lista_texto,\n",
    "    'fecha': lista_fecha,\n",
    "    'distrito': lista_distrito,\n",
    "    'departamento': lista_departamento,\n",
    "    'pais': lista_pais})"
   ]
  },
  {
   "cell_type": "code",
   "execution_count": 11,
   "id": "436ddbc7",
   "metadata": {},
   "outputs": [],
   "source": [
    "df.to_excel('Noticias_Exitosa.xlsx',index=False)"
   ]
  }
 ],
 "metadata": {
  "kernelspec": {
   "display_name": "base",
   "language": "python",
   "name": "python3"
  },
  "language_info": {
   "codemirror_mode": {
    "name": "ipython",
    "version": 3
   },
   "file_extension": ".py",
   "mimetype": "text/x-python",
   "name": "python",
   "nbconvert_exporter": "python",
   "pygments_lexer": "ipython3",
   "version": "3.12.7"
  }
 },
 "nbformat": 4,
 "nbformat_minor": 5
}
