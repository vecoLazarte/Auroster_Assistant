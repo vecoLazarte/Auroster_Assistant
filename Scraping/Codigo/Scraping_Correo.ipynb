{
 "cells": [
  {
   "cell_type": "code",
   "execution_count": 1,
   "id": "4decbed3",
   "metadata": {},
   "outputs": [],
   "source": [
    "import pandas as pd \n",
    "import os\n",
    "import requests as rq\n",
    "from bs4 import BeautifulSoup as bs\n",
    "import re\n",
    "import textwrap\n",
    "from langchain_openai import ChatOpenAI\n",
    "from langchain.prompts import ChatPromptTemplate\n",
    "from datetime import datetime\n",
    "from tqdm import tqdm\n",
    "import warnings\n",
    "warnings.filterwarnings(\"ignore\")"
   ]
  },
  {
   "cell_type": "markdown",
   "id": "ac0bd939",
   "metadata": {},
   "source": [
    "### Correo"
   ]
  },
  {
   "cell_type": "code",
   "execution_count": 2,
   "id": "a64c68ed",
   "metadata": {},
   "outputs": [],
   "source": [
    "headers = {\n",
    "    \"User-Agent\": \"Mozilla/5.0 (Windows NT 10.0; Win64; x64) AppleWebKit/537.36 Chrome/114.0.0.0 Safari/537.36\"\n",
    "}"
   ]
  },
  {
   "cell_type": "code",
   "execution_count": 3,
   "id": "c8037984",
   "metadata": {},
   "outputs": [],
   "source": [
    "with open(\"APPI OPENAI.txt\") as archivo:\n",
    "  apikey_openai = archivo.read()\n",
    "os.environ[\"OPENAI_API_KEY\"] = apikey_openai"
   ]
  },
  {
   "cell_type": "code",
   "execution_count": 4,
   "id": "347527af",
   "metadata": {},
   "outputs": [],
   "source": [
    "distritos_lima = [\n",
    "    \"Ancón\",\n",
    "    \"Ate\",\n",
    "    \"Barranco\",\n",
    "    \"Breña\",\n",
    "    \"Carabayllo\",\n",
    "    \"Chaclacayo\",\n",
    "    \"Chorrillos\",\n",
    "    \"Cieneguilla\",\n",
    "    \"Comas\",\n",
    "    \"El Agustino\",\n",
    "    \"Independencia\",\n",
    "    \"Jesús María\",\n",
    "    \"La Molina\",\n",
    "    \"La Victoria\",\n",
    "    \"Lince\",\n",
    "    \"Los Olivos\",\n",
    "    \"Lurigancho\",\n",
    "    \"Lurín\",\n",
    "    \"Magdalena del Mar\",\n",
    "    \"Miraflores\",\n",
    "    \"Pachacámac\",\n",
    "    \"Pucusana\",\n",
    "    \"Pueblo Libre\",\n",
    "    \"Puente Piedra\",\n",
    "    \"Punta Hermosa\",\n",
    "    \"Punta Negra\",\n",
    "    \"Rímac\",\n",
    "    \"San Bartolo\",\n",
    "    \"San Borja\",\n",
    "    \"San Isidro\",\n",
    "    \"San Juan de Lurigancho\",\n",
    "    \"San Juan de Miraflores\",\n",
    "    \"San Luis\",\n",
    "    \"San Martín de Porres\",\n",
    "    \"San Miguel\",\n",
    "    \"Santa Anita\",\n",
    "    \"Santa María del Mar\",\n",
    "    \"Santa Rosa\",\n",
    "    \"Santiago de Surco\",\n",
    "    \"Surquillo\",\n",
    "    \"Villa El Salvador\",\n",
    "    \"Villa María del Triunfo\"\n",
    "]\n"
   ]
  },
  {
   "cell_type": "code",
   "execution_count": 5,
   "id": "260c0dd5",
   "metadata": {},
   "outputs": [],
   "source": [
    "departamentos_peru = [\n",
    "    \"Amazonas\",\n",
    "    \"Áncash\",\n",
    "    \"Apurímac\",\n",
    "    \"Arequipa\",\n",
    "    \"Ayacucho\",\n",
    "    \"Cajamarca\",\n",
    "    \"Callao\", \n",
    "    \"Cusco\",\n",
    "    \"Huancavelica\",\n",
    "    \"Huánuco\",\n",
    "    \"Ica\",\n",
    "    \"Junín\",\n",
    "    \"La Libertad\",\n",
    "    \"Lambayeque\",\n",
    "    \"Lima\",\n",
    "    \"Loreto\",\n",
    "    \"Madre de Dios\",\n",
    "    \"Moquegua\",\n",
    "    \"Pasco\",\n",
    "    \"Piura\",\n",
    "    \"Puno\",\n",
    "    \"San Martín\",\n",
    "    \"Tacna\",\n",
    "    \"Tumbes\",\n",
    "    \"Ucayali\"\n",
    "]\n"
   ]
  },
  {
   "cell_type": "code",
   "execution_count": 6,
   "id": "0a208548",
   "metadata": {},
   "outputs": [],
   "source": [
    "prompt_pais = ChatPromptTemplate.from_messages([\n",
    "    (\"system\", \"\"\"Tu tarea es identificar el o los países mencionados en una noticia.\n",
    "Responde únicamente con una lista de nombres de países:\n",
    "- Si se menciona un solo país, devuélvelo en una lista con un solo elemento.\n",
    "- Si se mencionan varios países, devuélvelos todos en una lista.\n",
    "- Si no se menciona ningún país, devuelve una lista vacía.\n",
    "No des explicaciones ni añadas texto adicional. Solo responde con la lista de países.\"\"\"),\n",
    "    (\"human\", \"{input}\")\n",
    "])"
   ]
  },
  {
   "cell_type": "code",
   "execution_count": 7,
   "id": "07307a1a",
   "metadata": {},
   "outputs": [],
   "source": [
    "llm = ChatOpenAI(\n",
    "    temperature=0,\n",
    "    model=\"gpt-4\")\n",
    "\n",
    "def pais_detector(texto: str) -> list:\n",
    "    respuesta = llm.invoke(prompt_pais.format_messages(input=texto)).content.strip().lower()\n",
    "    return respuesta\n",
    "\n",
    "def buscar_ordenados(texto, lista):\n",
    "    texto_lower = texto.lower()\n",
    "    encontrados = []\n",
    "    for lugar in lista:\n",
    "        patron = r'\\b' + re.escape(lugar.lower()) + r'\\b'\n",
    "        match = re.search(patron, texto_lower)\n",
    "        if match:\n",
    "            encontrados.append((lugar, match.start()))  \n",
    "    encontrados.sort(key=lambda x: x[1])\n",
    "    return [nombre for nombre, _ in encontrados]"
   ]
  },
  {
   "cell_type": "code",
   "execution_count": 8,
   "id": "73d24069",
   "metadata": {},
   "outputs": [],
   "source": [
    "lista_url = []\n",
    "lista_titulo = []\n",
    "lista_texto = []\n",
    "lista_fecha = []\n",
    "lista_distrito = []\n",
    "lista_departamento = []\n",
    "lista_pais = []"
   ]
  },
  {
   "cell_type": "code",
   "execution_count": 9,
   "id": "fc0b6aeb",
   "metadata": {},
   "outputs": [
    {
     "name": "stderr",
     "output_type": "stream",
     "text": [
      "100%|██████████| 30/30 [01:05<00:00,  2.17s/it]\n",
      "100%|██████████| 30/30 [00:59<00:00,  1.98s/it]\n",
      " 11%|█         | 2/19 [02:07<17:59, 63.48s/it]"
     ]
    },
    {
     "name": "stdout",
     "output_type": "stream",
     "text": [
      "Error al encontrar metadata de la noticia: No se encontro metadata: https://diariocorreo.pe/videos/actualidad/surco-roban-celulares-a-mujer-en-puerta-de-condominio-delincuente-asalto-robo-noticia/\n",
      "\n"
     ]
    },
    {
     "name": "stderr",
     "output_type": "stream",
     "text": [
      "100%|██████████| 30/30 [01:04<00:00,  2.15s/it]\n",
      " 16%|█▌        | 3/19 [03:14<17:14, 64.69s/it]"
     ]
    },
    {
     "name": "stdout",
     "output_type": "stream",
     "text": [
      "Error al encontrar metadata de la noticia: No se encontro metadata: https://diariocorreo.pe/edicion/piura/piura-condenan-a-sujeto-a-14-meses-por-agresion-a-una-mujer-noticia/\n",
      "\n"
     ]
    },
    {
     "name": "stderr",
     "output_type": "stream",
     "text": [
      "100%|██████████| 30/30 [01:07<00:00,  2.26s/it]\n",
      " 21%|██        | 4/19 [04:23<16:38, 66.60s/it]"
     ]
    },
    {
     "name": "stdout",
     "output_type": "stream",
     "text": [
      "Error al encontrar metadata de la noticia: No se encontro metadata: https://diariocorreo.pe/videos/actualidad/comas-mujer-simula-comprar-a-una-ambulante-y-le-roba-celular-video-delincuencia-vendedora-noticia/\n",
      "\n"
     ]
    },
    {
     "name": "stderr",
     "output_type": "stream",
     "text": [
      "100%|██████████| 30/30 [01:01<00:00,  2.06s/it]\n",
      "100%|██████████| 30/30 [01:00<00:00,  2.03s/it]\n",
      "100%|██████████| 30/30 [01:00<00:00,  2.02s/it]\n",
      "100%|██████████| 30/30 [01:02<00:00,  2.09s/it]\n",
      " 42%|████▏     | 8/19 [08:36<11:42, 63.85s/it]"
     ]
    },
    {
     "name": "stdout",
     "output_type": "stream",
     "text": [
      "Error al encontrar metadata de la noticia: No se encontro metadata: https://diariocorreo.pe/videos/actualidad/mujer-se-enfrenta-a-ladrones-armados-en-tingo-maria-video-noticia/\n",
      "\n"
     ]
    },
    {
     "name": "stderr",
     "output_type": "stream",
     "text": [
      "100%|██████████| 30/30 [01:20<00:00,  2.68s/it]\n",
      "100%|██████████| 30/30 [01:08<00:00,  2.29s/it]\n",
      " 53%|█████▎    | 10/19 [11:08<10:28, 69.80s/it]"
     ]
    },
    {
     "name": "stdout",
     "output_type": "stream",
     "text": [
      "Error al encontrar metadata de la noticia: No se encontro metadata: https://diariocorreo.pe/videos/mundo/mujer-en-espana-fue-rescatada-con-sus-mascotas-tras-quedar-atrapada-en-su-casa-inundada-video-valencia-noticia/\n",
      "\n"
     ]
    },
    {
     "name": "stderr",
     "output_type": "stream",
     "text": [
      "100%|██████████| 30/30 [01:00<00:00,  2.03s/it]\n",
      " 58%|█████▊    | 11/19 [12:11<09:00, 67.61s/it]"
     ]
    },
    {
     "name": "stdout",
     "output_type": "stream",
     "text": [
      "Error al encontrar metadata de la noticia: No se encontro metadata: https://diariocorreo.pe/videos/actualidad/lurin-hallan-cadaver-de-una-mujer-en-la-orilla-de-la-playa-conchan-video-noticia/\n",
      "\n"
     ]
    },
    {
     "name": "stderr",
     "output_type": "stream",
     "text": []
    },
    {
     "name": "stdout",
     "output_type": "stream",
     "text": [
      "Error al encontrar metadata de la noticia: No se encontro metadata: https://diariocorreo.pe/videos/actualidad/lince-mujer-fallecio-tras-someterse-a-lipotransferencia-en-clinica-clandestina-video-noticia/\n",
      "\n"
     ]
    },
    {
     "name": "stderr",
     "output_type": "stream",
     "text": []
    },
    {
     "name": "stdout",
     "output_type": "stream",
     "text": [
      "Error al encontrar metadata de la noticia: No se encontro metadata: https://diariocorreo.pe/videos/actualidad/arequipa-mujer-agrede-a-trabajadores-de-municipio-en-camana-y-es-detenida-video-noticia/\n",
      "\n"
     ]
    },
    {
     "name": "stderr",
     "output_type": "stream",
     "text": [
      "100%|██████████| 30/30 [01:02<00:00,  2.07s/it]\n",
      "100%|██████████| 30/30 [01:04<00:00,  2.16s/it]\n",
      "100%|██████████| 30/30 [01:03<00:00,  2.11s/it]\n",
      " 74%|███████▎  | 14/19 [15:26<05:29, 65.96s/it]"
     ]
    },
    {
     "name": "stdout",
     "output_type": "stream",
     "text": [
      "Error al encontrar metadata de la noticia: No se encontro metadata: https://diariocorreo.pe/videos/actualidad/mujer-pierde-la-vida-tras-ser-estrangulada-por-su-pareja-en-huaura-video-peru-lima-pnp-feminicidio-noticia/\n",
      "\n"
     ]
    },
    {
     "name": "stderr",
     "output_type": "stream",
     "text": []
    },
    {
     "name": "stdout",
     "output_type": "stream",
     "text": [
      "Error al encontrar metadata de la noticia: No se encontro metadata: https://diariocorreo.pe/videos/actualidad/la-libertad-mujer-pierde-la-vida-a-manos-de-su-expareja-mientras-dormia-en-su-vivienda-video-peru-pnp-feminicidio-noticia/\n",
      "\n"
     ]
    },
    {
     "name": "stderr",
     "output_type": "stream",
     "text": []
    },
    {
     "name": "stdout",
     "output_type": "stream",
     "text": [
      "Error al encontrar metadata de la noticia: No se encontro metadata: https://diariocorreo.pe\n",
      "\n"
     ]
    },
    {
     "name": "stderr",
     "output_type": "stream",
     "text": []
    },
    {
     "name": "stdout",
     "output_type": "stream",
     "text": [
      "Error al encontrar metadata de la noticia: No se encontro metadata: https://diariocorreo.pe\n",
      "\n"
     ]
    },
    {
     "name": "stderr",
     "output_type": "stream",
     "text": [
      "100%|██████████| 20/20 [00:38<00:00,  1.95s/it]\n",
      "0it [00:00, ?it/s]5/19 [16:06<03:53, 58.29s/it]\n",
      "0it [00:00, ?it/s]6/19 [16:08<02:03, 41.25s/it]\n",
      "0it [00:00, ?it/s]7/19 [16:10<00:58, 29.40s/it]\n",
      "0it [00:00, ?it/s]8/19 [16:11<00:20, 21.00s/it]\n",
      "100%|██████████| 19/19 [16:13<00:00, 51.23s/it]\n"
     ]
    }
   ],
   "source": [
    "for pagina in tqdm(range(1,20)):\n",
    "    url = f'https://diariocorreo.pe/buscar/mujer/todas/descendiente/{pagina}/'\n",
    "    try: \n",
    "        html = rq.get(url,headers=headers).content.decode(\"utf-8\")\n",
    "        soup = bs(html) #creamos nuestro arbol\n",
    "        enlaces_raw = soup.find_all('a',{'itemprop':'url','class':'story-item__title block overflow-hidden primary-font line-h-xs mt-10'})\n",
    "        links = ['https://diariocorreo.pe'+ link.get('href') for link in enlaces_raw if 'href' in link.attrs ] \n",
    "        for noticia in tqdm(links): \n",
    "            try:\n",
    "                soup2 = bs(rq.get(noticia, headers=headers).content.decode(\"utf-8\")) \n",
    "                try:\n",
    "                    titulo = soup2.find_all(\"h1\")[0].text\n",
    "                    fecha = \"/\".join(list((re.findall(r\"(\\d{2})[/-](\\d{2})[/-](\\d{4})\",soup2.find_all('time')[0].text))[0]))\n",
    "                    body = \" \".join([p.text for p in soup2.find_all(\"div\", class_=\"story-contents__content\")[0].find_all('p')])\n",
    "                    body2 = titulo  + ' ' + body\n",
    "                    distrito = buscar_ordenados(body2, distritos_lima)\n",
    "                    departamento = buscar_ordenados(body2, departamentos_peru)\n",
    "                    pais = pais_detector(body)\n",
    "                    lista_pais.append(pais)\n",
    "                    lista_url.append(noticia)\n",
    "                    lista_titulo.append(titulo)\n",
    "                    lista_texto.append(body)\n",
    "                    lista_fecha.append(fecha)\n",
    "                    lista_departamento.append(departamento)\n",
    "                    lista_distrito.append(distrito)\n",
    "                except:\n",
    "                    print(f'Error al encontrar metadata de la noticia: No se encontro metadata: {noticia}\\n')\n",
    "            except Exception as e:\n",
    "                print(f\"Error al procesar noticia: {noticia}\\n{e}\")\n",
    "    except Exception as e:\n",
    "        print(f\"Error al cargar la página {pagina}:\\n{e}\")"
   ]
  },
  {
   "cell_type": "code",
   "execution_count": 10,
   "id": "be164562",
   "metadata": {},
   "outputs": [],
   "source": [
    "df = pd.DataFrame({\n",
    "    'url': lista_url,\n",
    "    'titulo': lista_titulo,\n",
    "    'texto': lista_texto,\n",
    "    'fecha': lista_fecha,\n",
    "    'distrito': lista_distrito,\n",
    "    'departamento': lista_departamento,\n",
    "    'pais': lista_pais})"
   ]
  },
  {
   "cell_type": "code",
   "execution_count": 11,
   "id": "13d0f4ec",
   "metadata": {},
   "outputs": [
    {
     "data": {
      "text/html": [
       "<div>\n",
       "<style scoped>\n",
       "    .dataframe tbody tr th:only-of-type {\n",
       "        vertical-align: middle;\n",
       "    }\n",
       "\n",
       "    .dataframe tbody tr th {\n",
       "        vertical-align: top;\n",
       "    }\n",
       "\n",
       "    .dataframe thead th {\n",
       "        text-align: right;\n",
       "    }\n",
       "</style>\n",
       "<table border=\"1\" class=\"dataframe\">\n",
       "  <thead>\n",
       "    <tr style=\"text-align: right;\">\n",
       "      <th></th>\n",
       "      <th>url</th>\n",
       "      <th>titulo</th>\n",
       "      <th>texto</th>\n",
       "      <th>fecha</th>\n",
       "      <th>distrito</th>\n",
       "      <th>departamento</th>\n",
       "      <th>pais</th>\n",
       "    </tr>\n",
       "  </thead>\n",
       "  <tbody>\n",
       "    <tr>\n",
       "      <th>0</th>\n",
       "      <td>https://diariocorreo.pe/espectaculos/dona-peta...</td>\n",
       "      <td>Doña Peta le llama la atención a sobrino de Pa...</td>\n",
       "      <td>En varias ocasiones se ha comentado sobre el f...</td>\n",
       "      <td>31/05/2025</td>\n",
       "      <td>[]</td>\n",
       "      <td>[]</td>\n",
       "      <td>[\"perú\", \"argentina\"]</td>\n",
       "    </tr>\n",
       "    <tr>\n",
       "      <th>1</th>\n",
       "      <td>https://diariocorreo.pe/edicion/huanuco/huanuc...</td>\n",
       "      <td>Huánuco: mujer es acuchillada por su expareja ...</td>\n",
       "      <td>Ante la negativa de no querer retomar la relac...</td>\n",
       "      <td>30/05/2025</td>\n",
       "      <td>[]</td>\n",
       "      <td>[Huánuco]</td>\n",
       "      <td>[]</td>\n",
       "    </tr>\n",
       "    <tr>\n",
       "      <th>2</th>\n",
       "      <td>https://diariocorreo.pe/edicion/puno/puno-muje...</td>\n",
       "      <td>Puno: Mujer de 83 años muere atropellada cuand...</td>\n",
       "      <td>Una tragedia enlutó nuevamente las carreteras ...</td>\n",
       "      <td>28/05/2025</td>\n",
       "      <td>[]</td>\n",
       "      <td>[Puno, Cusco]</td>\n",
       "      <td>[\"perú\"]</td>\n",
       "    </tr>\n",
       "    <tr>\n",
       "      <th>3</th>\n",
       "      <td>https://diariocorreo.pe/edicion/puno/puno-dict...</td>\n",
       "      <td>Puno: Dictan prisión preventiva contra mujer i...</td>\n",
       "      <td>El Juzgado de Investigación Preparatoria de C...</td>\n",
       "      <td>27/05/2025</td>\n",
       "      <td>[]</td>\n",
       "      <td>[Puno]</td>\n",
       "      <td>[\"perú\"]</td>\n",
       "    </tr>\n",
       "    <tr>\n",
       "      <th>4</th>\n",
       "      <td>https://diariocorreo.pe/edicion/arequipa/arequ...</td>\n",
       "      <td>Arequipa: Mujer es sospechosa de pepear a admi...</td>\n",
       "      <td>La comerciante Yudy Marlene Valeriano Vilchez ...</td>\n",
       "      <td>26/05/2025</td>\n",
       "      <td>[]</td>\n",
       "      <td>[Arequipa]</td>\n",
       "      <td>[]</td>\n",
       "    </tr>\n",
       "    <tr>\n",
       "      <th>...</th>\n",
       "      <td>...</td>\n",
       "      <td>...</td>\n",
       "      <td>...</td>\n",
       "      <td>...</td>\n",
       "      <td>...</td>\n",
       "      <td>...</td>\n",
       "      <td>...</td>\n",
       "    </tr>\n",
       "    <tr>\n",
       "      <th>423</th>\n",
       "      <td>https://diariocorreo.pe/miscelanea/viral-mujer...</td>\n",
       "      <td>Mujer se convierte en viral de TikTok por su r...</td>\n",
       "      <td>La delincuencia es una constante en las ciudad...</td>\n",
       "      <td>29/04/2022</td>\n",
       "      <td>[]</td>\n",
       "      <td>[]</td>\n",
       "      <td>[\"méxico\"]</td>\n",
       "    </tr>\n",
       "    <tr>\n",
       "      <th>424</th>\n",
       "      <td>https://diariocorreo.pe/edicion/lima/expo-muje...</td>\n",
       "      <td>Expo Mujer inicia ciclo de capacitación para M...</td>\n",
       "      <td>Expo Mujer como parte de su Programa  de Capac...</td>\n",
       "      <td>15/04/2022</td>\n",
       "      <td>[]</td>\n",
       "      <td>[]</td>\n",
       "      <td>[\"perú\"]</td>\n",
       "    </tr>\n",
       "    <tr>\n",
       "      <th>425</th>\n",
       "      <td>https://diariocorreo.pe/edicion/lima/callao-fi...</td>\n",
       "      <td>Callao: filman a joven mujer encabezando atrac...</td>\n",
       "      <td>Cámaras de seguridad registraron el accionar d...</td>\n",
       "      <td>20/01/2022</td>\n",
       "      <td>[]</td>\n",
       "      <td>[Callao]</td>\n",
       "      <td>[\"perú\"]</td>\n",
       "    </tr>\n",
       "    <tr>\n",
       "      <th>426</th>\n",
       "      <td>https://diariocorreo.pe/edicion/lima/el-increi...</td>\n",
       "      <td>Conoce el caso de la mujer “secuestrada” a la ...</td>\n",
       "      <td>Un giro increíble dieron las investigaciones s...</td>\n",
       "      <td>26/10/2021</td>\n",
       "      <td>[San Juan de Lurigancho, Lurigancho]</td>\n",
       "      <td>[La Libertad]</td>\n",
       "      <td>[\"colombia\"]</td>\n",
       "    </tr>\n",
       "    <tr>\n",
       "      <th>427</th>\n",
       "      <td>https://diariocorreo.pe/peru/trujillo-cadaver-...</td>\n",
       "      <td>Trujillo: Cadáver de mujer es hallado con el r...</td>\n",
       "      <td>Pobladores del distrito de Víctor Larco Herrer...</td>\n",
       "      <td>21/05/2020</td>\n",
       "      <td>[]</td>\n",
       "      <td>[]</td>\n",
       "      <td>[\"perú\"]</td>\n",
       "    </tr>\n",
       "  </tbody>\n",
       "</table>\n",
       "<p>428 rows × 7 columns</p>\n",
       "</div>"
      ],
      "text/plain": [
       "                                                   url  \\\n",
       "0    https://diariocorreo.pe/espectaculos/dona-peta...   \n",
       "1    https://diariocorreo.pe/edicion/huanuco/huanuc...   \n",
       "2    https://diariocorreo.pe/edicion/puno/puno-muje...   \n",
       "3    https://diariocorreo.pe/edicion/puno/puno-dict...   \n",
       "4    https://diariocorreo.pe/edicion/arequipa/arequ...   \n",
       "..                                                 ...   \n",
       "423  https://diariocorreo.pe/miscelanea/viral-mujer...   \n",
       "424  https://diariocorreo.pe/edicion/lima/expo-muje...   \n",
       "425  https://diariocorreo.pe/edicion/lima/callao-fi...   \n",
       "426  https://diariocorreo.pe/edicion/lima/el-increi...   \n",
       "427  https://diariocorreo.pe/peru/trujillo-cadaver-...   \n",
       "\n",
       "                                                titulo  \\\n",
       "0    Doña Peta le llama la atención a sobrino de Pa...   \n",
       "1    Huánuco: mujer es acuchillada por su expareja ...   \n",
       "2    Puno: Mujer de 83 años muere atropellada cuand...   \n",
       "3    Puno: Dictan prisión preventiva contra mujer i...   \n",
       "4    Arequipa: Mujer es sospechosa de pepear a admi...   \n",
       "..                                                 ...   \n",
       "423  Mujer se convierte en viral de TikTok por su r...   \n",
       "424  Expo Mujer inicia ciclo de capacitación para M...   \n",
       "425  Callao: filman a joven mujer encabezando atrac...   \n",
       "426  Conoce el caso de la mujer “secuestrada” a la ...   \n",
       "427  Trujillo: Cadáver de mujer es hallado con el r...   \n",
       "\n",
       "                                                 texto       fecha  \\\n",
       "0    En varias ocasiones se ha comentado sobre el f...  31/05/2025   \n",
       "1    Ante la negativa de no querer retomar la relac...  30/05/2025   \n",
       "2    Una tragedia enlutó nuevamente las carreteras ...  28/05/2025   \n",
       "3     El Juzgado de Investigación Preparatoria de C...  27/05/2025   \n",
       "4    La comerciante Yudy Marlene Valeriano Vilchez ...  26/05/2025   \n",
       "..                                                 ...         ...   \n",
       "423  La delincuencia es una constante en las ciudad...  29/04/2022   \n",
       "424  Expo Mujer como parte de su Programa  de Capac...  15/04/2022   \n",
       "425  Cámaras de seguridad registraron el accionar d...  20/01/2022   \n",
       "426  Un giro increíble dieron las investigaciones s...  26/10/2021   \n",
       "427  Pobladores del distrito de Víctor Larco Herrer...  21/05/2020   \n",
       "\n",
       "                                 distrito   departamento  \\\n",
       "0                                      []             []   \n",
       "1                                      []      [Huánuco]   \n",
       "2                                      []  [Puno, Cusco]   \n",
       "3                                      []         [Puno]   \n",
       "4                                      []     [Arequipa]   \n",
       "..                                    ...            ...   \n",
       "423                                    []             []   \n",
       "424                                    []             []   \n",
       "425                                    []       [Callao]   \n",
       "426  [San Juan de Lurigancho, Lurigancho]  [La Libertad]   \n",
       "427                                    []             []   \n",
       "\n",
       "                      pais  \n",
       "0    [\"perú\", \"argentina\"]  \n",
       "1                       []  \n",
       "2                 [\"perú\"]  \n",
       "3                 [\"perú\"]  \n",
       "4                       []  \n",
       "..                     ...  \n",
       "423             [\"méxico\"]  \n",
       "424               [\"perú\"]  \n",
       "425               [\"perú\"]  \n",
       "426           [\"colombia\"]  \n",
       "427               [\"perú\"]  \n",
       "\n",
       "[428 rows x 7 columns]"
      ]
     },
     "execution_count": 11,
     "metadata": {},
     "output_type": "execute_result"
    }
   ],
   "source": [
    "df"
   ]
  },
  {
   "cell_type": "code",
   "execution_count": 12,
   "id": "4c357eb7",
   "metadata": {},
   "outputs": [],
   "source": [
    "df.to_excel('Noticias_correo.xlsx',index=False)"
   ]
  }
 ],
 "metadata": {
  "kernelspec": {
   "display_name": "base",
   "language": "python",
   "name": "python3"
  },
  "language_info": {
   "codemirror_mode": {
    "name": "ipython",
    "version": 3
   },
   "file_extension": ".py",
   "mimetype": "text/x-python",
   "name": "python",
   "nbconvert_exporter": "python",
   "pygments_lexer": "ipython3",
   "version": "3.12.7"
  }
 },
 "nbformat": 4,
 "nbformat_minor": 5
}
